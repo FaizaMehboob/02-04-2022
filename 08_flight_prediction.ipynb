{
 "cells": [
  {
   "cell_type": "markdown",
   "metadata": {},
   "source": [
    "# Flight price prediction model\n",
    "\n",
    "## Instructions:\n",
    "1. you will have a datset.\n",
    "2. Find the cheapest and expenses flight at a specifics time.\n",
    "3. You have to go through EDA\n",
    "4. ML Model\n",
    "5. Find a sweet spot for a cheap ticket.\n",
    "\n",
    "* Ahmed is a customer of Sastaticket.pk. He is planning to fly from Karachi to Islamabad for his brother's wedding and is currently i the process of choosing tickets. Ahmed has to go to Islamabad but Ahmed also wants to svae some money in the process, so he chooses to wait instead of buy now, simply beacuse ticket prices are just too high.\n",
    "* Is this the right decision? Won't ticket increase in the future? Perhaps there is a sweet-spot Ahmed is hoping to find and mayber he just might find it. This is the problem that you will be tackling in the competition.\n",
    "* Can you predict future prices accurately tosucha degree that you can now tell Ahmed - with confidence - that he has made the wrong decision. Your task boils down to generating optimal predictions for flight prices of multiple airlines. If successfull, your model will contribute greatly to Sastaticket's rich and diverse set of operating algorithms.   "
   ]
  },
  {
   "cell_type": "markdown",
   "metadata": {},
   "source": [
    "# 1. Exploratory Data Analysis:\n",
    "we will ectract information from our data"
   ]
  },
  {
   "cell_type": "code",
   "execution_count": 33,
   "metadata": {},
   "outputs": [],
   "source": [
    "# import libraries\n",
    "import pandas as pd\n",
    "import matplotlib.pyplot as plt\n",
    "import numpy as np\n",
    "import seaborn as sns"
   ]
  },
  {
   "cell_type": "code",
   "execution_count": 34,
   "metadata": {},
   "outputs": [],
   "source": [
    "# df = df.sample(5000) #trick to make sample dataset"
   ]
  },
  {
   "cell_type": "code",
   "execution_count": 35,
   "metadata": {},
   "outputs": [
    {
     "data": {
      "text/plain": [
       "('sastaticket_test.csv', <http.client.HTTPMessage at 0x21c62bfd420>)"
      ]
     },
     "execution_count": 35,
     "metadata": {},
     "output_type": "execute_result"
    }
   ],
   "source": [
    "from urllib.request import urlretrieve\n",
    "urlretrieve(\"https://raw.githubusercontent.com/AammarTufail/machinelearning_ka_chilla/master/Sastaticket_datasets/sastaticket_test.csv\", \"sastaticket_test.csv\")"
   ]
  },
  {
   "cell_type": "code",
   "execution_count": 36,
   "metadata": {},
   "outputs": [
    {
     "data": {
      "text/plain": [
       "('sastaticket_train.csv', <http.client.HTTPMessage at 0x21c670c3040>)"
      ]
     },
     "execution_count": 36,
     "metadata": {},
     "output_type": "execute_result"
    }
   ],
   "source": [
    "from urllib.request import urlretrieve\n",
    "urlretrieve(\"https://raw.githubusercontent.com/AammarTufail/machinelearning_ka_chilla/master/Sastaticket_datasets/sastaticket_train.csv\", \"sastaticket_train.csv\")"
   ]
  },
  {
   "cell_type": "code",
   "execution_count": 37,
   "metadata": {},
   "outputs": [
    {
     "data": {
      "text/html": [
       "<div>\n",
       "<style scoped>\n",
       "    .dataframe tbody tr th:only-of-type {\n",
       "        vertical-align: middle;\n",
       "    }\n",
       "\n",
       "    .dataframe tbody tr th {\n",
       "        vertical-align: top;\n",
       "    }\n",
       "\n",
       "    .dataframe thead th {\n",
       "        text-align: right;\n",
       "    }\n",
       "</style>\n",
       "<table border=\"1\" class=\"dataframe\">\n",
       "  <thead>\n",
       "    <tr style=\"text-align: right;\">\n",
       "      <th></th>\n",
       "      <th>Unnamed: 0.2</th>\n",
       "      <th>Unnamed: 0</th>\n",
       "      <th>f1</th>\n",
       "      <th>f2</th>\n",
       "      <th>f3</th>\n",
       "      <th>f4</th>\n",
       "      <th>f5</th>\n",
       "      <th>f6</th>\n",
       "      <th>f7</th>\n",
       "      <th>f8</th>\n",
       "      <th>f9</th>\n",
       "      <th>f10</th>\n",
       "      <th>Unnamed: 0.1</th>\n",
       "      <th>target</th>\n",
       "    </tr>\n",
       "  </thead>\n",
       "  <tbody>\n",
       "    <tr>\n",
       "      <th>0</th>\n",
       "      <td>276919</td>\n",
       "      <td>276919</td>\n",
       "      <td>2021-01-08 12:43:27.828728+00:00</td>\n",
       "      <td>x</td>\n",
       "      <td>y</td>\n",
       "      <td>2021-01-23 05:00:00+00:00</td>\n",
       "      <td>2021-01-23 07:00:00+00:00</td>\n",
       "      <td>gamma</td>\n",
       "      <td>True</td>\n",
       "      <td>0.0</td>\n",
       "      <td>0</td>\n",
       "      <td>c-2</td>\n",
       "      <td>276919</td>\n",
       "      <td>7400.0</td>\n",
       "    </tr>\n",
       "    <tr>\n",
       "      <th>1</th>\n",
       "      <td>12092463</td>\n",
       "      <td>12092463</td>\n",
       "      <td>2021-07-01 04:45:11.397541+00:00</td>\n",
       "      <td>x</td>\n",
       "      <td>y</td>\n",
       "      <td>2021-07-01 13:00:00+00:00</td>\n",
       "      <td>2021-07-01 15:00:00+00:00</td>\n",
       "      <td>alpha</td>\n",
       "      <td>True</td>\n",
       "      <td>35.0</td>\n",
       "      <td>1</td>\n",
       "      <td>a-9</td>\n",
       "      <td>12092463</td>\n",
       "      <td>15377.0</td>\n",
       "    </tr>\n",
       "    <tr>\n",
       "      <th>2</th>\n",
       "      <td>11061788</td>\n",
       "      <td>11061788</td>\n",
       "      <td>2021-06-24 11:28:47.565115+00:00</td>\n",
       "      <td>x</td>\n",
       "      <td>y</td>\n",
       "      <td>2021-07-29 14:00:00+00:00</td>\n",
       "      <td>2021-07-29 16:00:00+00:00</td>\n",
       "      <td>gamma</td>\n",
       "      <td>True</td>\n",
       "      <td>20.0</td>\n",
       "      <td>1</td>\n",
       "      <td>c-4</td>\n",
       "      <td>11061788</td>\n",
       "      <td>6900.0</td>\n",
       "    </tr>\n",
       "    <tr>\n",
       "      <th>3</th>\n",
       "      <td>8799808</td>\n",
       "      <td>8799808</td>\n",
       "      <td>2021-06-05 11:09:48.655927+00:00</td>\n",
       "      <td>x</td>\n",
       "      <td>y</td>\n",
       "      <td>2021-06-09 16:00:00+00:00</td>\n",
       "      <td>2021-06-09 18:00:00+00:00</td>\n",
       "      <td>alpha</td>\n",
       "      <td>True</td>\n",
       "      <td>15.0</td>\n",
       "      <td>1</td>\n",
       "      <td>a-23</td>\n",
       "      <td>8799808</td>\n",
       "      <td>9707.0</td>\n",
       "    </tr>\n",
       "    <tr>\n",
       "      <th>4</th>\n",
       "      <td>16391150</td>\n",
       "      <td>16391150</td>\n",
       "      <td>2021-07-29 09:53:51.065306+00:00</td>\n",
       "      <td>x</td>\n",
       "      <td>y</td>\n",
       "      <td>2021-08-23 05:00:00+00:00</td>\n",
       "      <td>2021-08-23 06:55:00+00:00</td>\n",
       "      <td>beta</td>\n",
       "      <td>True</td>\n",
       "      <td>20.0</td>\n",
       "      <td>0</td>\n",
       "      <td>b-1</td>\n",
       "      <td>16391150</td>\n",
       "      <td>6500.0</td>\n",
       "    </tr>\n",
       "  </tbody>\n",
       "</table>\n",
       "</div>"
      ],
      "text/plain": [
       "   Unnamed: 0.2  Unnamed: 0                                f1 f2 f3  \\\n",
       "0        276919      276919  2021-01-08 12:43:27.828728+00:00  x  y   \n",
       "1      12092463    12092463  2021-07-01 04:45:11.397541+00:00  x  y   \n",
       "2      11061788    11061788  2021-06-24 11:28:47.565115+00:00  x  y   \n",
       "3       8799808     8799808  2021-06-05 11:09:48.655927+00:00  x  y   \n",
       "4      16391150    16391150  2021-07-29 09:53:51.065306+00:00  x  y   \n",
       "\n",
       "                          f4                         f5     f6    f7    f8  \\\n",
       "0  2021-01-23 05:00:00+00:00  2021-01-23 07:00:00+00:00  gamma  True   0.0   \n",
       "1  2021-07-01 13:00:00+00:00  2021-07-01 15:00:00+00:00  alpha  True  35.0   \n",
       "2  2021-07-29 14:00:00+00:00  2021-07-29 16:00:00+00:00  gamma  True  20.0   \n",
       "3  2021-06-09 16:00:00+00:00  2021-06-09 18:00:00+00:00  alpha  True  15.0   \n",
       "4  2021-08-23 05:00:00+00:00  2021-08-23 06:55:00+00:00   beta  True  20.0   \n",
       "\n",
       "   f9   f10  Unnamed: 0.1   target  \n",
       "0   0   c-2        276919   7400.0  \n",
       "1   1   a-9      12092463  15377.0  \n",
       "2   1   c-4      11061788   6900.0  \n",
       "3   1  a-23       8799808   9707.0  \n",
       "4   0   b-1      16391150   6500.0  "
      ]
     },
     "execution_count": 37,
     "metadata": {},
     "output_type": "execute_result"
    }
   ],
   "source": [
    "# saving a csv file for training dataset\n",
    "df = pd.read_csv('resources/sastaticket_train.csv')\n",
    "df.head()"
   ]
  },
  {
   "cell_type": "code",
   "execution_count": 38,
   "metadata": {},
   "outputs": [
    {
     "data": {
      "text/html": [
       "<div>\n",
       "<style scoped>\n",
       "    .dataframe tbody tr th:only-of-type {\n",
       "        vertical-align: middle;\n",
       "    }\n",
       "\n",
       "    .dataframe tbody tr th {\n",
       "        vertical-align: top;\n",
       "    }\n",
       "\n",
       "    .dataframe thead th {\n",
       "        text-align: right;\n",
       "    }\n",
       "</style>\n",
       "<table border=\"1\" class=\"dataframe\">\n",
       "  <thead>\n",
       "    <tr style=\"text-align: right;\">\n",
       "      <th></th>\n",
       "      <th>Unnamed: 0</th>\n",
       "      <th>f1</th>\n",
       "      <th>f2</th>\n",
       "      <th>f3</th>\n",
       "      <th>f4</th>\n",
       "      <th>f5</th>\n",
       "      <th>f6</th>\n",
       "      <th>f7</th>\n",
       "      <th>f8</th>\n",
       "      <th>f9</th>\n",
       "      <th>f10</th>\n",
       "    </tr>\n",
       "  </thead>\n",
       "  <tbody>\n",
       "    <tr>\n",
       "      <th>0</th>\n",
       "      <td>2694449</td>\n",
       "      <td>2021-09-16 12:20:01.578279+00:00</td>\n",
       "      <td>x</td>\n",
       "      <td>y</td>\n",
       "      <td>2021-10-03 04:40:00+00:00</td>\n",
       "      <td>2021-10-03 06:40:00+00:00</td>\n",
       "      <td>omega</td>\n",
       "      <td>True</td>\n",
       "      <td>20.0</td>\n",
       "      <td>1</td>\n",
       "      <td>d-1</td>\n",
       "    </tr>\n",
       "    <tr>\n",
       "      <th>1</th>\n",
       "      <td>3088556</td>\n",
       "      <td>2021-09-18 20:13:13.612131+00:00</td>\n",
       "      <td>x</td>\n",
       "      <td>y</td>\n",
       "      <td>2021-09-23 17:05:00+00:00</td>\n",
       "      <td>2021-09-23 19:05:00+00:00</td>\n",
       "      <td>omega</td>\n",
       "      <td>True</td>\n",
       "      <td>20.0</td>\n",
       "      <td>1</td>\n",
       "      <td>d-5</td>\n",
       "    </tr>\n",
       "    <tr>\n",
       "      <th>2</th>\n",
       "      <td>3914899</td>\n",
       "      <td>2021-09-24 17:53:41.424953+00:00</td>\n",
       "      <td>x</td>\n",
       "      <td>y</td>\n",
       "      <td>2021-11-10 13:00:00+00:00</td>\n",
       "      <td>2021-11-10 15:00:00+00:00</td>\n",
       "      <td>alpha</td>\n",
       "      <td>True</td>\n",
       "      <td>20.0</td>\n",
       "      <td>1</td>\n",
       "      <td>a-9</td>\n",
       "    </tr>\n",
       "    <tr>\n",
       "      <th>3</th>\n",
       "      <td>1139859</td>\n",
       "      <td>2021-09-07 19:39:07.182848+00:00</td>\n",
       "      <td>x</td>\n",
       "      <td>y</td>\n",
       "      <td>2021-09-13 05:00:00+00:00</td>\n",
       "      <td>2021-09-13 06:55:00+00:00</td>\n",
       "      <td>beta</td>\n",
       "      <td>True</td>\n",
       "      <td>40.0</td>\n",
       "      <td>0</td>\n",
       "      <td>b-1</td>\n",
       "    </tr>\n",
       "    <tr>\n",
       "      <th>4</th>\n",
       "      <td>594648</td>\n",
       "      <td>2021-09-05 03:48:20.099555+00:00</td>\n",
       "      <td>x</td>\n",
       "      <td>y</td>\n",
       "      <td>2021-09-22 04:00:00+00:00</td>\n",
       "      <td>2021-09-22 06:00:00+00:00</td>\n",
       "      <td>alpha</td>\n",
       "      <td>True</td>\n",
       "      <td>20.0</td>\n",
       "      <td>1</td>\n",
       "      <td>a-1</td>\n",
       "    </tr>\n",
       "  </tbody>\n",
       "</table>\n",
       "</div>"
      ],
      "text/plain": [
       "   Unnamed: 0                                f1 f2 f3  \\\n",
       "0     2694449  2021-09-16 12:20:01.578279+00:00  x  y   \n",
       "1     3088556  2021-09-18 20:13:13.612131+00:00  x  y   \n",
       "2     3914899  2021-09-24 17:53:41.424953+00:00  x  y   \n",
       "3     1139859  2021-09-07 19:39:07.182848+00:00  x  y   \n",
       "4      594648  2021-09-05 03:48:20.099555+00:00  x  y   \n",
       "\n",
       "                          f4                         f5     f6    f7    f8  \\\n",
       "0  2021-10-03 04:40:00+00:00  2021-10-03 06:40:00+00:00  omega  True  20.0   \n",
       "1  2021-09-23 17:05:00+00:00  2021-09-23 19:05:00+00:00  omega  True  20.0   \n",
       "2  2021-11-10 13:00:00+00:00  2021-11-10 15:00:00+00:00  alpha  True  20.0   \n",
       "3  2021-09-13 05:00:00+00:00  2021-09-13 06:55:00+00:00   beta  True  40.0   \n",
       "4  2021-09-22 04:00:00+00:00  2021-09-22 06:00:00+00:00  alpha  True  20.0   \n",
       "\n",
       "   f9  f10  \n",
       "0   1  d-1  \n",
       "1   1  d-5  \n",
       "2   1  a-9  \n",
       "3   0  b-1  \n",
       "4   1  a-1  "
      ]
     },
     "execution_count": 38,
     "metadata": {},
     "output_type": "execute_result"
    }
   ],
   "source": [
    "df_test = pd.read_csv('resources/sastaticket_test.csv')\n",
    "df_test.head()\n",
    "# this will give me a chance to look your assignments "
   ]
  },
  {
   "cell_type": "code",
   "execution_count": 39,
   "metadata": {},
   "outputs": [
    {
     "name": "stdout",
     "output_type": "stream",
     "text": [
      "Column, Rows (5000, 14)\n"
     ]
    }
   ],
   "source": [
    "# EDA analysis\n",
    "print(\"Column, Rows\", df.shape)"
   ]
  },
  {
   "cell_type": "code",
   "execution_count": 40,
   "metadata": {},
   "outputs": [
    {
     "name": "stdout",
     "output_type": "stream",
     "text": [
      "<class 'pandas.core.frame.DataFrame'>\n",
      "RangeIndex: 5000 entries, 0 to 4999\n",
      "Data columns (total 14 columns):\n",
      " #   Column        Non-Null Count  Dtype  \n",
      "---  ------        --------------  -----  \n",
      " 0   Unnamed: 0.2  5000 non-null   int64  \n",
      " 1   Unnamed: 0    5000 non-null   int64  \n",
      " 2   f1            5000 non-null   object \n",
      " 3   f2            5000 non-null   object \n",
      " 4   f3            5000 non-null   object \n",
      " 5   f4            5000 non-null   object \n",
      " 6   f5            5000 non-null   object \n",
      " 7   f6            5000 non-null   object \n",
      " 8   f7            5000 non-null   bool   \n",
      " 9   f8            5000 non-null   float64\n",
      " 10  f9            5000 non-null   int64  \n",
      " 11  f10           5000 non-null   object \n",
      " 12  Unnamed: 0.1  5000 non-null   int64  \n",
      " 13  target        5000 non-null   float64\n",
      "dtypes: bool(1), float64(2), int64(4), object(7)\n",
      "memory usage: 512.8+ KB\n"
     ]
    }
   ],
   "source": [
    "# structure\n",
    "df.info()"
   ]
  },
  {
   "cell_type": "code",
   "execution_count": 41,
   "metadata": {},
   "outputs": [
    {
     "data": {
      "text/plain": [
       "Unnamed: 0.2    0\n",
       "Unnamed: 0      0\n",
       "f1              0\n",
       "f2              0\n",
       "f3              0\n",
       "f4              0\n",
       "f5              0\n",
       "f6              0\n",
       "f7              0\n",
       "f8              0\n",
       "f9              0\n",
       "f10             0\n",
       "Unnamed: 0.1    0\n",
       "target          0\n",
       "dtype: int64"
      ]
     },
     "execution_count": 41,
     "metadata": {},
     "output_type": "execute_result"
    }
   ],
   "source": [
    "# check nul values\n",
    "df.isnull().sum()"
   ]
  },
  {
   "cell_type": "code",
   "execution_count": 42,
   "metadata": {},
   "outputs": [
    {
     "data": {
      "text/html": [
       "<div>\n",
       "<style scoped>\n",
       "    .dataframe tbody tr th:only-of-type {\n",
       "        vertical-align: middle;\n",
       "    }\n",
       "\n",
       "    .dataframe tbody tr th {\n",
       "        vertical-align: top;\n",
       "    }\n",
       "\n",
       "    .dataframe thead th {\n",
       "        text-align: right;\n",
       "    }\n",
       "</style>\n",
       "<table border=\"1\" class=\"dataframe\">\n",
       "  <thead>\n",
       "    <tr style=\"text-align: right;\">\n",
       "      <th></th>\n",
       "      <th>Unnamed: 0.2</th>\n",
       "      <th>Unnamed: 0</th>\n",
       "      <th>f8</th>\n",
       "      <th>f9</th>\n",
       "      <th>Unnamed: 0.1</th>\n",
       "      <th>target</th>\n",
       "    </tr>\n",
       "  </thead>\n",
       "  <tbody>\n",
       "    <tr>\n",
       "      <th>count</th>\n",
       "      <td>5.000000e+03</td>\n",
       "      <td>5.000000e+03</td>\n",
       "      <td>5000.000000</td>\n",
       "      <td>5000.000000</td>\n",
       "      <td>5.000000e+03</td>\n",
       "      <td>5000.000000</td>\n",
       "    </tr>\n",
       "    <tr>\n",
       "      <th>mean</th>\n",
       "      <td>1.086293e+07</td>\n",
       "      <td>1.086293e+07</td>\n",
       "      <td>22.494400</td>\n",
       "      <td>0.944600</td>\n",
       "      <td>1.086293e+07</td>\n",
       "      <td>10104.351800</td>\n",
       "    </tr>\n",
       "    <tr>\n",
       "      <th>std</th>\n",
       "      <td>6.275456e+06</td>\n",
       "      <td>6.275456e+06</td>\n",
       "      <td>8.887101</td>\n",
       "      <td>0.607951</td>\n",
       "      <td>6.275456e+06</td>\n",
       "      <td>3359.936118</td>\n",
       "    </tr>\n",
       "    <tr>\n",
       "      <th>min</th>\n",
       "      <td>2.499000e+03</td>\n",
       "      <td>2.499000e+03</td>\n",
       "      <td>0.000000</td>\n",
       "      <td>0.000000</td>\n",
       "      <td>2.499000e+03</td>\n",
       "      <td>4990.000000</td>\n",
       "    </tr>\n",
       "    <tr>\n",
       "      <th>25%</th>\n",
       "      <td>5.417290e+06</td>\n",
       "      <td>5.417290e+06</td>\n",
       "      <td>20.000000</td>\n",
       "      <td>1.000000</td>\n",
       "      <td>5.417290e+06</td>\n",
       "      <td>7796.000000</td>\n",
       "    </tr>\n",
       "    <tr>\n",
       "      <th>50%</th>\n",
       "      <td>1.093803e+07</td>\n",
       "      <td>1.093803e+07</td>\n",
       "      <td>20.000000</td>\n",
       "      <td>1.000000</td>\n",
       "      <td>1.093803e+07</td>\n",
       "      <td>9403.000000</td>\n",
       "    </tr>\n",
       "    <tr>\n",
       "      <th>75%</th>\n",
       "      <td>1.621582e+07</td>\n",
       "      <td>1.621582e+07</td>\n",
       "      <td>32.000000</td>\n",
       "      <td>1.000000</td>\n",
       "      <td>1.621582e+07</td>\n",
       "      <td>11245.000000</td>\n",
       "    </tr>\n",
       "    <tr>\n",
       "      <th>max</th>\n",
       "      <td>2.177443e+07</td>\n",
       "      <td>2.177443e+07</td>\n",
       "      <td>45.000000</td>\n",
       "      <td>2.000000</td>\n",
       "      <td>2.177443e+07</td>\n",
       "      <td>33720.000000</td>\n",
       "    </tr>\n",
       "  </tbody>\n",
       "</table>\n",
       "</div>"
      ],
      "text/plain": [
       "       Unnamed: 0.2    Unnamed: 0           f8           f9  Unnamed: 0.1  \\\n",
       "count  5.000000e+03  5.000000e+03  5000.000000  5000.000000  5.000000e+03   \n",
       "mean   1.086293e+07  1.086293e+07    22.494400     0.944600  1.086293e+07   \n",
       "std    6.275456e+06  6.275456e+06     8.887101     0.607951  6.275456e+06   \n",
       "min    2.499000e+03  2.499000e+03     0.000000     0.000000  2.499000e+03   \n",
       "25%    5.417290e+06  5.417290e+06    20.000000     1.000000  5.417290e+06   \n",
       "50%    1.093803e+07  1.093803e+07    20.000000     1.000000  1.093803e+07   \n",
       "75%    1.621582e+07  1.621582e+07    32.000000     1.000000  1.621582e+07   \n",
       "max    2.177443e+07  2.177443e+07    45.000000     2.000000  2.177443e+07   \n",
       "\n",
       "             target  \n",
       "count   5000.000000  \n",
       "mean   10104.351800  \n",
       "std     3359.936118  \n",
       "min     4990.000000  \n",
       "25%     7796.000000  \n",
       "50%     9403.000000  \n",
       "75%    11245.000000  \n",
       "max    33720.000000  "
      ]
     },
     "execution_count": 42,
     "metadata": {},
     "output_type": "execute_result"
    }
   ],
   "source": [
    "# summary stats\n",
    "df.describe()"
   ]
  },
  {
   "cell_type": "code",
   "execution_count": 43,
   "metadata": {},
   "outputs": [
    {
     "data": {
      "text/html": [
       "<div>\n",
       "<style scoped>\n",
       "    .dataframe tbody tr th:only-of-type {\n",
       "        vertical-align: middle;\n",
       "    }\n",
       "\n",
       "    .dataframe tbody tr th {\n",
       "        vertical-align: top;\n",
       "    }\n",
       "\n",
       "    .dataframe thead th {\n",
       "        text-align: right;\n",
       "    }\n",
       "</style>\n",
       "<table border=\"1\" class=\"dataframe\">\n",
       "  <thead>\n",
       "    <tr style=\"text-align: right;\">\n",
       "      <th></th>\n",
       "      <th>Unnamed: 0.2</th>\n",
       "      <th>Unnamed: 0</th>\n",
       "      <th>f1</th>\n",
       "      <th>f2</th>\n",
       "      <th>f3</th>\n",
       "      <th>f4</th>\n",
       "      <th>f5</th>\n",
       "      <th>f6</th>\n",
       "      <th>f7</th>\n",
       "      <th>f8</th>\n",
       "      <th>f9</th>\n",
       "      <th>f10</th>\n",
       "      <th>Unnamed: 0.1</th>\n",
       "      <th>target</th>\n",
       "    </tr>\n",
       "  </thead>\n",
       "  <tbody>\n",
       "    <tr>\n",
       "      <th>0</th>\n",
       "      <td>276919</td>\n",
       "      <td>276919</td>\n",
       "      <td>2021-01-08 12:43:27.828728+00:00</td>\n",
       "      <td>x</td>\n",
       "      <td>y</td>\n",
       "      <td>2021-01-23 05:00:00+00:00</td>\n",
       "      <td>2021-01-23 07:00:00+00:00</td>\n",
       "      <td>gamma</td>\n",
       "      <td>True</td>\n",
       "      <td>0.0</td>\n",
       "      <td>0</td>\n",
       "      <td>c-2</td>\n",
       "      <td>276919</td>\n",
       "      <td>7400.0</td>\n",
       "    </tr>\n",
       "    <tr>\n",
       "      <th>1</th>\n",
       "      <td>12092463</td>\n",
       "      <td>12092463</td>\n",
       "      <td>2021-07-01 04:45:11.397541+00:00</td>\n",
       "      <td>x</td>\n",
       "      <td>y</td>\n",
       "      <td>2021-07-01 13:00:00+00:00</td>\n",
       "      <td>2021-07-01 15:00:00+00:00</td>\n",
       "      <td>alpha</td>\n",
       "      <td>True</td>\n",
       "      <td>35.0</td>\n",
       "      <td>1</td>\n",
       "      <td>a-9</td>\n",
       "      <td>12092463</td>\n",
       "      <td>15377.0</td>\n",
       "    </tr>\n",
       "    <tr>\n",
       "      <th>2</th>\n",
       "      <td>11061788</td>\n",
       "      <td>11061788</td>\n",
       "      <td>2021-06-24 11:28:47.565115+00:00</td>\n",
       "      <td>x</td>\n",
       "      <td>y</td>\n",
       "      <td>2021-07-29 14:00:00+00:00</td>\n",
       "      <td>2021-07-29 16:00:00+00:00</td>\n",
       "      <td>gamma</td>\n",
       "      <td>True</td>\n",
       "      <td>20.0</td>\n",
       "      <td>1</td>\n",
       "      <td>c-4</td>\n",
       "      <td>11061788</td>\n",
       "      <td>6900.0</td>\n",
       "    </tr>\n",
       "    <tr>\n",
       "      <th>3</th>\n",
       "      <td>8799808</td>\n",
       "      <td>8799808</td>\n",
       "      <td>2021-06-05 11:09:48.655927+00:00</td>\n",
       "      <td>x</td>\n",
       "      <td>y</td>\n",
       "      <td>2021-06-09 16:00:00+00:00</td>\n",
       "      <td>2021-06-09 18:00:00+00:00</td>\n",
       "      <td>alpha</td>\n",
       "      <td>True</td>\n",
       "      <td>15.0</td>\n",
       "      <td>1</td>\n",
       "      <td>a-23</td>\n",
       "      <td>8799808</td>\n",
       "      <td>9707.0</td>\n",
       "    </tr>\n",
       "    <tr>\n",
       "      <th>4</th>\n",
       "      <td>16391150</td>\n",
       "      <td>16391150</td>\n",
       "      <td>2021-07-29 09:53:51.065306+00:00</td>\n",
       "      <td>x</td>\n",
       "      <td>y</td>\n",
       "      <td>2021-08-23 05:00:00+00:00</td>\n",
       "      <td>2021-08-23 06:55:00+00:00</td>\n",
       "      <td>beta</td>\n",
       "      <td>True</td>\n",
       "      <td>20.0</td>\n",
       "      <td>0</td>\n",
       "      <td>b-1</td>\n",
       "      <td>16391150</td>\n",
       "      <td>6500.0</td>\n",
       "    </tr>\n",
       "  </tbody>\n",
       "</table>\n",
       "</div>"
      ],
      "text/plain": [
       "   Unnamed: 0.2  Unnamed: 0                                f1 f2 f3  \\\n",
       "0        276919      276919  2021-01-08 12:43:27.828728+00:00  x  y   \n",
       "1      12092463    12092463  2021-07-01 04:45:11.397541+00:00  x  y   \n",
       "2      11061788    11061788  2021-06-24 11:28:47.565115+00:00  x  y   \n",
       "3       8799808     8799808  2021-06-05 11:09:48.655927+00:00  x  y   \n",
       "4      16391150    16391150  2021-07-29 09:53:51.065306+00:00  x  y   \n",
       "\n",
       "                          f4                         f5     f6    f7    f8  \\\n",
       "0  2021-01-23 05:00:00+00:00  2021-01-23 07:00:00+00:00  gamma  True   0.0   \n",
       "1  2021-07-01 13:00:00+00:00  2021-07-01 15:00:00+00:00  alpha  True  35.0   \n",
       "2  2021-07-29 14:00:00+00:00  2021-07-29 16:00:00+00:00  gamma  True  20.0   \n",
       "3  2021-06-09 16:00:00+00:00  2021-06-09 18:00:00+00:00  alpha  True  15.0   \n",
       "4  2021-08-23 05:00:00+00:00  2021-08-23 06:55:00+00:00   beta  True  20.0   \n",
       "\n",
       "   f9   f10  Unnamed: 0.1   target  \n",
       "0   0   c-2        276919   7400.0  \n",
       "1   1   a-9      12092463  15377.0  \n",
       "2   1   c-4      11061788   6900.0  \n",
       "3   1  a-23       8799808   9707.0  \n",
       "4   0   b-1      16391150   6500.0  "
      ]
     },
     "execution_count": 43,
     "metadata": {},
     "output_type": "execute_result"
    }
   ],
   "source": [
    "df.head()"
   ]
  },
  {
   "cell_type": "code",
   "execution_count": 44,
   "metadata": {},
   "outputs": [
    {
     "name": "stdout",
     "output_type": "stream",
     "text": [
      "Index(['Unnamed: 0.2', 'Unnamed: 0', 'f1', 'f2', 'f3', 'f4', 'f5', 'f6', 'f7',\n",
      "       'f8', 'f9', 'f10', 'Unnamed: 0.1', 'target'],\n",
      "      dtype='object')\n"
     ]
    }
   ],
   "source": [
    "print(df.columns)"
   ]
  },
  {
   "cell_type": "code",
   "execution_count": 45,
   "metadata": {},
   "outputs": [
    {
     "name": "stdout",
     "output_type": "stream",
     "text": [
      "f2 ['x']\n",
      "........................................\n",
      "f3 ['y']\n",
      "........................................\n",
      "f6 ['gamma' 'alpha' 'beta' 'omega']\n",
      "........................................\n",
      "f8 [ 0. 35. 20. 15. 32. 40. 45.]\n",
      "........................................\n",
      "f9 [0 1 2]\n",
      "........................................\n",
      "f10 ['c-2' 'a-9' 'c-4' 'a-23' 'b-1' 'a-5' 'b-9' 'a-7' 'd-1' 'c-6' 'a-1' 'd-5'\n",
      " 'b-69' 'b-19' 'd-3' 'b-319' 'b-369' 'b-67' 'b-73']\n",
      "........................................\n"
     ]
    }
   ],
   "source": [
    "# Feature Engineering\n",
    "#Finding unique values in categorical lists\n",
    "cat_list = ['f2', 'f3', 'f6', 'f8', 'f9', 'f10']\n",
    "\n",
    "#unique value in each column\n",
    "for i in cat_list:\n",
    "    print(i, df[i].unique())\n",
    "    print('........................................') #seprater line"
   ]
  },
  {
   "cell_type": "markdown",
   "metadata": {},
   "source": [
    "- We will remove these two columns f2['x'], f3['y'] because they dont have any multiple unique values\n",
    "will remove 'f10'its flight no.. "
   ]
  },
  {
   "cell_type": "code",
   "execution_count": 46,
   "metadata": {},
   "outputs": [],
   "source": [
    "df.drop(['Unnamed: 0', 'f2', 'f3'], axis=1, inplace=True)"
   ]
  },
  {
   "cell_type": "code",
   "execution_count": 47,
   "metadata": {},
   "outputs": [],
   "source": [
    "df.drop(['Unnamed: 0.1', 'Unnamed: 0.2'], axis=1, inplace=True)"
   ]
  },
  {
   "cell_type": "code",
   "execution_count": 48,
   "metadata": {},
   "outputs": [
    {
     "data": {
      "text/html": [
       "<div>\n",
       "<style scoped>\n",
       "    .dataframe tbody tr th:only-of-type {\n",
       "        vertical-align: middle;\n",
       "    }\n",
       "\n",
       "    .dataframe tbody tr th {\n",
       "        vertical-align: top;\n",
       "    }\n",
       "\n",
       "    .dataframe thead th {\n",
       "        text-align: right;\n",
       "    }\n",
       "</style>\n",
       "<table border=\"1\" class=\"dataframe\">\n",
       "  <thead>\n",
       "    <tr style=\"text-align: right;\">\n",
       "      <th></th>\n",
       "      <th>f1</th>\n",
       "      <th>f4</th>\n",
       "      <th>f5</th>\n",
       "      <th>f6</th>\n",
       "      <th>f7</th>\n",
       "      <th>f8</th>\n",
       "      <th>f9</th>\n",
       "      <th>f10</th>\n",
       "      <th>target</th>\n",
       "    </tr>\n",
       "  </thead>\n",
       "  <tbody>\n",
       "    <tr>\n",
       "      <th>0</th>\n",
       "      <td>2021-01-08 12:43:27.828728+00:00</td>\n",
       "      <td>2021-01-23 05:00:00+00:00</td>\n",
       "      <td>2021-01-23 07:00:00+00:00</td>\n",
       "      <td>gamma</td>\n",
       "      <td>True</td>\n",
       "      <td>0.0</td>\n",
       "      <td>0</td>\n",
       "      <td>c-2</td>\n",
       "      <td>7400.0</td>\n",
       "    </tr>\n",
       "    <tr>\n",
       "      <th>1</th>\n",
       "      <td>2021-07-01 04:45:11.397541+00:00</td>\n",
       "      <td>2021-07-01 13:00:00+00:00</td>\n",
       "      <td>2021-07-01 15:00:00+00:00</td>\n",
       "      <td>alpha</td>\n",
       "      <td>True</td>\n",
       "      <td>35.0</td>\n",
       "      <td>1</td>\n",
       "      <td>a-9</td>\n",
       "      <td>15377.0</td>\n",
       "    </tr>\n",
       "    <tr>\n",
       "      <th>2</th>\n",
       "      <td>2021-06-24 11:28:47.565115+00:00</td>\n",
       "      <td>2021-07-29 14:00:00+00:00</td>\n",
       "      <td>2021-07-29 16:00:00+00:00</td>\n",
       "      <td>gamma</td>\n",
       "      <td>True</td>\n",
       "      <td>20.0</td>\n",
       "      <td>1</td>\n",
       "      <td>c-4</td>\n",
       "      <td>6900.0</td>\n",
       "    </tr>\n",
       "    <tr>\n",
       "      <th>3</th>\n",
       "      <td>2021-06-05 11:09:48.655927+00:00</td>\n",
       "      <td>2021-06-09 16:00:00+00:00</td>\n",
       "      <td>2021-06-09 18:00:00+00:00</td>\n",
       "      <td>alpha</td>\n",
       "      <td>True</td>\n",
       "      <td>15.0</td>\n",
       "      <td>1</td>\n",
       "      <td>a-23</td>\n",
       "      <td>9707.0</td>\n",
       "    </tr>\n",
       "    <tr>\n",
       "      <th>4</th>\n",
       "      <td>2021-07-29 09:53:51.065306+00:00</td>\n",
       "      <td>2021-08-23 05:00:00+00:00</td>\n",
       "      <td>2021-08-23 06:55:00+00:00</td>\n",
       "      <td>beta</td>\n",
       "      <td>True</td>\n",
       "      <td>20.0</td>\n",
       "      <td>0</td>\n",
       "      <td>b-1</td>\n",
       "      <td>6500.0</td>\n",
       "    </tr>\n",
       "  </tbody>\n",
       "</table>\n",
       "</div>"
      ],
      "text/plain": [
       "                                 f1                         f4  \\\n",
       "0  2021-01-08 12:43:27.828728+00:00  2021-01-23 05:00:00+00:00   \n",
       "1  2021-07-01 04:45:11.397541+00:00  2021-07-01 13:00:00+00:00   \n",
       "2  2021-06-24 11:28:47.565115+00:00  2021-07-29 14:00:00+00:00   \n",
       "3  2021-06-05 11:09:48.655927+00:00  2021-06-09 16:00:00+00:00   \n",
       "4  2021-07-29 09:53:51.065306+00:00  2021-08-23 05:00:00+00:00   \n",
       "\n",
       "                          f5     f6    f7    f8  f9   f10   target  \n",
       "0  2021-01-23 07:00:00+00:00  gamma  True   0.0   0   c-2   7400.0  \n",
       "1  2021-07-01 15:00:00+00:00  alpha  True  35.0   1   a-9  15377.0  \n",
       "2  2021-07-29 16:00:00+00:00  gamma  True  20.0   1   c-4   6900.0  \n",
       "3  2021-06-09 18:00:00+00:00  alpha  True  15.0   1  a-23   9707.0  \n",
       "4  2021-08-23 06:55:00+00:00   beta  True  20.0   0   b-1   6500.0  "
      ]
     },
     "execution_count": 48,
     "metadata": {},
     "output_type": "execute_result"
    }
   ],
   "source": [
    "df.head()"
   ]
  },
  {
   "cell_type": "code",
   "execution_count": 49,
   "metadata": {},
   "outputs": [
    {
     "name": "stdout",
     "output_type": "stream",
     "text": [
      "<class 'pandas.core.frame.DataFrame'>\n",
      "RangeIndex: 5000 entries, 0 to 4999\n",
      "Data columns (total 9 columns):\n",
      " #   Column  Non-Null Count  Dtype  \n",
      "---  ------  --------------  -----  \n",
      " 0   f1      5000 non-null   object \n",
      " 1   f4      5000 non-null   object \n",
      " 2   f5      5000 non-null   object \n",
      " 3   f6      5000 non-null   object \n",
      " 4   f7      5000 non-null   bool   \n",
      " 5   f8      5000 non-null   float64\n",
      " 6   f9      5000 non-null   int64  \n",
      " 7   f10     5000 non-null   object \n",
      " 8   target  5000 non-null   float64\n",
      "dtypes: bool(1), float64(2), int64(1), object(5)\n",
      "memory usage: 317.5+ KB\n"
     ]
    }
   ],
   "source": [
    "# type casting \n",
    "df.info()"
   ]
  },
  {
   "cell_type": "code",
   "execution_count": 50,
   "metadata": {},
   "outputs": [],
   "source": [
    "# convert them into dateandtime objects\n",
    "from datetime import date,datetime\n",
    "df['f1'] = pd.to_datetime(df['f1'])\n",
    "df['f4'] = pd.to_datetime(df['f4'])\n",
    "df['f5'] = pd.to_datetime(df['f5'])"
   ]
  },
  {
   "cell_type": "code",
   "execution_count": 51,
   "metadata": {},
   "outputs": [
    {
     "name": "stdout",
     "output_type": "stream",
     "text": [
      "<class 'pandas.core.frame.DataFrame'>\n",
      "RangeIndex: 5000 entries, 0 to 4999\n",
      "Data columns (total 9 columns):\n",
      " #   Column  Non-Null Count  Dtype              \n",
      "---  ------  --------------  -----              \n",
      " 0   f1      5000 non-null   datetime64[ns, UTC]\n",
      " 1   f4      5000 non-null   datetime64[ns, UTC]\n",
      " 2   f5      5000 non-null   datetime64[ns, UTC]\n",
      " 3   f6      5000 non-null   object             \n",
      " 4   f7      5000 non-null   bool               \n",
      " 5   f8      5000 non-null   float64            \n",
      " 6   f9      5000 non-null   int64              \n",
      " 7   f10     5000 non-null   object             \n",
      " 8   target  5000 non-null   float64            \n",
      "dtypes: bool(1), datetime64[ns, UTC](3), float64(2), int64(1), object(2)\n",
      "memory usage: 317.5+ KB\n"
     ]
    }
   ],
   "source": [
    "df.info()"
   ]
  },
  {
   "cell_type": "code",
   "execution_count": 52,
   "metadata": {},
   "outputs": [],
   "source": [
    "# adding columns after substraction\n",
    "df.insert(0, \"time_to_dep(s)\", ((df['f4']-df['f1']).astype('timedelta64[s]')), True)\n",
    "df.insert(1, \"travel_time(s)\", ((df['f5']-df['f4']).astype('timedelta64[s]')), True)"
   ]
  },
  {
   "cell_type": "code",
   "execution_count": 53,
   "metadata": {},
   "outputs": [
    {
     "data": {
      "text/html": [
       "<div>\n",
       "<style scoped>\n",
       "    .dataframe tbody tr th:only-of-type {\n",
       "        vertical-align: middle;\n",
       "    }\n",
       "\n",
       "    .dataframe tbody tr th {\n",
       "        vertical-align: top;\n",
       "    }\n",
       "\n",
       "    .dataframe thead th {\n",
       "        text-align: right;\n",
       "    }\n",
       "</style>\n",
       "<table border=\"1\" class=\"dataframe\">\n",
       "  <thead>\n",
       "    <tr style=\"text-align: right;\">\n",
       "      <th></th>\n",
       "      <th>time_to_dep(s)</th>\n",
       "      <th>travel_time(s)</th>\n",
       "      <th>f1</th>\n",
       "      <th>f4</th>\n",
       "      <th>f5</th>\n",
       "      <th>f6</th>\n",
       "      <th>f7</th>\n",
       "      <th>f8</th>\n",
       "      <th>f9</th>\n",
       "      <th>f10</th>\n",
       "      <th>target</th>\n",
       "    </tr>\n",
       "  </thead>\n",
       "  <tbody>\n",
       "    <tr>\n",
       "      <th>0</th>\n",
       "      <td>1268192.0</td>\n",
       "      <td>7200.0</td>\n",
       "      <td>2021-01-08 12:43:27.828728+00:00</td>\n",
       "      <td>2021-01-23 05:00:00+00:00</td>\n",
       "      <td>2021-01-23 07:00:00+00:00</td>\n",
       "      <td>gamma</td>\n",
       "      <td>True</td>\n",
       "      <td>0.0</td>\n",
       "      <td>0</td>\n",
       "      <td>c-2</td>\n",
       "      <td>7400.0</td>\n",
       "    </tr>\n",
       "    <tr>\n",
       "      <th>1</th>\n",
       "      <td>29688.0</td>\n",
       "      <td>7200.0</td>\n",
       "      <td>2021-07-01 04:45:11.397541+00:00</td>\n",
       "      <td>2021-07-01 13:00:00+00:00</td>\n",
       "      <td>2021-07-01 15:00:00+00:00</td>\n",
       "      <td>alpha</td>\n",
       "      <td>True</td>\n",
       "      <td>35.0</td>\n",
       "      <td>1</td>\n",
       "      <td>a-9</td>\n",
       "      <td>15377.0</td>\n",
       "    </tr>\n",
       "    <tr>\n",
       "      <th>2</th>\n",
       "      <td>3033072.0</td>\n",
       "      <td>7200.0</td>\n",
       "      <td>2021-06-24 11:28:47.565115+00:00</td>\n",
       "      <td>2021-07-29 14:00:00+00:00</td>\n",
       "      <td>2021-07-29 16:00:00+00:00</td>\n",
       "      <td>gamma</td>\n",
       "      <td>True</td>\n",
       "      <td>20.0</td>\n",
       "      <td>1</td>\n",
       "      <td>c-4</td>\n",
       "      <td>6900.0</td>\n",
       "    </tr>\n",
       "    <tr>\n",
       "      <th>3</th>\n",
       "      <td>363011.0</td>\n",
       "      <td>7200.0</td>\n",
       "      <td>2021-06-05 11:09:48.655927+00:00</td>\n",
       "      <td>2021-06-09 16:00:00+00:00</td>\n",
       "      <td>2021-06-09 18:00:00+00:00</td>\n",
       "      <td>alpha</td>\n",
       "      <td>True</td>\n",
       "      <td>15.0</td>\n",
       "      <td>1</td>\n",
       "      <td>a-23</td>\n",
       "      <td>9707.0</td>\n",
       "    </tr>\n",
       "    <tr>\n",
       "      <th>4</th>\n",
       "      <td>2142368.0</td>\n",
       "      <td>6900.0</td>\n",
       "      <td>2021-07-29 09:53:51.065306+00:00</td>\n",
       "      <td>2021-08-23 05:00:00+00:00</td>\n",
       "      <td>2021-08-23 06:55:00+00:00</td>\n",
       "      <td>beta</td>\n",
       "      <td>True</td>\n",
       "      <td>20.0</td>\n",
       "      <td>0</td>\n",
       "      <td>b-1</td>\n",
       "      <td>6500.0</td>\n",
       "    </tr>\n",
       "  </tbody>\n",
       "</table>\n",
       "</div>"
      ],
      "text/plain": [
       "   time_to_dep(s)  travel_time(s)                               f1  \\\n",
       "0       1268192.0          7200.0 2021-01-08 12:43:27.828728+00:00   \n",
       "1         29688.0          7200.0 2021-07-01 04:45:11.397541+00:00   \n",
       "2       3033072.0          7200.0 2021-06-24 11:28:47.565115+00:00   \n",
       "3        363011.0          7200.0 2021-06-05 11:09:48.655927+00:00   \n",
       "4       2142368.0          6900.0 2021-07-29 09:53:51.065306+00:00   \n",
       "\n",
       "                         f4                        f5     f6    f7    f8  f9  \\\n",
       "0 2021-01-23 05:00:00+00:00 2021-01-23 07:00:00+00:00  gamma  True   0.0   0   \n",
       "1 2021-07-01 13:00:00+00:00 2021-07-01 15:00:00+00:00  alpha  True  35.0   1   \n",
       "2 2021-07-29 14:00:00+00:00 2021-07-29 16:00:00+00:00  gamma  True  20.0   1   \n",
       "3 2021-06-09 16:00:00+00:00 2021-06-09 18:00:00+00:00  alpha  True  15.0   1   \n",
       "4 2021-08-23 05:00:00+00:00 2021-08-23 06:55:00+00:00   beta  True  20.0   0   \n",
       "\n",
       "    f10   target  \n",
       "0   c-2   7400.0  \n",
       "1   a-9  15377.0  \n",
       "2   c-4   6900.0  \n",
       "3  a-23   9707.0  \n",
       "4   b-1   6500.0  "
      ]
     },
     "execution_count": 53,
     "metadata": {},
     "output_type": "execute_result"
    }
   ],
   "source": [
    "df.head()"
   ]
  },
  {
   "cell_type": "code",
   "execution_count": 54,
   "metadata": {},
   "outputs": [
    {
     "data": {
      "text/plain": [
       "time_to_dep(s)    0\n",
       "travel_time(s)    0\n",
       "f1                0\n",
       "f4                0\n",
       "f5                0\n",
       "f6                0\n",
       "f7                0\n",
       "f8                0\n",
       "f9                0\n",
       "f10               0\n",
       "target            0\n",
       "dtype: int64"
      ]
     },
     "execution_count": 54,
     "metadata": {},
     "output_type": "execute_result"
    }
   ],
   "source": [
    "df.isnull().sum()"
   ]
  },
  {
   "cell_type": "code",
   "execution_count": 55,
   "metadata": {},
   "outputs": [],
   "source": [
    "df = df.rename(columns={'f12' : 'f1'})"
   ]
  },
  {
   "cell_type": "code",
   "execution_count": 56,
   "metadata": {},
   "outputs": [
    {
     "data": {
      "text/html": [
       "<div>\n",
       "<style scoped>\n",
       "    .dataframe tbody tr th:only-of-type {\n",
       "        vertical-align: middle;\n",
       "    }\n",
       "\n",
       "    .dataframe tbody tr th {\n",
       "        vertical-align: top;\n",
       "    }\n",
       "\n",
       "    .dataframe thead th {\n",
       "        text-align: right;\n",
       "    }\n",
       "</style>\n",
       "<table border=\"1\" class=\"dataframe\">\n",
       "  <thead>\n",
       "    <tr style=\"text-align: right;\">\n",
       "      <th></th>\n",
       "      <th>time_to_dep(s)</th>\n",
       "      <th>travel_time(s)</th>\n",
       "      <th>f1</th>\n",
       "      <th>f4</th>\n",
       "      <th>f5</th>\n",
       "      <th>f6</th>\n",
       "      <th>f7</th>\n",
       "      <th>f8</th>\n",
       "      <th>f9</th>\n",
       "      <th>f10</th>\n",
       "      <th>target</th>\n",
       "    </tr>\n",
       "  </thead>\n",
       "  <tbody>\n",
       "    <tr>\n",
       "      <th>0</th>\n",
       "      <td>1268192.0</td>\n",
       "      <td>7200.0</td>\n",
       "      <td>2021-01-08 12:43:27.828728+00:00</td>\n",
       "      <td>2021-01-23 05:00:00+00:00</td>\n",
       "      <td>2021-01-23 07:00:00+00:00</td>\n",
       "      <td>gamma</td>\n",
       "      <td>True</td>\n",
       "      <td>0.0</td>\n",
       "      <td>0</td>\n",
       "      <td>c-2</td>\n",
       "      <td>7400.0</td>\n",
       "    </tr>\n",
       "    <tr>\n",
       "      <th>1</th>\n",
       "      <td>29688.0</td>\n",
       "      <td>7200.0</td>\n",
       "      <td>2021-07-01 04:45:11.397541+00:00</td>\n",
       "      <td>2021-07-01 13:00:00+00:00</td>\n",
       "      <td>2021-07-01 15:00:00+00:00</td>\n",
       "      <td>alpha</td>\n",
       "      <td>True</td>\n",
       "      <td>35.0</td>\n",
       "      <td>1</td>\n",
       "      <td>a-9</td>\n",
       "      <td>15377.0</td>\n",
       "    </tr>\n",
       "    <tr>\n",
       "      <th>2</th>\n",
       "      <td>3033072.0</td>\n",
       "      <td>7200.0</td>\n",
       "      <td>2021-06-24 11:28:47.565115+00:00</td>\n",
       "      <td>2021-07-29 14:00:00+00:00</td>\n",
       "      <td>2021-07-29 16:00:00+00:00</td>\n",
       "      <td>gamma</td>\n",
       "      <td>True</td>\n",
       "      <td>20.0</td>\n",
       "      <td>1</td>\n",
       "      <td>c-4</td>\n",
       "      <td>6900.0</td>\n",
       "    </tr>\n",
       "    <tr>\n",
       "      <th>3</th>\n",
       "      <td>363011.0</td>\n",
       "      <td>7200.0</td>\n",
       "      <td>2021-06-05 11:09:48.655927+00:00</td>\n",
       "      <td>2021-06-09 16:00:00+00:00</td>\n",
       "      <td>2021-06-09 18:00:00+00:00</td>\n",
       "      <td>alpha</td>\n",
       "      <td>True</td>\n",
       "      <td>15.0</td>\n",
       "      <td>1</td>\n",
       "      <td>a-23</td>\n",
       "      <td>9707.0</td>\n",
       "    </tr>\n",
       "    <tr>\n",
       "      <th>4</th>\n",
       "      <td>2142368.0</td>\n",
       "      <td>6900.0</td>\n",
       "      <td>2021-07-29 09:53:51.065306+00:00</td>\n",
       "      <td>2021-08-23 05:00:00+00:00</td>\n",
       "      <td>2021-08-23 06:55:00+00:00</td>\n",
       "      <td>beta</td>\n",
       "      <td>True</td>\n",
       "      <td>20.0</td>\n",
       "      <td>0</td>\n",
       "      <td>b-1</td>\n",
       "      <td>6500.0</td>\n",
       "    </tr>\n",
       "  </tbody>\n",
       "</table>\n",
       "</div>"
      ],
      "text/plain": [
       "   time_to_dep(s)  travel_time(s)                               f1  \\\n",
       "0       1268192.0          7200.0 2021-01-08 12:43:27.828728+00:00   \n",
       "1         29688.0          7200.0 2021-07-01 04:45:11.397541+00:00   \n",
       "2       3033072.0          7200.0 2021-06-24 11:28:47.565115+00:00   \n",
       "3        363011.0          7200.0 2021-06-05 11:09:48.655927+00:00   \n",
       "4       2142368.0          6900.0 2021-07-29 09:53:51.065306+00:00   \n",
       "\n",
       "                         f4                        f5     f6    f7    f8  f9  \\\n",
       "0 2021-01-23 05:00:00+00:00 2021-01-23 07:00:00+00:00  gamma  True   0.0   0   \n",
       "1 2021-07-01 13:00:00+00:00 2021-07-01 15:00:00+00:00  alpha  True  35.0   1   \n",
       "2 2021-07-29 14:00:00+00:00 2021-07-29 16:00:00+00:00  gamma  True  20.0   1   \n",
       "3 2021-06-09 16:00:00+00:00 2021-06-09 18:00:00+00:00  alpha  True  15.0   1   \n",
       "4 2021-08-23 05:00:00+00:00 2021-08-23 06:55:00+00:00   beta  True  20.0   0   \n",
       "\n",
       "    f10   target  \n",
       "0   c-2   7400.0  \n",
       "1   a-9  15377.0  \n",
       "2   c-4   6900.0  \n",
       "3  a-23   9707.0  \n",
       "4   b-1   6500.0  "
      ]
     },
     "execution_count": 56,
     "metadata": {},
     "output_type": "execute_result"
    }
   ],
   "source": [
    "df.head()"
   ]
  },
  {
   "cell_type": "code",
   "execution_count": 57,
   "metadata": {},
   "outputs": [],
   "source": [
    "cat_cols = ['f6', 'f7','f8','f9']\n",
    "num_cols = ['time_to_dep(s)', 'travel_time(s)']"
   ]
  },
  {
   "cell_type": "code",
   "execution_count": 58,
   "metadata": {},
   "outputs": [
    {
     "name": "stderr",
     "output_type": "stream",
     "text": [
      "C:\\Users\\Faiza\\AppData\\Local\\Programs\\Python\\Python310\\lib\\site-packages\\seaborn\\_decorators.py:36: FutureWarning: Pass the following variable as a keyword arg: x. From version 0.12, the only valid positional argument will be `data`, and passing other arguments without an explicit keyword will result in an error or misinterpretation.\n",
      "  warnings.warn(\n",
      "C:\\Users\\Faiza\\AppData\\Local\\Programs\\Python\\Python310\\lib\\site-packages\\seaborn\\_decorators.py:36: FutureWarning: Pass the following variable as a keyword arg: x. From version 0.12, the only valid positional argument will be `data`, and passing other arguments without an explicit keyword will result in an error or misinterpretation.\n",
      "  warnings.warn(\n",
      "C:\\Users\\Faiza\\AppData\\Local\\Programs\\Python\\Python310\\lib\\site-packages\\seaborn\\_decorators.py:36: FutureWarning: Pass the following variable as a keyword arg: x. From version 0.12, the only valid positional argument will be `data`, and passing other arguments without an explicit keyword will result in an error or misinterpretation.\n",
      "  warnings.warn(\n",
      "C:\\Users\\Faiza\\AppData\\Local\\Programs\\Python\\Python310\\lib\\site-packages\\seaborn\\_decorators.py:36: FutureWarning: Pass the following variable as a keyword arg: x. From version 0.12, the only valid positional argument will be `data`, and passing other arguments without an explicit keyword will result in an error or misinterpretation.\n",
      "  warnings.warn(\n"
     ]
    },
    {
     "data": {
      "image/png": "[encoded data removed]",
      "text/plain": [
       "<Figure size 2160x2160 with 4 Axes>"
      ]
     },
     "metadata": {
      "needs_background": "light"
     },
     "output_type": "display_data"
    }
   ],
   "source": [
    "# Plotting categorical count plot\n",
    "c=1\n",
    "plt.figure(figsize= (30, 30))\n",
    "for i in cat_cols:\n",
    "    plt.subplot(2,4,c)\n",
    "    sns.countplot(df[i])\n",
    "    plt.xticks(rotation=90)\n",
    "    c= c+1\n",
    "plt.show()"
   ]
  },
  {
   "cell_type": "code",
   "execution_count": 59,
   "metadata": {},
   "outputs": [
    {
     "name": "stderr",
     "output_type": "stream",
     "text": [
      "C:\\Users\\Faiza\\AppData\\Local\\Programs\\Python\\Python310\\lib\\site-packages\\seaborn\\distributions.py:2619: FutureWarning: `distplot` is a deprecated function and will be removed in a future version. Please adapt your code to use either `displot` (a figure-level function with similar flexibility) or `histplot` (an axes-level function for histograms).\n",
      "  warnings.warn(msg, FutureWarning)\n",
      "C:\\Users\\Faiza\\AppData\\Local\\Programs\\Python\\Python310\\lib\\site-packages\\seaborn\\distributions.py:2619: FutureWarning: `distplot` is a deprecated function and will be removed in a future version. Please adapt your code to use either `displot` (a figure-level function with similar flexibility) or `histplot` (an axes-level function for histograms).\n",
      "  warnings.warn(msg, FutureWarning)\n"
     ]
    },
    {
     "data": {
      "image/png": "[encoded data removed]",
      "text/plain": [
       "<Figure size 720x2160 with 2 Axes>"
      ]
     },
     "metadata": {
      "needs_background": "light"
     },
     "output_type": "display_data"
    }
   ],
   "source": [
    "# Plotting numerical count plot\n",
    "c=1\n",
    "plt.figure(figsize= (10, 30))\n",
    "for i in num_cols:\n",
    "    plt.subplot(6,3,c)\n",
    "    sns.distplot(df[i])\n",
    "    c= c+1\n",
    "plt.show()"
   ]
  },
  {
   "cell_type": "code",
   "execution_count": 60,
   "metadata": {},
   "outputs": [
    {
     "name": "stderr",
     "output_type": "stream",
     "text": [
      "C:\\Users\\Faiza\\AppData\\Local\\Programs\\Python\\Python310\\lib\\site-packages\\seaborn\\distributions.py:2619: FutureWarning: `distplot` is a deprecated function and will be removed in a future version. Please adapt your code to use either `displot` (a figure-level function with similar flexibility) or `histplot` (an axes-level function for histograms).\n",
      "  warnings.warn(msg, FutureWarning)\n"
     ]
    },
    {
     "data": {
      "text/plain": [
       "<AxesSubplot:xlabel='target', ylabel='Density'>"
      ]
     },
     "execution_count": 60,
     "metadata": {},
     "output_type": "execute_result"
    },
    {
     "data": {
      "image/png": "[encoded data removed]",
      "text/plain": [
       "<Figure size 432x288 with 1 Axes>"
      ]
     },
     "metadata": {
      "needs_background": "light"
     },
     "output_type": "display_data"
    }
   ],
   "source": [
    "# target \n",
    "sns.distplot(df['target'])"
   ]
  },
  {
   "cell_type": "code",
   "execution_count": 61,
   "metadata": {},
   "outputs": [
    {
     "name": "stderr",
     "output_type": "stream",
     "text": [
      "C:\\Users\\Faiza\\AppData\\Local\\Programs\\Python\\Python310\\lib\\site-packages\\seaborn\\_decorators.py:36: FutureWarning: Pass the following variable as a keyword arg: x. From version 0.12, the only valid positional argument will be `data`, and passing other arguments without an explicit keyword will result in an error or misinterpretation.\n",
      "  warnings.warn(\n"
     ]
    },
    {
     "data": {
      "text/plain": [
       "<AxesSubplot:xlabel='target'>"
      ]
     },
     "execution_count": 61,
     "metadata": {},
     "output_type": "execute_result"
    },
    {
     "data": {
      "image/png": "[encoded data removed]",
      "text/plain": [
       "<Figure size 432x288 with 1 Axes>"
      ]
     },
     "metadata": {
      "needs_background": "light"
     },
     "output_type": "display_data"
    }
   ],
   "source": [
    "sns.boxplot(df['target'])"
   ]
  },
  {
   "cell_type": "code",
   "execution_count": 62,
   "metadata": {},
   "outputs": [],
   "source": [
    "# out liers removal # task"
   ]
  }
 ],
 "metadata": {
  "interpreter": {
   "hash": "7d879eeb156f65419db01e8a572f4f27c0bd6f53e98e8ef3c73ec73573d4a5b4"
  },
  "kernelspec": {
   "display_name": "Python 3.10.4 64-bit",
   "language": "python",
   "name": "python3"
  },
  "language_info": {
   "codemirror_mode": {
    "name": "ipython",
    "version": 3
   },
   "file_extension": ".py",
   "mimetype": "text/x-python",
   "name": "python",
   "nbconvert_exporter": "python",
   "pygments_lexer": "ipython3",
   "version": "3.10.4"
  },
  "orig_nbformat": 4
 },
 "nbformat": 4,
 "nbformat_minor": 2
}
