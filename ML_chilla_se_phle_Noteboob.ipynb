{
 "cells": [
  {
   "cell_type": "markdown",
   "metadata": {},
   "source": [
    "# Python ka chilla\n",
    "## How to use Jupyter Note Book\n",
    "### Basics of Python\n",
    "1 - My first program\n"
   ]
  },
  {
   "cell_type": "code",
   "execution_count": null,
   "metadata": {},
   "outputs": [],
   "source": [
    "print(\"Hello Python\")\n",
    "print(\"Wrinting First line of code in Python\")\n",
    "print(\"I am Faiza\")\n"
   ]
  },
  {
   "cell_type": "markdown",
   "metadata": {},
   "source": [
    "## 2- Operators"
   ]
  },
  {
   "cell_type": "code",
   "execution_count": null,
   "metadata": {
    "colab": {
     "base_uri": "https://localhost:8080/"
    },
    "executionInfo": {
     "elapsed": 415,
     "status": "ok",
     "timestamp": 1641122857121,
     "user": {
      "displayName": "Faiza Mehboob",
      "photoUrl": "https://lh3.googleusercontent.com/a-/AOh14Gi7BJBml3eoobMQIzcc3g3bPIpfc2DF9P2QQMY=s64",
      "userId": "04366228182199257668"
     },
     "user_tz": -300
    },
    "id": "cSnQ4CjOiWp8",
    "outputId": "50a95d46-aa63-4161-d4d7-b6567d4c351c"
   },
   "outputs": [],
   "source": [
    "\n",
    "print(2+1)  #Addition\n",
    "print(3-1)   #Subtraction\n",
    "print(6/2) #Divisionwithfloatingpoints\n",
    "print(2*3)   #Multiplication\n",
    "print(13%2)#Reminder\n",
    "print(6//2) #Division\n",
    "print(2**3)\n"
   ]
  },
  {
   "cell_type": "markdown",
   "metadata": {},
   "source": [
    "## 3- Strings"
   ]
  },
  {
   "cell_type": "code",
   "execution_count": null,
   "metadata": {
    "colab": {
     "base_uri": "https://localhost:8080/"
    },
    "executionInfo": {
     "elapsed": 376,
     "status": "ok",
     "timestamp": 1641123015998,
     "user": {
      "displayName": "Faiza Mehboob",
      "photoUrl": "https://lh3.googleusercontent.com/a-/AOh14Gi7BJBml3eoobMQIzcc3g3bPIpfc2DF9P2QQMY=s64",
      "userId": "04366228182199257668"
     },
     "user_tz": -300
    },
    "id": "Ky-2dVbli7vi",
    "outputId": "21088b92-c1b6-43b1-b7cd-c0f628aabc53"
   },
   "outputs": [],
   "source": [
    "\n",
    "print(\"Faiza\")\n",
    "print(\"Hello world\")\n",
    "print('Faiza')\n",
    "print(''' Faiza''')\n",
    "\n",
    "print('   Hello    world')"
   ]
  },
  {
   "cell_type": "markdown",
   "metadata": {},
   "source": [
    "## 4-Comment "
   ]
  },
  {
   "cell_type": "code",
   "execution_count": null,
   "metadata": {
    "id": "eLGpR8WEjUeM"
   },
   "outputs": [],
   "source": [
    "print(\"I am single line comment\") # I am single line comment\n",
    "\n",
    "print(\"I am first line \") \n",
    "print(\"I am 2nd line \")\n",
    "\n",
    "# print(\"I am first line \")\n",
    "# print(\"I am 2nd line \")\n",
    "\n",
    "# I am Multi line comment"
   ]
  },
  {
   "cell_type": "markdown",
   "metadata": {},
   "source": [
    "### 5-Variables"
   ]
  },
  {
   "cell_type": "code",
   "execution_count": null,
   "metadata": {
    "colab": {
     "base_uri": "https://localhost:8080/"
    },
    "executionInfo": {
     "elapsed": 419,
     "status": "ok",
     "timestamp": 1641123391362,
     "user": {
      "displayName": "Faiza Mehboob",
      "photoUrl": "https://lh3.googleusercontent.com/a-/AOh14Gi7BJBml3eoobMQIzcc3g3bPIpfc2DF9P2QQMY=s64",
      "userId": "04366228182199257668"
     },
     "user_tz": -300
    },
    "id": "ipy3RgA3itUg",
    "outputId": "cc8a135a-ece4-4964-bb77-a3a14f84177f"
   },
   "outputs": [],
   "source": [
    "2+3\n",
    "a=5\n",
    "print(a)\n",
    "a=4\n",
    "print(a+3)\n",
    "(print(type(a)))\n",
    "#String variables\n",
    "y=\"Hello string\"\n",
    "print(y)\n",
    "books=\"Maths\"\n",
    "print(books)\n",
    "#types of variables\n",
    "type(a)\n",
    "print(type(a))\n",
    "#print_type_class\n",
    "\n",
    "#Rules\n",
    "#-The variable should contain letters, numbers or underscore\n",
    "#-2 Do not start with numbers\n",
    "#-Spaces are not allowed\n",
    "#-4 Do not use keyewords\n",
    "#- short and descriptive\n",
    "#-Case senesitive \n",
    "fruit_basket = 8\n",
    "fruit_basket= \"mangoes\"\n",
    "print(type(fruit_basket))\n",
    "print(fruit_basket)"
   ]
  },
  {
   "cell_type": "markdown",
   "metadata": {},
   "source": [
    "### 6-Input Vriables"
   ]
  },
  {
   "cell_type": "code",
   "execution_count": null,
   "metadata": {
    "colab": {
     "base_uri": "https://localhost:8080/"
    },
    "executionInfo": {
     "elapsed": 4171,
     "status": "ok",
     "timestamp": 1641123697574,
     "user": {
      "displayName": "Faiza Mehboob",
      "photoUrl": "https://lh3.googleusercontent.com/a-/AOh14Gi7BJBml3eoobMQIzcc3g3bPIpfc2DF9P2QQMY=s64",
      "userId": "04366228182199257668"
     },
     "user_tz": -300
    },
    "id": "tYhXxqGtliCb",
    "outputId": "fd2d234d-0805-4237-9f74-60d283248a16"
   },
   "outputs": [],
   "source": [
    "#Input variables\n",
    "# fruitbasket=\"Grapes\"\n",
    "# print(fruitbasket)\n",
    "\n",
    "# fruitbasket=input(\"What is your favourite fruit\")\n",
    "# print(fruitbasket)\n",
    "# #inout function of 2nd stage\\\n",
    "# name = input(\"What is your name\")\n",
    "# greeting=\"Hello!\"\n",
    "\n",
    "# print(greeting, name)\n",
    "\n",
    "#another way of stage 2 unout function\n",
    "# name= input(\"What is your name\")\n",
    "# print(\"Hello!\", name)\n",
    "\n",
    "#3rd stage inout function\n",
    "name= input(\"What is your name\")\n",
    "age= input(\"How old are you\")\n",
    "greeting=\"Hello!\"\n",
    "\n",
    "print(greeting, name, \", You are still young\")"
   ]
  },
  {
   "cell_type": "code",
   "execution_count": null,
   "metadata": {
    "colab": {
     "base_uri": "https://localhost:8080/"
    },
    "executionInfo": {
     "elapsed": 6433,
     "status": "ok",
     "timestamp": 1641124456236,
     "user": {
      "displayName": "Faiza Mehboob",
      "photoUrl": "https://lh3.googleusercontent.com/a-/AOh14Gi7BJBml3eoobMQIzcc3g3bPIpfc2DF9P2QQMY=s64",
      "userId": "04366228182199257668"
     },
     "user_tz": -300
    },
    "id": "3RinWkwzmHdn",
    "outputId": "ee80bc42-4e2f-4d46-b3ea-e360f5123802"
   },
   "outputs": [],
   "source": [
    "#Name=input(\"What is your name: \")\n",
    "#print(Name)\n",
    "greetings=\"Hello\"\n",
    "\n",
    "Name=input(\"What is your name: \")\n",
    "age=input(\"What is your age\")\n",
    "print(greetings,Name, \",you are still young\")"
   ]
  },
  {
   "cell_type": "markdown",
   "metadata": {},
   "source": [
    "### 7-Conditional Logic"
   ]
  },
  {
   "cell_type": "code",
   "execution_count": null,
   "metadata": {
    "colab": {
     "base_uri": "https://localhost:8080/"
    },
    "executionInfo": {
     "elapsed": 367,
     "status": "ok",
     "timestamp": 1641124891774,
     "user": {
      "displayName": "Faiza Mehboob",
      "photoUrl": "https://lh3.googleusercontent.com/a-/AOh14Gi7BJBml3eoobMQIzcc3g3bPIpfc2DF9P2QQMY=s64",
      "userId": "04366228182199257668"
     },
     "user_tz": -300
    },
    "id": "SKCHqgEUpPd4",
    "outputId": "fd00615c-9e79-4a49-c4ec-cd71303f4cd6"
   },
   "outputs": [],
   "source": [
    "#equal to ==\n",
    "#less than <\n",
    "#greater than >\n",
    "#not equal to !<\n",
    "#less than or equal to <=\n",
    "#greater than or equal to >=\n",
    "\n",
    "print(4==4)\n",
    "print(4!=4)\n",
    "print(4<=5)\n",
    "print(5>=8)\n",
    "\n",
    "# Application of logical operator \n",
    "# hammad_age=3\n",
    "# age_school=5\n",
    "# print(hammad_age==age_school)\n",
    "# hammad_age=3\n",
    "# age_school=5\n",
    "# print(hammad_age==age_school)\n",
    "# print(type(hammad_age))\n",
    "\n",
    "#inout function and logical operator\n",
    "age_school=5\n",
    "hammad_age=input(\"How old is Hammad? \") #input function\n",
    "hammad_age=int(hammad_age)\n",
    "print(type(hammad_age)) \n",
    "print(hammad_age==age_school) #logical operator\n"
   ]
  },
  {
   "cell_type": "markdown",
   "metadata": {},
   "source": [
    "### 8-Type conversion"
   ]
  },
  {
   "cell_type": "code",
   "execution_count": null,
   "metadata": {
    "colab": {
     "base_uri": "https://localhost:8080/"
    },
    "executionInfo": {
     "elapsed": 381,
     "status": "ok",
     "timestamp": 1641130189540,
     "user": {
      "displayName": "Faiza Mehboob",
      "photoUrl": "https://lh3.googleusercontent.com/a-/AOh14Gi7BJBml3eoobMQIzcc3g3bPIpfc2DF9P2QQMY=s64",
      "userId": "04366228182199257668"
     },
     "user_tz": -300
    },
    "id": "741tM046wcpF",
    "outputId": "6395f306-f245-4df4-8c2f-f3da2335808d"
   },
   "outputs": [],
   "source": [
    "# x=15 #integer\n",
    "# y=2.3 #float\n",
    "# z=\"Hello\"  #string\n",
    "# #implicity type cobersion\n",
    "# x=x+y\n",
    "# print(x, \"Type of x is:\", type(x))\n",
    "\n",
    "# age =input(\"what isyour age? \")\n",
    "# #age=int(age)\n",
    "# print(age, type(float(age)))\n",
    "\n",
    "#name\n",
    "\n",
    "name =input(\"what is your name? \")\n",
    "print(name, type(str(name)))"
   ]
  },
  {
   "cell_type": "markdown",
   "metadata": {},
   "source": [
    "### 9-If Else Elif"
   ]
  },
  {
   "cell_type": "code",
   "execution_count": null,
   "metadata": {
    "colab": {
     "base_uri": "https://localhost:8080/"
    },
    "executionInfo": {
     "elapsed": 457,
     "status": "ok",
     "timestamp": 1641130019124,
     "user": {
      "displayName": "Faiza Mehboob",
      "photoUrl": "https://lh3.googleusercontent.com/a-/AOh14Gi7BJBml3eoobMQIzcc3g3bPIpfc2DF9P2QQMY=s64",
      "userId": "04366228182199257668"
     },
     "user_tz": -300
    },
    "id": "dBFV9BWR2oB2",
    "outputId": "8cb09072-4c9f-4bd9-9042-c440cf846f4c"
   },
   "outputs": [],
   "source": [
    "hammad_age=4\n",
    "age_school=5\n",
    "\n",
    "#can Hammad go to school?\n",
    "if hammad_age==age_school:\n",
    "  print(\"Hammad can join the school\")\n",
    "elif hammad_age < age_school:\n",
    "  print(\"Hammad join Kindergarten\")\n",
    "else:\n",
    "  print(\"cannot goto school\")\n",
    "\n"
   ]
  },
  {
   "cell_type": "markdown",
   "metadata": {},
   "source": [
    "### 10-Function"
   ]
  },
  {
   "cell_type": "code",
   "execution_count": null,
   "metadata": {
    "colab": {
     "base_uri": "https://localhost:8080/"
    },
    "executionInfo": {
     "elapsed": 363,
     "status": "ok",
     "timestamp": 1641131200434,
     "user": {
      "displayName": "Faiza Mehboob",
      "photoUrl": "https://lh3.googleusercontent.com/a-/AOh14Gi7BJBml3eoobMQIzcc3g3bPIpfc2DF9P2QQMY=s64",
      "userId": "04366228182199257668"
     },
     "user_tz": -300
    },
    "id": "rYxbcVqb-bpN",
    "outputId": "d13f2099-4fad-4ad2-a367-5cee16e3f71e"
   },
   "outputs": [],
   "source": [
    "# definiing a function\n",
    "def print_line():\n",
    "  print(\"We are learning with baba Aammar\")\n",
    "  print(\"We are learning with baba Aammar\")\n",
    "  print(\"We are learning with baba Aammar\")\n",
    "\n",
    "print_line()"
   ]
  },
  {
   "cell_type": "code",
   "execution_count": null,
   "metadata": {
    "colab": {
     "base_uri": "https://localhost:8080/"
    },
    "executionInfo": {
     "elapsed": 366,
     "status": "ok",
     "timestamp": 1641131000558,
     "user": {
      "displayName": "Faiza Mehboob",
      "photoUrl": "https://lh3.googleusercontent.com/a-/AOh14Gi7BJBml3eoobMQIzcc3g3bPIpfc2DF9P2QQMY=s64",
      "userId": "04366228182199257668"
     },
     "user_tz": -300
    },
    "id": "_veGaSaXA-P8",
    "outputId": "c5fdee2b-97b1-444d-d336-24d17def1b46"
   },
   "outputs": [],
   "source": [
    "#2ndway\n",
    "def dWay():\n",
    "  text=\"We are learnig with baba Aammar\"\n",
    "  print(text)\n",
    "  print(text)\n",
    "  print(text)\n",
    "dWay()"
   ]
  },
  {
   "cell_type": "code",
   "execution_count": null,
   "metadata": {
    "colab": {
     "base_uri": "https://localhost:8080/"
    },
    "executionInfo": {
     "elapsed": 366,
     "status": "ok",
     "timestamp": 1641131351662,
     "user": {
      "displayName": "Faiza Mehboob",
      "photoUrl": "https://lh3.googleusercontent.com/a-/AOh14Gi7BJBml3eoobMQIzcc3g3bPIpfc2DF9P2QQMY=s64",
      "userId": "04366228182199257668"
     },
     "user_tz": -300
    },
    "id": "oxBSRkhx-b8B",
    "outputId": "bc083097-6a64-4fa1-d198-d7c2b8dbb613"
   },
   "outputs": [],
   "source": [
    "#3rway\n",
    "def tway(text):\n",
    "  print(text)\n",
    "  print(text)\n",
    "  print(text)\n",
    "tway(\"we are learing python with baba Aammar in Codanics youtube channel\")\n",
    "\n"
   ]
  },
  {
   "cell_type": "code",
   "execution_count": null,
   "metadata": {
    "colab": {
     "base_uri": "https://localhost:8080/"
    },
    "executionInfo": {
     "elapsed": 477,
     "status": "ok",
     "timestamp": 1641131711657,
     "user": {
      "displayName": "Faiza Mehboob",
      "photoUrl": "https://lh3.googleusercontent.com/a-/AOh14Gi7BJBml3eoobMQIzcc3g3bPIpfc2DF9P2QQMY=s64",
      "userId": "04366228182199257668"
     },
     "user_tz": -300
    },
    "id": "ifyOTNd5DXj0",
    "outputId": "6a93284f-6ff0-48a4-83ae-a6bedd5ed37f"
   },
   "outputs": [],
   "source": [
    "#Function with if else elif\n",
    "def school_cal(age):\n",
    "  if age==5:\n",
    "    print(\"Hammad can join the school\")\n",
    "  elif age>5:\n",
    "    print(\"Hammad can join Higher School\")\n",
    "  else:\n",
    "    print(\"Hammad is still a baby\")\n",
    "school_cal(2)"
   ]
  },
  {
   "cell_type": "code",
   "execution_count": null,
   "metadata": {
    "colab": {
     "base_uri": "https://localhost:8080/"
    },
    "executionInfo": {
     "elapsed": 395,
     "status": "ok",
     "timestamp": 1641132245033,
     "user": {
      "displayName": "Faiza Mehboob",
      "photoUrl": "https://lh3.googleusercontent.com/a-/AOh14Gi7BJBml3eoobMQIzcc3g3bPIpfc2DF9P2QQMY=s64",
      "userId": "04366228182199257668"
     },
     "user_tz": -300
    },
    "id": "BHsbWQfYFRer",
    "outputId": "dd909be8-1f32-44e9-ec8e-6c7007c130a2"
   },
   "outputs": [],
   "source": [
    "# defining a function of future \n",
    "def future_age(age):\n",
    "  new_age=age+20\n",
    "  return new_age\n",
    "  #print(new_age)\n",
    "future_predicted_age=future_age(18)\n",
    "print(future_predicted_age)\n"
   ]
  },
  {
   "cell_type": "markdown",
   "metadata": {},
   "source": [
    "### 11-Loop"
   ]
  },
  {
   "cell_type": "code",
   "execution_count": null,
   "metadata": {
    "colab": {
     "base_uri": "https://localhost:8080/"
    },
    "executionInfo": {
     "elapsed": 360,
     "status": "ok",
     "timestamp": 1641132535830,
     "user": {
      "displayName": "Faiza Mehboob",
      "photoUrl": "https://lh3.googleusercontent.com/a-/AOh14Gi7BJBml3eoobMQIzcc3g3bPIpfc2DF9P2QQMY=s64",
      "userId": "04366228182199257668"
     },
     "user_tz": -300
    },
    "id": "6l-rTpJKHGk5",
    "outputId": "773c87e8-3f20-417d-c3a2-400b96433587"
   },
   "outputs": [],
   "source": [
    "#While and For loops\n",
    "#while Loop\n",
    "x=0\n",
    "while(x<=5):\n",
    "  print(x)\n",
    "  x=x+1"
   ]
  },
  {
   "cell_type": "code",
   "execution_count": null,
   "metadata": {
    "colab": {
     "base_uri": "https://localhost:8080/"
    },
    "executionInfo": {
     "elapsed": 389,
     "status": "ok",
     "timestamp": 1641132987986,
     "user": {
      "displayName": "Faiza Mehboob",
      "photoUrl": "https://lh3.googleusercontent.com/a-/AOh14Gi7BJBml3eoobMQIzcc3g3bPIpfc2DF9P2QQMY=s64",
      "userId": "04366228182199257668"
     },
     "user_tz": -300
    },
    "id": "n11EGBk8H0jJ",
    "outputId": "4041ee8d-c70a-4c05-a576-6310fdfc0ff5"
   },
   "outputs": [],
   "source": [
    "#For loop\n",
    "# for x in range(5, 10):\n",
    "#   print(x)\n",
    "#array\n",
    "\n",
    "days=[\"Mon\",\"Tue\",\"Wed\",\"Thur\",\"fri\", \"sat\"]\n",
    "for d in days:\n",
    "  #if (d==\"Wed\"):break\n",
    "  if (d==\"fri\"): continue #Skips d\n",
    "  print(d)"
   ]
  },
  {
   "cell_type": "markdown",
   "metadata": {},
   "source": [
    "### 12-Import Liabraries"
   ]
  },
  {
   "cell_type": "code",
   "execution_count": null,
   "metadata": {
    "colab": {
     "base_uri": "https://localhost:8080/"
    },
    "executionInfo": {
     "elapsed": 365,
     "status": "ok",
     "timestamp": 1641133229262,
     "user": {
      "displayName": "Faiza Mehboob",
      "photoUrl": "https://lh3.googleusercontent.com/a-/AOh14Gi7BJBml3eoobMQIzcc3g3bPIpfc2DF9P2QQMY=s64",
      "userId": "04366228182199257668"
     },
     "user_tz": -300
    },
    "id": "WkYWl0LIJlGp",
    "outputId": "fe83f510-7334-4270-d339-441e5e9caf47"
   },
   "outputs": [],
   "source": [
    "#if you want to printthe value of pi \n",
    "import math\n",
    "print(\"The value of PI is\", math.pi)\n",
    "\n",
    "import statistics\n",
    "x=[150,250,350,450,550]\n",
    "print(statistics.mean(x))"
   ]
  },
  {
   "cell_type": "markdown",
   "metadata": {},
   "source": [
    "### 13-TRIUBLE_SHOOTING"
   ]
  },
  {
   "cell_type": "code",
   "execution_count": null,
   "metadata": {
    "colab": {
     "base_uri": "https://localhost:8080/"
    },
    "executionInfo": {
     "elapsed": 360,
     "status": "ok",
     "timestamp": 1641133649698,
     "user": {
      "displayName": "Faiza Mehboob",
      "photoUrl": "https://lh3.googleusercontent.com/a-/AOh14Gi7BJBml3eoobMQIzcc3g3bPIpfc2DF9P2QQMY=s64",
      "userId": "04366228182199257668"
     },
     "user_tz": -300
    },
    "id": "KkiYCSraJzqT",
    "outputId": "3c395570-5dfb-4bc2-e6e7-22da419799ba"
   },
   "outputs": [],
   "source": [
    "\n",
    "#print(\"Here) syntaxEror\n",
    "\n",
    "#print(25/0) #runTimeError\n",
    "\n",
    "name=(\"Faiza\")\n",
    "#print(\"Hello name\") #semantic error will not print name\n",
    "print(\"Hello \", name)"
   ]
  },
  {
   "cell_type": "markdown",
   "metadata": {},
   "source": [
    "## Basic Data Structures in Python\n",
    "- Tuple\n",
    "- list\n",
    "- Dictionaries\n",
    "- Set "
   ]
  },
  {
   "cell_type": "markdown",
   "metadata": {},
   "source": [
    "## Tuple\n",
    "- ordered collections of element\n",
    "- inclosed in braces ()\n",
    "- can store differnt types of elements\n",
    "- Once elemnts are stored it cannot be changed(ummutatable)\n",
    " "
   ]
  },
  {
   "cell_type": "code",
   "execution_count": null,
   "metadata": {},
   "outputs": [],
   "source": [
    "tup1=(1, \"Python\", 3, True)\n",
    "tup1\n",
    "\n",
    "#TYPE\n",
    "type(tup1)"
   ]
  },
  {
   "cell_type": "markdown",
   "metadata": {},
   "source": [
    "### Indexing in Tuple"
   ]
  },
  {
   "cell_type": "code",
   "execution_count": null,
   "metadata": {},
   "outputs": [],
   "source": [
    "tup1[1]"
   ]
  },
  {
   "cell_type": "code",
   "execution_count": null,
   "metadata": {},
   "outputs": [],
   "source": [
    "tup1[2]"
   ]
  },
  {
   "cell_type": "code",
   "execution_count": null,
   "metadata": {},
   "outputs": [],
   "source": [
    "#last element is exclusive\n",
    "tup1[0:3]"
   ]
  },
  {
   "cell_type": "code",
   "execution_count": null,
   "metadata": {},
   "outputs": [],
   "source": [
    "len(tup1)"
   ]
  },
  {
   "cell_type": "code",
   "execution_count": null,
   "metadata": {},
   "outputs": [],
   "source": [
    "tup2=(2,\"baba aammar\", 3.5, False)\n",
    "tup2"
   ]
  },
  {
   "cell_type": "code",
   "execution_count": null,
   "metadata": {},
   "outputs": [],
   "source": [
    "# Concatinating Tuples(adding tuples)\n",
    "tup1+tup2"
   ]
  },
  {
   "cell_type": "code",
   "execution_count": null,
   "metadata": {},
   "outputs": [],
   "source": [
    "tup1*3+tup2"
   ]
  },
  {
   "cell_type": "code",
   "execution_count": null,
   "metadata": {},
   "outputs": [],
   "source": [
    "tup1*3"
   ]
  },
  {
   "cell_type": "code",
   "execution_count": null,
   "metadata": {},
   "outputs": [],
   "source": [
    "tup3=(20,30,40,45,65)\n",
    "tup3"
   ]
  },
  {
   "cell_type": "code",
   "execution_count": null,
   "metadata": {},
   "outputs": [],
   "source": [
    "min(tup3)"
   ]
  },
  {
   "cell_type": "code",
   "execution_count": null,
   "metadata": {},
   "outputs": [],
   "source": [
    "max(tup3)"
   ]
  },
  {
   "cell_type": "markdown",
   "metadata": {},
   "source": [
    "### LIST \n",
    "- oreddered collection of elements\n",
    "- inclosed in suqare brackets [] \n",
    "- we can change elements(mutatable)"
   ]
  },
  {
   "cell_type": "code",
   "execution_count": null,
   "metadata": {},
   "outputs": [],
   "source": [
    "list1=[2, \"baba ammar\", False] \n",
    "list"
   ]
  },
  {
   "cell_type": "code",
   "execution_count": null,
   "metadata": {},
   "outputs": [],
   "source": [
    "len(list1)"
   ]
  },
  {
   "cell_type": "code",
   "execution_count": null,
   "metadata": {},
   "outputs": [],
   "source": [
    "list1[2]"
   ]
  },
  {
   "cell_type": "code",
   "execution_count": null,
   "metadata": {},
   "outputs": [],
   "source": [
    "list2=[\"Faiza\",3, 5, \"yes\", False]\n",
    "list2"
   ]
  },
  {
   "cell_type": "code",
   "execution_count": null,
   "metadata": {},
   "outputs": [],
   "source": [
    "list1+list2"
   ]
  },
  {
   "cell_type": "code",
   "execution_count": null,
   "metadata": {},
   "outputs": [],
   "source": [
    "list1*2"
   ]
  },
  {
   "cell_type": "code",
   "execution_count": null,
   "metadata": {},
   "outputs": [],
   "source": [
    "list1.reverse()\n",
    "list1"
   ]
  },
  {
   "cell_type": "code",
   "execution_count": null,
   "metadata": {},
   "outputs": [],
   "source": [
    "list1.append(\"Codanics Youtube channel\")\n",
    "list1"
   ]
  },
  {
   "cell_type": "code",
   "execution_count": null,
   "metadata": {},
   "outputs": [],
   "source": [
    "list1=[\"maths\", 3, \"Eng\"]\n",
    "list1.extend(\"B\")\n",
    "list1"
   ]
  },
  {
   "cell_type": "code",
   "execution_count": null,
   "metadata": {},
   "outputs": [],
   "source": [
    "list1.insert(1, \"me\")\n",
    "list1"
   ]
  },
  {
   "cell_type": "code",
   "execution_count": null,
   "metadata": {},
   "outputs": [],
   "source": [
    "list=[2,5,3,6,8]\n",
    "list.sort()\n",
    "list"
   ]
  },
  {
   "cell_type": "code",
   "execution_count": null,
   "metadata": {},
   "outputs": [],
   "source": [
    "list.pop(2)\n",
    "list\n"
   ]
  },
  {
   "cell_type": "code",
   "execution_count": null,
   "metadata": {},
   "outputs": [],
   "source": [
    "list.reverse()\n",
    "list\n"
   ]
  },
  {
   "cell_type": "code",
   "execution_count": null,
   "metadata": {},
   "outputs": [],
   "source": [
    "list3=[20, 30, 56,76,78,89,90]\n",
    "len(list3)"
   ]
  },
  {
   "cell_type": "code",
   "execution_count": null,
   "metadata": {},
   "outputs": [],
   "source": [
    "list3.sort()\n",
    "list3"
   ]
  },
  {
   "cell_type": "code",
   "execution_count": null,
   "metadata": {},
   "outputs": [],
   "source": [
    "list1+list2"
   ]
  },
  {
   "cell_type": "code",
   "execution_count": null,
   "metadata": {},
   "outputs": [],
   "source": [
    "list1 = [5,6,7,2,5,7,8,7,9]\n",
    "print(list1.count(7))\n",
    "\n",
    "\n",
    "list3 = [\"Eclairs\", \"DairyMilk\", \"Eclairs\", \"kitkat\", \"Now\", \"Eclairs\"]\n",
    "print(list3.count(\"Eclarirs\"))"
   ]
  },
  {
   "cell_type": "markdown",
   "metadata": {},
   "source": [
    "## Dictionaries\n",
    "- An ordered collection of elements\n",
    "- {} use this curly braces\n",
    "- can change value(mutateble)"
   ]
  },
  {
   "cell_type": "code",
   "execution_count": null,
   "metadata": {},
   "outputs": [],
   "source": [
    "#Food and their prices\n",
    "food = {\"samosa\":30, \"Raita\":20, \"Pakora\":100, \"Salad\":50, \"Chicken Rolls\":30}\n",
    "food"
   ]
  },
  {
   "cell_type": "code",
   "execution_count": null,
   "metadata": {},
   "outputs": [],
   "source": [
    "type(food)"
   ]
  },
  {
   "cell_type": "code",
   "execution_count": null,
   "metadata": {},
   "outputs": [],
   "source": [
    "keys1 = food.keys()\n",
    "keys1"
   ]
  },
  {
   "cell_type": "code",
   "execution_count": null,
   "metadata": {},
   "outputs": [],
   "source": [
    "value1=food.values()\n",
    "value1"
   ]
  },
  {
   "cell_type": "code",
   "execution_count": null,
   "metadata": {},
   "outputs": [],
   "source": [
    "\n",
    "food[\"Tikke\"]=10\n",
    "food"
   ]
  },
  {
   "cell_type": "code",
   "execution_count": null,
   "metadata": {},
   "outputs": [],
   "source": [
    "#Update the value\n",
    "food[\"Tikki\"]=15\n",
    "food"
   ]
  },
  {
   "cell_type": "code",
   "execution_count": null,
   "metadata": {},
   "outputs": [],
   "source": [
    "food2={\"Dates\":50, \"Mangoes\": 200, \" Chocoloates\":100}\n",
    "food2"
   ]
  },
  {
   "cell_type": "code",
   "execution_count": null,
   "metadata": {},
   "outputs": [],
   "source": [
    "food.update(food2)\n",
    "food"
   ]
  },
  {
   "cell_type": "code",
   "execution_count": null,
   "metadata": {},
   "outputs": [],
   "source": [
    "mobile = {\"nokia\" \"samsubg\", \"oppo\", \"vivo\", \"Q\"}\n",
    "mobile.clear()\n",
    "mobile"
   ]
  },
  {
   "cell_type": "code",
   "execution_count": null,
   "metadata": {},
   "outputs": [],
   "source": [
    "mobile = {\"nokia\":10, \"samsung\":20 , \"oppo\":30, \"vivo\":40, \"Q\":50}\n",
    "mobile.clear()\n",
    "mobile"
   ]
  },
  {
   "cell_type": "code",
   "execution_count": null,
   "metadata": {},
   "outputs": [],
   "source": [
    "mobile = {2,5,3,7,8,9,4,5}\n",
    "a=mobile.copy()\n",
    "a"
   ]
  },
  {
   "cell_type": "code",
   "execution_count": null,
   "metadata": {},
   "outputs": [],
   "source": [
    "mobile = {\"nokia\":10, \"samsung\":20 , \"oppo\":30, \"vivo\":40, \"Q\":50}\n",
    "a=mobile.get(\"nokia\")\n",
    "a"
   ]
  },
  {
   "cell_type": "code",
   "execution_count": null,
   "metadata": {},
   "outputs": [],
   "source": [
    "mobile = {\"nokia\":10, \"samsung\":20 , \"oppo\":30, \"vivo\":40, \"Q\":50}\n",
    "a=mobile.items()\n",
    "a\n"
   ]
  },
  {
   "cell_type": "code",
   "execution_count": null,
   "metadata": {},
   "outputs": [],
   "source": [
    "mobile = {\"nokia\":\"one\", \"samsung\":\"two\" , \"oppo\":\"three\", \"vivo\":\"four\", \"Q\":\"five\"}\n",
    "a=mobile.setdefault(\"oppo\", \"Done\")\n",
    "a"
   ]
  },
  {
   "cell_type": "markdown",
   "metadata": {},
   "source": [
    "### SETS \n",
    "- unordered aand uninidexed\n",
    "- curly brace{}\n",
    "- no duplicates"
   ]
  },
  {
   "cell_type": "code",
   "execution_count": null,
   "metadata": {},
   "outputs": [],
   "source": [
    "s1={1, 2.2, 3, \"Faiza\",\"chocolates\", \"Hyderabad\", True}\n",
    "s1"
   ]
  },
  {
   "cell_type": "markdown",
   "metadata": {},
   "source": [
    "### Different Functions of Set\n"
   ]
  },
  {
   "cell_type": "code",
   "execution_count": null,
   "metadata": {},
   "outputs": [],
   "source": [
    "s1.add(5)"
   ]
  },
  {
   "cell_type": "code",
   "execution_count": null,
   "metadata": {},
   "outputs": [],
   "source": [
    "s1={1, 2.2, 3, \"Faiza\",\"chocolates\", \"Hyderabad\", True}\n",
    "s2={1, 4, 3, \"Faiza\",\"cakes\", \"karcahi\", True}\n",
    "s1.difference(s2)\n",
    "s1"
   ]
  },
  {
   "cell_type": "code",
   "execution_count": null,
   "metadata": {},
   "outputs": [],
   "source": [
    "s1={1, 2.2, 3, \"Faiza\",\"chocolates\", \"Hyderabad\", True}\n",
    "s1.remove(\"Hyderabad\")\n",
    "s1"
   ]
  },
  {
   "cell_type": "code",
   "execution_count": null,
   "metadata": {},
   "outputs": [],
   "source": [
    "s2={1, 4, 3, \"Faiza\",\"cakes\", \"karcahi\", True}\n",
    "s2.remove(4)\n",
    "s2"
   ]
  },
  {
   "cell_type": "code",
   "execution_count": null,
   "metadata": {},
   "outputs": [],
   "source": [
    "s1={1, 2, 3,4, 5}\n",
    "s2={1, 4, 3, 5,7,8,9}\n",
    "s1.intersection()\n",
    "s1"
   ]
  },
  {
   "cell_type": "code",
   "execution_count": null,
   "metadata": {},
   "outputs": [],
   "source": [
    "s1={1, 2, 3,4, 5}\n",
    "s2={1, 4, 3, 5,7,8,9}\n",
    "s2.isdisjoint(s1)\n",
    "s2"
   ]
  },
  {
   "cell_type": "code",
   "execution_count": null,
   "metadata": {},
   "outputs": [],
   "source": [
    "s1={1, 2, 3,4, 5}\n",
    "s2={1, 4, 3, 5,7,8,9}\n",
    "s3=s1.issubset(s2)\n",
    "s3"
   ]
  },
  {
   "cell_type": "code",
   "execution_count": null,
   "metadata": {},
   "outputs": [],
   "source": [
    "s1={1, 2, 3,4, 5}\n",
    "s2={1,2, 4, 3, 5,7,8,9}\n",
    "s3=s2.symmetric_difference(s1)\n",
    "s3"
   ]
  },
  {
   "cell_type": "code",
   "execution_count": null,
   "metadata": {},
   "outputs": [],
   "source": [
    "s1={1, 2, 3,4, 5}\n",
    "s2={1, 4, 3, 5,7,8,9}\n",
    "s3=s1.union(s2)\n",
    "s3"
   ]
  },
  {
   "cell_type": "code",
   "execution_count": null,
   "metadata": {},
   "outputs": [],
   "source": [
    "s1={1, 3, 5,7, 9}\n",
    "s2={2, 4, 6, 8}\n",
    "s2.update(s1)\n",
    "s2"
   ]
  },
  {
   "cell_type": "markdown",
   "id": "e9a67e46",
   "metadata": {},
   "source": [
    "# Numpy (Numeric Python)\n",
    "Numpy library is used for making arrays in python, we can create 1d, 2d or multidimantional array in python and we work in thi on algebra and for other functions."
   ]
  },
  {
   "cell_type": "code",
   "execution_count": null,
   "id": "dccf7dda",
   "metadata": {},
   "outputs": [],
   "source": [
    "import numpy as np\n",
    "food= np.array([\"pakora\", \"samosa\", \"raita\"])\n",
    "food"
   ]
  },
  {
   "cell_type": "code",
   "execution_count": null,
   "id": "353df6f0",
   "metadata": {},
   "outputs": [],
   "source": [
    "price= np.array([5,5,5])\n",
    "price"
   ]
  },
  {
   "cell_type": "code",
   "execution_count": null,
   "id": "accea2e2",
   "metadata": {},
   "outputs": [],
   "source": [
    "type(price)"
   ]
  },
  {
   "cell_type": "code",
   "execution_count": null,
   "metadata": {},
   "outputs": [],
   "source": [
    "type(food)"
   ]
  },
  {
   "cell_type": "code",
   "execution_count": null,
   "id": "be3bac5d",
   "metadata": {},
   "outputs": [],
   "source": [
    "len(food)"
   ]
  },
  {
   "cell_type": "code",
   "execution_count": null,
   "id": "1532981a",
   "metadata": {},
   "outputs": [],
   "source": [
    "price[2]"
   ]
  },
  {
   "cell_type": "code",
   "execution_count": null,
   "id": "9208d5be",
   "metadata": {},
   "outputs": [],
   "source": [
    "food[1]"
   ]
  },
  {
   "cell_type": "code",
   "execution_count": null,
   "id": "eafca4c1",
   "metadata": {},
   "outputs": [],
   "source": [
    "price.mean()"
   ]
  },
  {
   "cell_type": "code",
   "execution_count": null,
   "id": "80f7f0bf",
   "metadata": {},
   "outputs": [],
   "source": [
    "import numpy as np\n",
    "a = np.array([2,4,6,8])\n",
    "a"
   ]
  },
  {
   "cell_type": "code",
   "execution_count": null,
   "id": "4a51e5e0",
   "metadata": {},
   "outputs": [],
   "source": [
    "import numpy as np\n",
    "b = np.array([[2,4,6,8],[3,6,9,12],[4,8,12,16],[5,10,15,20]])\n",
    "b\n",
    "type(b)\n"
   ]
  },
  {
   "cell_type": "code",
   "execution_count": null,
   "id": "18057123",
   "metadata": {},
   "outputs": [],
   "source": [
    "type(b)\n",
    "len(b)"
   ]
  },
  {
   "cell_type": "code",
   "execution_count": null,
   "id": "f7a67fff",
   "metadata": {},
   "outputs": [],
   "source": [
    "b[0:]"
   ]
  },
  {
   "cell_type": "code",
   "execution_count": null,
   "id": "d956f5f4",
   "metadata": {},
   "outputs": [],
   "source": [
    "b=np.zeros(2)\n",
    "b"
   ]
  },
  {
   "cell_type": "code",
   "execution_count": null,
   "id": "838ecdfb",
   "metadata": {},
   "outputs": [],
   "source": [
    "c=np.ones(2)\n",
    "c"
   ]
  },
  {
   "cell_type": "code",
   "execution_count": null,
   "id": "8c65e153",
   "metadata": {
    "scrolled": true
   },
   "outputs": [],
   "source": [
    "d = np.empty(3)\n",
    "d"
   ]
  },
  {
   "cell_type": "code",
   "execution_count": null,
   "id": "72895dbb",
   "metadata": {},
   "outputs": [],
   "source": [
    "e=np.arange(6)\n",
    "e"
   ]
  },
  {
   "cell_type": "code",
   "execution_count": null,
   "id": "37e3f266",
   "metadata": {},
   "outputs": [],
   "source": [
    "e=np.arange(6)\n",
    "e"
   ]
  },
  {
   "cell_type": "code",
   "execution_count": null,
   "id": "c4653879",
   "metadata": {},
   "outputs": [],
   "source": [
    "g=np.arange(2,20,2)\n",
    "g"
   ]
  },
  {
   "cell_type": "code",
   "execution_count": null,
   "id": "693de230",
   "metadata": {},
   "outputs": [],
   "source": [
    "h=np.linspace(0,10, num=5)\n",
    "h"
   ]
  },
  {
   "cell_type": "code",
   "execution_count": null,
   "id": "78e85525",
   "metadata": {},
   "outputs": [],
   "source": [
    "i = np.ones(5,dtype=np.int8)\n",
    "i"
   ]
  },
  {
   "cell_type": "code",
   "execution_count": null,
   "id": "c3712ca1",
   "metadata": {},
   "outputs": [],
   "source": [
    "i = np.ones(5,dtype=np.int8)\n",
    "i"
   ]
  },
  {
   "cell_type": "code",
   "execution_count": null,
   "id": "9a21e051",
   "metadata": {},
   "outputs": [],
   "source": [
    "np.zeros((3,4))"
   ]
  },
  {
   "cell_type": "code",
   "execution_count": null,
   "id": "fd55fee5",
   "metadata": {},
   "outputs": [],
   "source": [
    "np.zeros((3,4))"
   ]
  },
  {
   "cell_type": "code",
   "execution_count": null,
   "id": "95f445c0",
   "metadata": {},
   "outputs": [],
   "source": [
    "np.empty((3,4))"
   ]
  },
  {
   "cell_type": "code",
   "execution_count": null,
   "id": "123f5c62",
   "metadata": {
    "scrolled": true
   },
   "outputs": [],
   "source": [
    "c= np.arange(24).reshape(2, 3, 4)\n",
    "c"
   ]
  },
  {
   "cell_type": "code",
   "execution_count": null,
   "id": "96422fc1",
   "metadata": {},
   "outputs": [],
   "source": [
    "import numpy as np\n",
    "food=np.array([\"a\",\"b\",\"c\"])\n",
    "food"
   ]
  },
  {
   "cell_type": "code",
   "execution_count": null,
   "id": "70038932",
   "metadata": {},
   "outputs": [],
   "source": [
    "prize=np.array([2,3,4])\n",
    "prize"
   ]
  },
  {
   "cell_type": "code",
   "execution_count": null,
   "id": "9def5f98",
   "metadata": {},
   "outputs": [],
   "source": [
    "food[1]"
   ]
  },
  {
   "cell_type": "code",
   "execution_count": null,
   "id": "0f22fafc",
   "metadata": {},
   "outputs": [],
   "source": [
    "prize.mean()"
   ]
  },
  {
   "cell_type": "code",
   "execution_count": null,
   "id": "44135752",
   "metadata": {},
   "outputs": [],
   "source": [
    "#yaha pr empty ceel ya one\n",
    "\n",
    "np.empty(5)"
   ]
  },
  {
   "cell_type": "code",
   "execution_count": null,
   "id": "85d5da6c",
   "metadata": {},
   "outputs": [],
   "source": [
    "np.arange(2,20)"
   ]
  },
  {
   "cell_type": "code",
   "execution_count": null,
   "id": "f5f6cec3",
   "metadata": {},
   "outputs": [],
   "source": [
    "np.arange(5, 55, 5)"
   ]
  },
  {
   "cell_type": "code",
   "execution_count": null,
   "id": "ea19067d",
   "metadata": {},
   "outputs": [],
   "source": [
    "h=np.linspace(0,10, num=5)\n",
    "h"
   ]
  },
  {
   "cell_type": "code",
   "execution_count": null,
   "id": "ad5e5d14",
   "metadata": {},
   "outputs": [],
   "source": [
    "np.linspace(1, 100, num=10)"
   ]
  },
  {
   "cell_type": "code",
   "execution_count": null,
   "id": "21b03c4e",
   "metadata": {},
   "outputs": [],
   "source": [
    "np.linspace(1, 100, num=50)"
   ]
  },
  {
   "cell_type": "code",
   "execution_count": null,
   "id": "71e8052d",
   "metadata": {},
   "outputs": [],
   "source": [
    "import numpy as np\n",
    "np.ones(5, dtype=np.int64)"
   ]
  },
  {
   "cell_type": "code",
   "execution_count": null,
   "id": "20473fde",
   "metadata": {},
   "outputs": [],
   "source": [
    "np.ones(5, dtype=np.float64)"
   ]
  },
  {
   "cell_type": "markdown",
   "id": "1eccb364",
   "metadata": {},
   "source": [
    "## Array Functions\n"
   ]
  },
  {
   "cell_type": "code",
   "execution_count": null,
   "id": "e5d581d9",
   "metadata": {},
   "outputs": [],
   "source": [
    "a=np.array([10,12,15,6.7,3.4,9.2])\n",
    "a.sort()\n",
    "a"
   ]
  },
  {
   "cell_type": "code",
   "execution_count": null,
   "id": "84671887",
   "metadata": {},
   "outputs": [],
   "source": [
    "a=np.array([10,12,15,6.7,3.4,9.2])\n",
    "a"
   ]
  },
  {
   "cell_type": "code",
   "execution_count": null,
   "id": "49ead4d9",
   "metadata": {},
   "outputs": [],
   "source": [
    "b=np.array([0,1,5,6.7,4.6,9.8,3.3 ])\n",
    "b"
   ]
  },
  {
   "cell_type": "code",
   "execution_count": null,
   "id": "b64a7a71",
   "metadata": {},
   "outputs": [],
   "source": [
    "c=np.concatenate((a,b))\n",
    "c"
   ]
  },
  {
   "cell_type": "code",
   "execution_count": null,
   "id": "901cbd6a",
   "metadata": {},
   "outputs": [],
   "source": [
    "c.sort()\n",
    "c"
   ]
  },
  {
   "cell_type": "markdown",
   "id": "879b344f",
   "metadata": {},
   "source": [
    "## 2-D arrays\n"
   ]
  },
  {
   "cell_type": "code",
   "execution_count": null,
   "id": "3329256e",
   "metadata": {},
   "outputs": [],
   "source": [
    "b = np.array([[2,4,6,8],[3,6,9,12],[4,8,12,16],[5,10,15,20]])\n",
    "b\n"
   ]
  },
  {
   "cell_type": "code",
   "execution_count": null,
   "id": "0ece07bd",
   "metadata": {},
   "outputs": [],
   "source": [
    "a = np.array([[2,4,6,8],[3,6,9,12]])\n",
    "a"
   ]
  },
  {
   "cell_type": "code",
   "execution_count": null,
   "id": "94bcf9a5",
   "metadata": {},
   "outputs": [],
   "source": [
    "b=([4,8,12,16],[5,10,15,20])\n",
    "b"
   ]
  },
  {
   "cell_type": "code",
   "execution_count": null,
   "id": "89a41119",
   "metadata": {},
   "outputs": [],
   "source": [
    "c=np.concatenate((a,b),axis=0)\n",
    "c"
   ]
  },
  {
   "cell_type": "code",
   "execution_count": null,
   "id": "13b709b0",
   "metadata": {},
   "outputs": [],
   "source": [
    "a = np.array([[[2,4,6,8],\n",
    "              [3,6,9,12]],\n",
    "             \n",
    "            [[4,8,12,16],\n",
    "            [5,10,15,20]],\n",
    "             \n",
    "             [[0,1,2,3],\n",
    "             [4,5,6,7]]])\n",
    "a"
   ]
  },
  {
   "cell_type": "code",
   "execution_count": null,
   "id": "5a148ccc",
   "metadata": {},
   "outputs": [],
   "source": [
    "a.ndim"
   ]
  },
  {
   "cell_type": "code",
   "execution_count": null,
   "id": "ff79562c",
   "metadata": {},
   "outputs": [],
   "source": [
    "b = np.array([[2,4,6],\n",
    "              [3,6,9],\n",
    "              [4,8,12]])\n",
    "b"
   ]
  },
  {
   "cell_type": "code",
   "execution_count": null,
   "id": "0138fe29",
   "metadata": {},
   "outputs": [],
   "source": [
    "b.ndim"
   ]
  },
  {
   "cell_type": "code",
   "execution_count": null,
   "id": "186b61c2",
   "metadata": {},
   "outputs": [],
   "source": [
    "b.size #number of elements"
   ]
  },
  {
   "cell_type": "code",
   "execution_count": null,
   "id": "6e69f399",
   "metadata": {},
   "outputs": [],
   "source": [
    "b.shape"
   ]
  },
  {
   "cell_type": "code",
   "execution_count": null,
   "id": "4d13a4ec",
   "metadata": {},
   "outputs": [],
   "source": [
    "a=np.arange(9)\n",
    "a"
   ]
  },
  {
   "cell_type": "code",
   "execution_count": null,
   "id": "ce33635c",
   "metadata": {},
   "outputs": [],
   "source": [
    "b=a.reshape(3,3)\n",
    "b"
   ]
  },
  {
   "cell_type": "code",
   "execution_count": null,
   "id": "a2481074",
   "metadata": {},
   "outputs": [],
   "source": [
    "np.reshape(a,newshape=(1,9), order='C')"
   ]
  },
  {
   "cell_type": "code",
   "execution_count": null,
   "id": "c0fea51c",
   "metadata": {},
   "outputs": [],
   "source": [
    "#1D into 2D\n",
    "a=np.array([0, 1, 2, 3, 4, 5, 6, 7, 8])\n",
    "a\n",
    "\n"
   ]
  },
  {
   "cell_type": "code",
   "execution_count": null,
   "id": "85d62012",
   "metadata": {},
   "outputs": [],
   "source": [
    "a.shape"
   ]
  },
  {
   "cell_type": "code",
   "execution_count": null,
   "id": "73484e6e",
   "metadata": {},
   "outputs": [],
   "source": [
    "b=a[np.newaxis, :]\n",
    "b"
   ]
  },
  {
   "cell_type": "code",
   "execution_count": null,
   "id": "4ba3f0da",
   "metadata": {},
   "outputs": [],
   "source": [
    "b.shape"
   ]
  },
  {
   "cell_type": "code",
   "execution_count": null,
   "id": "bcbf4735",
   "metadata": {},
   "outputs": [],
   "source": [
    "b.ndim"
   ]
  },
  {
   "cell_type": "code",
   "execution_count": null,
   "id": "6cd47165",
   "metadata": {},
   "outputs": [],
   "source": [
    "c= a[:]\n",
    "c"
   ]
  },
  {
   "cell_type": "code",
   "execution_count": null,
   "id": "02b27346",
   "metadata": {},
   "outputs": [],
   "source": [
    "c= a[:, np.newaxis]\n",
    "c"
   ]
  },
  {
   "cell_type": "code",
   "execution_count": null,
   "id": "6d10bd6d",
   "metadata": {},
   "outputs": [],
   "source": [
    "a[2:6]"
   ]
  },
  {
   "cell_type": "code",
   "execution_count": null,
   "id": "022528d0",
   "metadata": {},
   "outputs": [],
   "source": [
    "a[2:9]"
   ]
  },
  {
   "cell_type": "code",
   "execution_count": null,
   "id": "19534dc9",
   "metadata": {},
   "outputs": [],
   "source": [
    "a*5"
   ]
  },
  {
   "cell_type": "code",
   "execution_count": null,
   "id": "7e785564",
   "metadata": {},
   "outputs": [],
   "source": [
    "a.sum()"
   ]
  },
  {
   "cell_type": "code",
   "execution_count": null,
   "id": "e09f05e7",
   "metadata": {},
   "outputs": [],
   "source": [
    "a.mean(0)"
   ]
  },
  {
   "cell_type": "markdown",
   "metadata": {},
   "source": [
    "# Jupiter notebook in vscode\n",
    "This is much better than jupiter notebook"
   ]
  },
  {
   "cell_type": "code",
   "execution_count": null,
   "metadata": {},
   "outputs": [],
   "source": [
    "print(\"python ka chilla with baba ammar\")"
   ]
  },
  {
   "cell_type": "code",
   "execution_count": null,
   "metadata": {},
   "outputs": [],
   "source": [
    "aammar = \"my name is baba ammar\"\n",
    "aammar"
   ]
  },
  {
   "cell_type": "code",
   "execution_count": null,
   "metadata": {},
   "outputs": [],
   "source": [
    "import numpy as np\n",
    "x = np.array([1,2,5,6,7,8])\n",
    "x"
   ]
  },
  {
   "cell_type": "code",
   "execution_count": null,
   "metadata": {},
   "outputs": [],
   "source": [
    "import numpy as np\n",
    "import pandas as pd\n",
    "import matplotlib.pyplot as plt\n",
    " \n",
    "phool = pd.read_csv(\"iris.csv\")\n",
    "   \n",
    "print (phool.head(10))"
   ]
  },
  {
   "cell_type": "code",
   "execution_count": null,
   "metadata": {},
   "outputs": [],
   "source": [
    "import pandas as pd\n",
    "import matplotlib.pyplot as plt\n",
    "phool = pd.read_csv(\"iris.csv\")\n",
    " \n",
    "plt.plot(phool.Id, phool[\"SepalLengthCm\"], \"r--\")\n",
    "plt.show"
   ]
  },
  {
   "cell_type": "code",
   "execution_count": null,
   "metadata": {},
   "outputs": [],
   "source": [
    "import seaborn as sns\n",
    "sns.set_theme(style=\"ticks\", palette=\"pastel\")\n",
    "\n",
    "# Load the example tips dataset\n",
    "tips = sns.load_dataset(\"tips\")\n",
    "\n",
    "# Draw a nested boxplot to show bills by day and time\n",
    "sns.boxplot(x=\"day\", y=\"total_bill\",\n",
    "            hue=\"smoker\", palette=[\"m\", \"g\"],\n",
    "            data=tips)\n",
    "sns.despine(offset=10, trim=True)"
   ]
  },
  {
   "cell_type": "markdown",
   "metadata": {},
   "source": [
    "# Pandas (Panel Data Analysis)\n",
    "- Data Manipulation\n",
    "- Data Analysis"
   ]
  },
  {
   "cell_type": "markdown",
   "metadata": {},
   "source": [
    "# Import liabraries "
   ]
  },
  {
   "cell_type": "code",
   "execution_count": null,
   "metadata": {},
   "outputs": [],
   "source": [
    "import pandas as pd\n",
    "import numpy as np"
   ]
  },
  {
   "cell_type": "markdown",
   "metadata": {},
   "source": [
    "## Coding"
   ]
  },
  {
   "cell_type": "code",
   "execution_count": null,
   "metadata": {},
   "outputs": [],
   "source": [
    "# object creation\n",
    "s= pd.Series([1,3, np.nan ,5, 8,9])\n",
    "s"
   ]
  },
  {
   "cell_type": "code",
   "execution_count": null,
   "metadata": {},
   "outputs": [],
   "source": [
    "dates = pd.date_range(\"20130101\", periods=20)\n",
    "dates"
   ]
  },
  {
   "cell_type": "code",
   "execution_count": null,
   "metadata": {},
   "outputs": [],
   "source": [
    "dates = pd.date_range(\"20130101\", periods=20)\n",
    "dates\n",
    "df = pd.DataFrame(np.random.randn(20,4), index=dates, columns=list(\"ABCD\"))\n",
    "df"
   ]
  },
  {
   "cell_type": "markdown",
   "metadata": {},
   "source": [
    "# Dataframe"
   ]
  },
  {
   "cell_type": "code",
   "execution_count": null,
   "metadata": {},
   "outputs": [],
   "source": [
    "import pandas as pd\n",
    "import numpy as np\n",
    "df2 = pd.DataFrame(\n",
    "    {\n",
    "        \"A\": 1.0,\n",
    "        \"B\": pd.Timestamp(\"20220111\"),\n",
    "        \"C\": pd.Series(1, index=list(range(4)), dtype=\"int32\"),\n",
    "        \"D\": np.array([3] * 4, dtype= \"int32\"),\n",
    "        \"E\": pd.Categorical([\"pandas\", \"numpy\", \"pandas\", \"numpy\"]),\n",
    "        \"F\": \"Name\", \n",
    "    }\n",
    ")\n",
    "\n",
    "df2\n",
    "    "
   ]
  },
  {
   "cell_type": "code",
   "execution_count": null,
   "metadata": {},
   "outputs": [],
   "source": [
    "df2.dtypes"
   ]
  },
  {
   "cell_type": "code",
   "execution_count": null,
   "metadata": {},
   "outputs": [],
   "source": [
    "df.head(8)"
   ]
  },
  {
   "cell_type": "code",
   "execution_count": null,
   "metadata": {},
   "outputs": [],
   "source": [
    "df.index"
   ]
  },
  {
   "cell_type": "code",
   "execution_count": null,
   "metadata": {},
   "outputs": [],
   "source": [
    "df.to_numpy()"
   ]
  },
  {
   "cell_type": "code",
   "execution_count": null,
   "metadata": {},
   "outputs": [],
   "source": [
    "df2.to_numpy()\n"
   ]
  },
  {
   "cell_type": "code",
   "execution_count": null,
   "metadata": {},
   "outputs": [],
   "source": [
    "df[\"A\"]"
   ]
  },
  {
   "cell_type": "code",
   "execution_count": null,
   "metadata": {},
   "outputs": [],
   "source": [
    "df2.T"
   ]
  },
  {
   "cell_type": "markdown",
   "metadata": {},
   "source": [
    "### Transpose"
   ]
  },
  {
   "cell_type": "code",
   "execution_count": null,
   "metadata": {},
   "outputs": [],
   "source": [
    "df.sort_values(by=\"B\")"
   ]
  },
  {
   "cell_type": "code",
   "execution_count": null,
   "metadata": {},
   "outputs": [],
   "source": [
    "#Select by rows\n",
    "df[0: 3]"
   ]
  },
  {
   "cell_type": "code",
   "execution_count": null,
   "metadata": {},
   "outputs": [],
   "source": [
    "# #date wise data\n",
    "df.loc[dates[0]]"
   ]
  },
  {
   "cell_type": "code",
   "execution_count": null,
   "metadata": {},
   "outputs": [],
   "source": [
    "df.loc[:, [\"A\",\"B\"]]"
   ]
  },
  {
   "cell_type": "code",
   "execution_count": null,
   "metadata": {},
   "outputs": [],
   "source": [
    "df.at[dates[16], \"B\"]"
   ]
  },
  {
   "cell_type": "code",
   "execution_count": null,
   "metadata": {},
   "outputs": [],
   "source": [
    "df.iloc[0:5, 0:3]"
   ]
  },
  {
   "cell_type": "code",
   "execution_count": null,
   "metadata": {},
   "outputs": [],
   "source": [
    "df.iloc[0:5, 0:3]"
   ]
  },
  {
   "cell_type": "code",
   "execution_count": null,
   "metadata": {},
   "outputs": [],
   "source": [
    "df[df[\"A\"]>0]"
   ]
  },
  {
   "cell_type": "markdown",
   "metadata": {},
   "source": [
    "#  Pandas case study"
   ]
  },
  {
   "cell_type": "code",
   "execution_count": null,
   "metadata": {},
   "outputs": [],
   "source": [
    "import pandas as pd\n",
    "import numpy as np\n",
    "import matplotlib.pyplot as plt\n",
    "import seaborn as sns\n"
   ]
  },
  {
   "cell_type": "code",
   "execution_count": null,
   "metadata": {},
   "outputs": [],
   "source": [
    "kashti = sns.load_dataset('titanic')\n",
    "kashti.head(5)\n"
   ]
  },
  {
   "cell_type": "code",
   "execution_count": null,
   "metadata": {},
   "outputs": [],
   "source": [
    "#saving dataframe into csv file\n",
    "kashti.to_csv('kashti.csv')"
   ]
  },
  {
   "cell_type": "code",
   "execution_count": null,
   "metadata": {},
   "outputs": [],
   "source": [
    "#basic statistics\n",
    "kashti.describe()"
   ]
  },
  {
   "cell_type": "code",
   "execution_count": null,
   "metadata": {},
   "outputs": [],
   "source": [
    "kashti.head()"
   ]
  },
  {
   "cell_type": "code",
   "execution_count": null,
   "metadata": {},
   "outputs": [],
   "source": [
    "#dropping few columns making new dataset\n",
    "new_kashti=kashti.drop(['deck','alone'], axis =1)\n",
    "new_kashti.head()"
   ]
  },
  {
   "cell_type": "code",
   "execution_count": null,
   "metadata": {},
   "outputs": [],
   "source": [
    "kashti.drop(['deck','alone'], axis =1).head()"
   ]
  },
  {
   "cell_type": "code",
   "execution_count": null,
   "metadata": {},
   "outputs": [],
   "source": [
    "kashti.mean()"
   ]
  },
  {
   "cell_type": "code",
   "execution_count": null,
   "metadata": {},
   "outputs": [],
   "source": [
    "kashti.value_counts([\"survived\"])"
   ]
  },
  {
   "cell_type": "code",
   "execution_count": null,
   "metadata": {},
   "outputs": [],
   "source": [
    "kashti.groupby([\"sex\",\"class\"]).mean()"
   ]
  },
  {
   "cell_type": "code",
   "execution_count": null,
   "metadata": {},
   "outputs": [],
   "source": [
    "kashti.groupby([\"sex\"]).mean()"
   ]
  },
  {
   "cell_type": "code",
   "execution_count": null,
   "metadata": {},
   "outputs": [],
   "source": [
    "kashti.groupby([\"sex\",\"class\"]).mean()"
   ]
  },
  {
   "cell_type": "code",
   "execution_count": null,
   "metadata": {},
   "outputs": [],
   "source": [
    "#children and women are first in emergency case\n",
    "kashti[kashti['age']<18].mean()"
   ]
  },
  {
   "cell_type": "code",
   "execution_count": null,
   "metadata": {},
   "outputs": [],
   "source": [
    "kashti[kashti['age']<18].groupby(['sex','class']).mean()"
   ]
  },
  {
   "cell_type": "markdown",
   "metadata": {},
   "source": [
    "# Satatistic Definations"
   ]
  },
  {
   "cell_type": "markdown",
   "metadata": {},
   "source": [
    "# First Step\n",
    "### Parametirc Test\n",
    "- Relaiable test \n",
    "### Non-Parametric test\n",
    "- less relaiable test\n"
   ]
  },
  {
   "cell_type": "markdown",
   "metadata": {},
   "source": [
    "# Normality Test\n",
    "- Shapiro-Wilk test it tests normality in frequentist statistics it checks Null Hypothesis\n",
    "- Kolmogorov Smirnov test , it quantifie a distance between the empirical distribution function.\n",
    "   "
   ]
  },
  {
   "cell_type": "markdown",
   "metadata": {},
   "source": [
    "# Step 2 Homogenity Test\n",
    "- Levene's Test  is used to test if k samples have equal variances. Equal variances across samples is called homogeneity of variance."
   ]
  },
  {
   "cell_type": "markdown",
   "metadata": {},
   "source": [
    "# Step 3\n",
    "## Purpose\n",
    "### Know the purpose of your Research\n"
   ]
  },
  {
   "cell_type": "markdown",
   "metadata": {},
   "source": [
    "## Two types of Purposes\n",
    "### Comparision\n",
    "- comparision between two groups\n",
    "- comparision between colors and rates of handbags\n",
    "### Relationship\n",
    "- Like giving food to One and if the weight is increasing (Relation between food and weight)\n",
    "\n"
   ]
  },
  {
   "cell_type": "markdown",
   "metadata": {},
   "source": [
    "# Step 4\n",
    "## Data Types\n",
    "- On which type of data we are working\n",
    "  ## Categorical \n",
    "  - Quality checkiing \n",
    "  - Likeness Yes/NO\n",
    "  - \n",
    "## Continous\n",
    "- Quantative , Numerical\n",
    "- Numbers float, int\n",
    "- Amount\n",
    "- height"
   ]
  },
  {
   "cell_type": "markdown",
   "metadata": {},
   "source": [
    "# Step 5\n",
    "## Statistical Tests\n",
    "- 1 Chi squared test\n",
    "  - categorical variable comparision\n",
    "  - can be used any numbers of groups\n",
    "  - know the purpose\n",
    "\n",
    "- 2 t-test/Anova\n",
    "  - Categorical and continous both here\n",
    "  - comprision between Categorical and continous\n",
    "  - One sample test \n",
    "   - height of girl compae 5.5 one sample\n",
    "  - Two sample t test\n",
    "   - two different groups like girls from Pakistan and aboroad and comparinng their height\n",
    "   - same sourse and same unit = Paired test\n",
    " - ANOVA\n",
    "  - One way ANOVA  \n",
    "  - comparision between groups like male femal and children groups\n",
    "  \n",
    "- 3 Correlation\n",
    "  - Continous data only\n",
    "  - Where to use it\n",
    "  -  Two data types Relation\n",
    "  -  comparision in two data types\n",
    "- Pearson Correlation\n",
    "- One dependent one independent food and weight example\n",
    "  - Correletion = How closely connected two variables are\n",
    "  - kya hm food se weight gain ko dekh sktw hn\n",
    "- Regression\n",
    " - Its tells a equation taht tells relationship\n",
    "  \n"
   ]
  },
  {
   "cell_type": "markdown",
   "metadata": {},
   "source": [
    "#### When data is normal Gaussian distribution\n",
    "- Test the data according to studied methods  \n",
    "  \n",
    " - Normality\n",
    " - Homogenity\n",
    "- Normalize the data"
   ]
  },
  {
   "cell_type": "markdown",
   "metadata": {},
   "source": [
    "## Normality\n",
    "- Data is normal Parametric test \n",
    "- try to normalize if than it is normal use parametrci test # Reliable\n",
    "- Correlation\n",
    " - Pearson coorelation\n",
    " - Regression"
   ]
  },
  {
   "cell_type": "markdown",
   "metadata": {},
   "source": [
    "# Descriptive Correlational Design\n",
    " - Psychologist use this deisgn to understand patients behaviour\n",
    " - monitoring the state of mind of ones's\n",
    " - than coordinally monitirizing the state different time and stage"
   ]
  },
  {
   "cell_type": "markdown",
   "metadata": {},
   "source": [
    "# Exploratory Data Aanalysis\n",
    "this will show you how we can do EDA using python"
   ]
  },
  {
   "cell_type": "markdown",
   "metadata": {},
   "source": [
    "## Three important steps\n",
    "1- Understand data \\\n",
    "2- Clean data \\\n",
    "2- Find a relationshp between data"
   ]
  },
  {
   "cell_type": "code",
   "execution_count": null,
   "metadata": {},
   "outputs": [],
   "source": [
    "import pandas as pd\n",
    "import numpy as np \n",
    "import matplotlib.pyplot as plt\n",
    "import seaborn as sns"
   ]
  },
  {
   "cell_type": "code",
   "execution_count": null,
   "metadata": {},
   "outputs": [],
   "source": [
    "kashti=sns.load_dataset('titanic')"
   ]
  },
  {
   "cell_type": "code",
   "execution_count": null,
   "metadata": {},
   "outputs": [],
   "source": [
    "kashti.to_csv('kashti.csv')"
   ]
  },
  {
   "cell_type": "code",
   "execution_count": null,
   "metadata": {},
   "outputs": [],
   "source": [
    "kashti.info()"
   ]
  },
  {
   "cell_type": "code",
   "execution_count": null,
   "metadata": {},
   "outputs": [],
   "source": [
    "ks=kashti #looking the data"
   ]
  },
  {
   "cell_type": "code",
   "execution_count": null,
   "metadata": {},
   "outputs": [],
   "source": [
    "ks.head()"
   ]
  },
  {
   "cell_type": "code",
   "execution_count": null,
   "metadata": {},
   "outputs": [],
   "source": [
    "#rows and column numbers\n",
    "ks.shape"
   ]
  },
  {
   "cell_type": "code",
   "execution_count": null,
   "metadata": {},
   "outputs": [],
   "source": [
    "ks.describe()"
   ]
  },
  {
   "cell_type": "code",
   "execution_count": null,
   "metadata": {},
   "outputs": [],
   "source": [
    "#unique values\n",
    "ks.nunique()"
   ]
  },
  {
   "cell_type": "code",
   "execution_count": null,
   "metadata": {},
   "outputs": [],
   "source": [
    "#column name\n",
    "ks.columns\n"
   ]
  },
  {
   "cell_type": "code",
   "execution_count": null,
   "metadata": {},
   "outputs": [],
   "source": [
    "ks['sex'].unique()"
   ]
  },
  {
   "cell_type": "code",
   "execution_count": null,
   "metadata": {},
   "outputs": [],
   "source": [
    "#Assignment\n",
    "#ks[ks['who', 'adult_male'].unique()]\n",
    "\n",
    "ks[['class', 'sex','fare', 'adult_male', 'deck',]].nunique()"
   ]
  },
  {
   "cell_type": "markdown",
   "metadata": {},
   "source": [
    "# Cleaning and filtering the Data"
   ]
  },
  {
   "cell_type": "code",
   "execution_count": null,
   "metadata": {},
   "outputs": [],
   "source": [
    "ks.isnull().sum()#finding missing values"
   ]
  },
  {
   "cell_type": "code",
   "execution_count": null,
   "metadata": {},
   "outputs": [],
   "source": [
    "#cleaning data , missing values column removing\n",
    "ks_clean=ks.drop(['deck'], axis=1)\n",
    "ks_clean.head()"
   ]
  },
  {
   "cell_type": "code",
   "execution_count": null,
   "metadata": {},
   "outputs": [],
   "source": [
    "ks_clean.isnull().sum()"
   ]
  },
  {
   "cell_type": "code",
   "execution_count": null,
   "metadata": {},
   "outputs": [],
   "source": [
    "ks_clean.shape\n"
   ]
  },
  {
   "cell_type": "code",
   "execution_count": null,
   "metadata": {},
   "outputs": [],
   "source": [
    "891-177"
   ]
  },
  {
   "cell_type": "code",
   "execution_count": null,
   "metadata": {},
   "outputs": [],
   "source": [
    "ks_clean.dropna().shape"
   ]
  },
  {
   "cell_type": "code",
   "execution_count": null,
   "metadata": {},
   "outputs": [],
   "source": [
    "ks_clean=ks_clean.dropna()"
   ]
  },
  {
   "cell_type": "code",
   "execution_count": null,
   "metadata": {},
   "outputs": [],
   "source": [
    "ks_clean.shape"
   ]
  },
  {
   "cell_type": "code",
   "execution_count": null,
   "metadata": {},
   "outputs": [],
   "source": [
    "ks_clean.isnull().sum()"
   ]
  },
  {
   "cell_type": "code",
   "execution_count": null,
   "metadata": {},
   "outputs": [],
   "source": [
    "ks_clean.shape"
   ]
  },
  {
   "cell_type": "code",
   "execution_count": null,
   "metadata": {},
   "outputs": [],
   "source": [
    "ks.shape"
   ]
  },
  {
   "cell_type": "code",
   "execution_count": null,
   "metadata": {},
   "outputs": [],
   "source": [
    "ks_clean['sex'].value_counts()"
   ]
  },
  {
   "cell_type": "code",
   "execution_count": null,
   "metadata": {},
   "outputs": [],
   "source": [
    "ks.describe()"
   ]
  },
  {
   "cell_type": "code",
   "execution_count": null,
   "metadata": {},
   "outputs": [],
   "source": [
    "ks_clean.describe()"
   ]
  },
  {
   "cell_type": "code",
   "execution_count": null,
   "metadata": {},
   "outputs": [],
   "source": [
    "ks_clean.columns"
   ]
  },
  {
   "cell_type": "code",
   "execution_count": null,
   "metadata": {},
   "outputs": [],
   "source": [
    "sns.boxplot(x='sex', y='age', data=ks_clean)"
   ]
  },
  {
   "cell_type": "code",
   "execution_count": null,
   "metadata": {},
   "outputs": [],
   "source": [
    "sns.boxplot( y='age', data=ks_clean)"
   ]
  },
  {
   "cell_type": "code",
   "execution_count": null,
   "metadata": {},
   "outputs": [],
   "source": [
    "#bell cueve, distplot, \n",
    "sns.distplot(ks_clean['age'])"
   ]
  },
  {
   "cell_type": "code",
   "execution_count": null,
   "metadata": {},
   "outputs": [],
   "source": [
    "#out liers removal\n",
    "ks_clean['age'].mean()\n",
    "ks.head()"
   ]
  },
  {
   "cell_type": "code",
   "execution_count": null,
   "metadata": {},
   "outputs": [],
   "source": [
    "ks_clean=ks_clean[ks_clean['age']<68]\n",
    "ks_clean.head()"
   ]
  },
  {
   "cell_type": "code",
   "execution_count": null,
   "metadata": {},
   "outputs": [],
   "source": [
    "ks_clean.shape"
   ]
  },
  {
   "cell_type": "code",
   "execution_count": null,
   "metadata": {},
   "outputs": [],
   "source": [
    "ks['age']=ks_clean['age']<68\n",
    "ks['age'].mean()"
   ]
  },
  {
   "cell_type": "code",
   "execution_count": null,
   "metadata": {},
   "outputs": [],
   "source": [
    "ks_clean['age'].mean()"
   ]
  },
  {
   "cell_type": "code",
   "execution_count": null,
   "metadata": {},
   "outputs": [],
   "source": [
    "sns.distplot(ks_clean['age'])"
   ]
  },
  {
   "cell_type": "code",
   "execution_count": null,
   "metadata": {},
   "outputs": [],
   "source": [
    "sns.boxplot(y='age', data=ks_clean)"
   ]
  },
  {
   "cell_type": "code",
   "execution_count": null,
   "metadata": {},
   "outputs": [],
   "source": [
    "ks_clean.head()"
   ]
  },
  {
   "cell_type": "code",
   "execution_count": null,
   "metadata": {},
   "outputs": [],
   "source": [
    "ks_clean.boxplot()"
   ]
  },
  {
   "cell_type": "code",
   "execution_count": null,
   "metadata": {},
   "outputs": [],
   "source": [
    "ks_clean=ks_clean[ks_clean['fare']<300]\n",
    "ks_clean.boxplot()"
   ]
  },
  {
   "cell_type": "code",
   "execution_count": null,
   "metadata": {},
   "outputs": [],
   "source": [
    "sns.distplot(ks_clean['fare'])"
   ]
  },
  {
   "cell_type": "code",
   "execution_count": null,
   "metadata": {},
   "outputs": [],
   "source": [
    "ks_clean.hist()"
   ]
  },
  {
   "cell_type": "code",
   "execution_count": null,
   "metadata": {},
   "outputs": [],
   "source": [
    "pd.value_counts(ks_clean['class']).plot.bar()"
   ]
  },
  {
   "cell_type": "code",
   "execution_count": null,
   "metadata": {},
   "outputs": [],
   "source": [
    "ks_clean.groupby(['sex', 'class']).mean()"
   ]
  },
  {
   "cell_type": "code",
   "execution_count": null,
   "metadata": {},
   "outputs": [],
   "source": [
    "ks = kashti\n",
    "kashti.head()"
   ]
  },
  {
   "cell_type": "code",
   "execution_count": null,
   "metadata": {},
   "outputs": [],
   "source": [
    "ks1.groupby(['sex', 'class']).mean()"
   ]
  },
  {
   "cell_type": "code",
   "execution_count": null,
   "metadata": {},
   "outputs": [],
   "source": [
    "ks1.head()"
   ]
  },
  {
   "cell_type": "code",
   "execution_count": null,
   "metadata": {},
   "outputs": [],
   "source": [
    "ks1.groupby(['sex', 'class','who']).mean()"
   ]
  },
  {
   "cell_type": "markdown",
   "metadata": {},
   "source": [
    "# Relatioship"
   ]
  },
  {
   "cell_type": "code",
   "execution_count": null,
   "metadata": {},
   "outputs": [],
   "source": [
    "ks_clean.corr()"
   ]
  },
  {
   "cell_type": "code",
   "execution_count": null,
   "metadata": {},
   "outputs": [],
   "source": [
    "corr_ks_clean=ks_clean.corr()"
   ]
  },
  {
   "cell_type": "code",
   "execution_count": null,
   "metadata": {},
   "outputs": [],
   "source": [
    "sns.heatmap(corr_ks_clean)"
   ]
  },
  {
   "cell_type": "code",
   "execution_count": null,
   "metadata": {},
   "outputs": [],
   "source": [
    "sns.heatmap(corr_ks_clean, annot=True)"
   ]
  },
  {
   "cell_type": "code",
   "execution_count": null,
   "metadata": {},
   "outputs": [],
   "source": [
    "sns.relplot(x='age', y='fare', hue='sex', data=ks_clean)"
   ]
  },
  {
   "cell_type": "code",
   "execution_count": null,
   "metadata": {},
   "outputs": [],
   "source": [
    "sns.catplot(x='sex', y='fare', hue='sex', data=ks_clean, kind='bar')"
   ]
  },
  {
   "cell_type": "code",
   "execution_count": null,
   "metadata": {},
   "outputs": [],
   "source": [
    "sns.catplot(x='sex', y='fare', hue='sex', data=ks_clean, kind='box')"
   ]
  },
  {
   "cell_type": "code",
   "execution_count": null,
   "metadata": {},
   "outputs": [],
   "source": [
    "#log transformation\n",
    "ks_clean['fare_log']=np.log(ks_clean['fare'])\n",
    "ks_clean.head()"
   ]
  },
  {
   "cell_type": "code",
   "execution_count": null,
   "metadata": {},
   "outputs": [],
   "source": [
    "sns.catplot(x='sex', y='fare_log', hue='sex', data=ks_clean, kind='box')"
   ]
  },
  {
   "cell_type": "markdown",
   "metadata": {},
   "source": [
    "### Data Wrangling"
   ]
  },
  {
   "cell_type": "code",
   "execution_count": null,
   "metadata": {},
   "outputs": [],
   "source": [
    "import pandas as pd\n",
    "import numpy as np\n",
    "import  seaborn as sns"
   ]
  },
  {
   "cell_type": "code",
   "execution_count": null,
   "metadata": {},
   "outputs": [],
   "source": [
    "kashti=sns.load_dataset('titanic')\n",
    "ks1=kashti\n",
    "ks2=kashti\n",
    "ks= kashti\n"
   ]
  },
  {
   "cell_type": "code",
   "execution_count": null,
   "metadata": {},
   "outputs": [],
   "source": [
    "kashti.head()"
   ]
  },
  {
   "cell_type": "code",
   "execution_count": null,
   "metadata": {},
   "outputs": [],
   "source": [
    "#simple operation on series like + - *\n",
    "(kashti['age']+1).head()"
   ]
  },
  {
   "cell_type": "markdown",
   "metadata": {},
   "source": [
    "# Dealing with missing values\n",
    "- In a dataset missing values are either ? or Nan \\\n",
    "- Jb data na ho ksi bhi 1 row me"
   ]
  },
  {
   "cell_type": "markdown",
   "metadata": {},
   "source": [
    "## Steps\n",
    "koshi kren dubara data collect kren  \\\n",
    "miising value wale column nikal den agre possible ho distubance na ho to \\\n",
    "replace  missing values"
   ]
  },
  {
   "cell_type": "markdown",
   "metadata": {},
   "source": [
    "**Average**  \n",
    "## How\n",
    "- 1-frequency* or Mode \\\n",
    "- 2-*Replace on base of data* \\\n",
    "- 3 -*Use ML algortihm* \\\n",
    "- 4 -*Blank*\n",
    "\n",
    "## Why\n",
    "1- its better becuase no data is lost\n",
    "2- Less accurate"
   ]
  },
  {
   "cell_type": "code",
   "execution_count": null,
   "metadata": {},
   "outputs": [],
   "source": [
    "#see where missing values are\n",
    "kashti.isnull().sum()"
   ]
  },
  {
   "cell_type": "code",
   "execution_count": null,
   "metadata": {},
   "outputs": [],
   "source": [
    "# use drop.na method\n",
    "print(kashti.shape)\n",
    "kashti.dropna(subset=['deck'], axis=0, inplace=True)  \n",
    "#inplace= true modifies the dtaframe\n"
   ]
  },
  {
   "cell_type": "code",
   "execution_count": null,
   "metadata": {},
   "outputs": [],
   "source": [
    "kashti.isnull().sum() #find again null values"
   ]
  },
  {
   "cell_type": "code",
   "execution_count": null,
   "metadata": {},
   "outputs": [],
   "source": [
    "kashti = kashti.dropna()# to drop na\n",
    "# to update the main datafraame\n",
    "kashti.dropna().isnull().sum() #removing ns from whole dataframe"
   ]
  },
  {
   "cell_type": "code",
   "execution_count": null,
   "metadata": {},
   "outputs": [],
   "source": [
    "kashti.shape"
   ]
  },
  {
   "cell_type": "code",
   "execution_count": null,
   "metadata": {},
   "outputs": [],
   "source": [
    "ks1.isnull().sum()"
   ]
  },
  {
   "cell_type": "markdown",
   "metadata": {},
   "source": [
    "### Replacing missing values with the average of taht column"
   ]
  },
  {
   "cell_type": "code",
   "execution_count": null,
   "metadata": {},
   "outputs": [],
   "source": [
    "#finding an average (mean)\n",
    "mean = ks1['age'].mean()\n",
    "mean"
   ]
  },
  {
   "cell_type": "code",
   "execution_count": null,
   "metadata": {},
   "outputs": [],
   "source": [
    "# replacing nan with mean of the data (updating as well) \n",
    "ks1['age'] =  ks1 ['age'].replace(np.nan , mean)"
   ]
  },
  {
   "cell_type": "code",
   "execution_count": null,
   "metadata": {},
   "outputs": [],
   "source": [
    "ks1.isnull().sum()"
   ]
  },
  {
   "cell_type": "markdown",
   "metadata": {},
   "source": [
    "# Replcing missing values"
   ]
  },
  {
   "cell_type": "code",
   "execution_count": null,
   "metadata": {},
   "outputs": [],
   "source": [
    "mean = ks1['age'].mean()\n",
    "mean"
   ]
  },
  {
   "cell_type": "code",
   "execution_count": null,
   "metadata": {},
   "outputs": [],
   "source": [
    "ks1['age']= ks1['age'].replace(np.nan ,mean)"
   ]
  },
  {
   "cell_type": "code",
   "execution_count": null,
   "metadata": {},
   "outputs": [],
   "source": [
    "ks1.isnull().sum()"
   ]
  },
  {
   "cell_type": "code",
   "execution_count": null,
   "metadata": {},
   "outputs": [],
   "source": [
    "#know the data type and convert ot into the known one\n",
    "kashti.dtypes"
   ]
  },
  {
   "cell_type": "code",
   "execution_count": null,
   "metadata": {},
   "outputs": [],
   "source": [
    "#use this method to convert datatypes from one to another format\n",
    "\n",
    "kashti['survived'] = kashti ['survived'].astype(\"float64\")\n",
    "kashti.dtypes"
   ]
  },
  {
   "cell_type": "code",
   "execution_count": null,
   "metadata": {},
   "outputs": [],
   "source": [
    "#here we will conert age into days \n",
    "ks1[\"age\"] = ks1[\"age\"]*365\n",
    "ks1.head(10)"
   ]
  },
  {
   "cell_type": "code",
   "execution_count": null,
   "metadata": {},
   "outputs": [],
   "source": [
    "#Alwys rename afterwards\n",
    "ks1.rename(columns = {\"age\": \"age in days\"}, inplace =True)\n",
    "ks1.head()"
   ]
  },
  {
   "cell_type": "markdown",
   "metadata": {},
   "source": [
    "# Data Normalization\n",
    "### Uniform the data\n",
    "### Making user they have same impect\n",
    "### aik samneder me ak jar me\n",
    "### Also for compututional reasons"
   ]
  },
  {
   "cell_type": "code",
   "execution_count": null,
   "metadata": {},
   "outputs": [],
   "source": [
    "ks1.head()"
   ]
  },
  {
   "cell_type": "code",
   "execution_count": null,
   "metadata": {},
   "outputs": [],
   "source": [
    "ks4= ks1[[\"age in days\", 'fare']]\n",
    "ks4.head(10)"
   ]
  },
  {
   "cell_type": "code",
   "execution_count": null,
   "metadata": {},
   "outputs": [],
   "source": [
    "kashti.head()"
   ]
  },
  {
   "cell_type": "markdown",
   "metadata": {},
   "source": [
    "# Normalization"
   ]
  },
  {
   "cell_type": "code",
   "execution_count": null,
   "metadata": {},
   "outputs": [],
   "source": [
    "ks4 ['fare'] = ks4['fare'] /ks4['fare'].max()\n",
    "ks4 ['age in days'] = ks4['age in days'] /ks4['age in days'].max()\n",
    "ks4.head()"
   ]
  },
  {
   "cell_type": "code",
   "execution_count": null,
   "metadata": {},
   "outputs": [],
   "source": [
    "#min - Max Method\n",
    "ks4['fare'] = (ks4['fare']-ks4['fare'].min())/ks4['fare'].max()-ks4['fare'].min()\n",
    "ks4.head()"
   ]
  },
  {
   "cell_type": "code",
   "execution_count": null,
   "metadata": {},
   "outputs": [],
   "source": [
    "#Z-score (standard score)\n",
    "ks4['fare'] = (ks4['fare']-ks4['fare'].mean())/ks4['fare'].std()\n",
    "ks4.head()"
   ]
  },
  {
   "cell_type": "code",
   "execution_count": null,
   "metadata": {},
   "outputs": [],
   "source": [
    "# # Log transformation\n",
    "ks['fare'] = np.log(ks['fare'])\n",
    "ks.head()\n",
    "#Barey data pr krna chaie normalization"
   ]
  },
  {
   "cell_type": "markdown",
   "metadata": {},
   "source": [
    "### Binning\n",
    "Groupping of values into smaller \n",
    "convert numeric into categories"
   ]
  },
  {
   "cell_type": "code",
   "execution_count": null,
   "metadata": {},
   "outputs": [],
   "source": [
    "bins=np.linspace(min(kashti['age']),max(kashti['age']), 15000)\n",
    "age_groups=[\"bachey\", \"jawan\", \"boorhey\"]\n",
    "kashti['age']= pd.cut(kashti['age'], bins, include_lowest=True)\n",
    "labels=['10-20','21-30', '40-60']\n",
    "kashti['age']\n",
    "\n"
   ]
  },
  {
   "cell_type": "code",
   "execution_count": null,
   "metadata": {},
   "outputs": [],
   "source": [
    "pd.get_dummies(ks1['sex'])"
   ]
  },
  {
   "cell_type": "markdown",
   "metadata": {},
   "source": [
    "# Machine Learning\n"
   ]
  },
  {
   "cell_type": "markdown",
   "metadata": {},
   "source": [
    "# 1 Simple Linear Regression"
   ]
  },
  {
   "cell_type": "markdown",
   "metadata": {},
   "source": [
    "# Import Dataset"
   ]
  },
  {
   "cell_type": "code",
   "execution_count": null,
   "metadata": {},
   "outputs": [],
   "source": [
    "import pandas as pd\n",
    "df = pd.read_csv('ml_data_salary.csv')\n",
    "df.head()"
   ]
  },
  {
   "cell_type": "markdown",
   "metadata": {},
   "source": [
    "### Step-2 Spiltting data into training data and testing data"
   ]
  },
  {
   "cell_type": "code",
   "execution_count": null,
   "metadata": {},
   "outputs": [],
   "source": [
    "X = df[[\"YearsExperience\"]]\n",
    "y = df['Salary']"
   ]
  },
  {
   "cell_type": "code",
   "execution_count": null,
   "metadata": {},
   "outputs": [],
   "source": [
    "y.head()"
   ]
  },
  {
   "cell_type": "code",
   "execution_count": null,
   "metadata": {},
   "outputs": [],
   "source": [
    "#import library and spilt data\n",
    "from sklearn.model_selection import train_test_split\n",
    "X_train, X_test, y_train, y_test = train_test_split(X, y, random_state=0)"
   ]
  },
  {
   "cell_type": "markdown",
   "metadata": {},
   "source": [
    "### Step-3 Fit Linear Regression Model"
   ]
  },
  {
   "cell_type": "code",
   "execution_count": null,
   "metadata": {},
   "outputs": [],
   "source": [
    "from sklearn.linear_model import LinearRegression\n",
    "model = LinearRegression().fit(X_train, y_train)#Model create and model fit\n",
    "model"
   ]
  },
  {
   "cell_type": "markdown",
   "metadata": {},
   "source": [
    "### Step4 Plotting"
   ]
  },
  {
   "cell_type": "code",
   "execution_count": null,
   "metadata": {},
   "outputs": [],
   "source": [
    "import matplotlib.pyplot as plt\n",
    "plt.scatter(X_train, y_train)\n",
    "plt.plot(X_train, model.predict(X_train), color=\"red\")\n",
    "plt.xlabel(\"Tajurba\")\n",
    "plt.ylabel(\"Tankhuwa\")\n",
    "plt.title(\"Train Plot\")\n",
    "plt.show()"
   ]
  },
  {
   "cell_type": "code",
   "execution_count": null,
   "metadata": {},
   "outputs": [],
   "source": [
    "plt.scatter(X_test, y_test)\n",
    "plt.plot(X_test, model.predict(X_test), color=\"green\")\n",
    "plt.xlabel(\"Tankhuwa\")\n",
    "plt.xlabel(\"Tajurbaa\")\n",
    "plt.title(\"Test Plot\")\n",
    "plt.show()"
   ]
  },
  {
   "cell_type": "markdown",
   "metadata": {},
   "source": [
    "### Step-5 Testing and Evaluating your model"
   ]
  },
  {
   "cell_type": "code",
   "execution_count": null,
   "metadata": {},
   "outputs": [],
   "source": [
    "#Model Fitness\n",
    "print('Score for Training data = ', model.score(X_train, y_train))\n",
    "print('Score for Test = ' ,model.score(X_test, y_test))"
   ]
  },
  {
   "cell_type": "markdown",
   "metadata": {},
   "source": [
    "### Step-6 Prediction of Unknown Values"
   ]
  },
  {
   "cell_type": "code",
   "execution_count": null,
   "metadata": {},
   "outputs": [],
   "source": [
    "model.predict([[10]])"
   ]
  },
  {
   "cell_type": "code",
   "execution_count": null,
   "metadata": {},
   "outputs": [],
   "source": [
    "model.predict([[5], [10], [20]])"
   ]
  },
  {
   "cell_type": "code",
   "execution_count": null,
   "metadata": {},
   "outputs": [],
   "source": [
    "x = [5], [28], [4], [5]\n",
    "model.predict(x)"
   ]
  },
  {
   "cell_type": "code",
   "execution_count": null,
   "metadata": {},
   "outputs": [],
   "source": [
    "from sklearn.linear_model import LinearRegression\n",
    "regressor = LinearRegression()\n",
    "regressor.fit(X_train,y_train)\n",
    "r2_score = regressor.score(X_test,y_test)\n",
    "print(r2_score*100,'%')"
   ]
  },
  {
   "cell_type": "markdown",
   "metadata": {},
   "source": [
    "# Multiple Linear Regression"
   ]
  },
  {
   "cell_type": "markdown",
   "metadata": {},
   "source": [
    "- Input Data\n",
    "- Features \n",
    "- Input Variables\n",
    "- Input data = independent, features, predictor, variables\n",
    "- Output\n",
    "- Prediction\n",
    "- Dependent variable\n",
    "output data = response, target, observed data, output"
   ]
  },
  {
   "cell_type": "code",
   "execution_count": null,
   "metadata": {},
   "outputs": [],
   "source": [
    "#importing liabraries\n",
    "import pandas as pd\n",
    "import numpy as np\n",
    "from sklearn.linear_model import LinearRegression\n",
    "import seaborn as sns\n",
    "import matplotlib.pyplot as plt"
   ]
  },
  {
   "cell_type": "code",
   "execution_count": null,
   "metadata": {},
   "outputs": [],
   "source": [
    "#import data\n",
    "df = pd.read_csv('ml_data_salary.csv')\n",
    "df.head()"
   ]
  },
  {
   "cell_type": "code",
   "execution_count": null,
   "metadata": {},
   "outputs": [],
   "source": [
    "X =df[['age', \"distance\", 'YearsExperience']]\n",
    "y = df['Salary']"
   ]
  },
  {
   "cell_type": "code",
   "execution_count": null,
   "metadata": {},
   "outputs": [],
   "source": [
    "#import and spilt data\n",
    "from sklearn.model_selection import train_test_split\n",
    "X_train, X_test, y_train, y_test = train_test_split(X, y, random_state=0)"
   ]
  },
  {
   "cell_type": "code",
   "execution_count": null,
   "metadata": {},
   "outputs": [],
   "source": [
    "#create and  fit the model\n",
    "model = LinearRegression().fit(X,y)\n",
    "model"
   ]
  },
  {
   "cell_type": "code",
   "execution_count": null,
   "metadata": {},
   "outputs": [],
   "source": [
    "model.coef_"
   ]
  },
  {
   "cell_type": "code",
   "execution_count": null,
   "metadata": {},
   "outputs": [],
   "source": [
    "model.intercept_\n"
   ]
  },
  {
   "cell_type": "code",
   "execution_count": null,
   "metadata": {},
   "outputs": [],
   "source": [
    "model.predict([[31.1,77.75,1.1]])"
   ]
  },
  {
   "cell_type": "code",
   "execution_count": null,
   "metadata": {},
   "outputs": [],
   "source": [
    "# Assignemnt is how to plot multiple linear reg model?\n",
    "# How to test the efficicacy of model?\n",
    "\n",
    "import seaborn as sns\n",
    "import matplotlib.pyplot as plt\n",
    "sns.set_style(\"ticks\")\n",
    "fig, ax = plt.subplots(figsize=(8,10))\n",
    "sns.regplot(x='age', y='Salary', data= df, fit_reg=True, ci=None, ax=ax)\n",
    "sns.regplot(x='distance', y ='Salary', data= df, fit_reg=True, ci=None, ax=ax)\n",
    "sns.regplot(x='YearsExperience', y='Salary', data=df, fit_reg=True, ci=None, ax=ax)\n",
    "ax.set(ylabel='Salar', xlabel='age | distance | YearsExperience')\n",
    "ax.legend()\n",
    "plt.show"
   ]
  },
  {
   "cell_type": "code",
   "execution_count": null,
   "metadata": {},
   "outputs": [],
   "source": [
    "reg = LinearRegression().fit(X_test, y_test)\n",
    "print(\"Test score =\", reg.score(X_test, y_test))\n",
    "print(\"Train score =\", reg.score(X_train, y_train))"
   ]
  },
  {
   "cell_type": "code",
   "execution_count": null,
   "metadata": {},
   "outputs": [],
   "source": [
    "from sklearn.linear_model import LinearRegression\n",
    "regressor = LinearRegression()\n",
    "regressor.fit(X_train,y_train)\n",
    "r2_score = regressor.score(X_test,y_test)\n",
    "print(r2_score*100,'%')\n"
   ]
  },
  {
   "cell_type": "code",
   "execution_count": null,
   "metadata": {},
   "outputs": [],
   "source": [
    "#import libraries\n",
    "import pandas as pd\n",
    "df=pd.read_csv('mldata.csv')\n",
    "df.tail()"
   ]
  },
  {
   "cell_type": "code",
   "execution_count": null,
   "metadata": {},
   "outputs": [],
   "source": [
    "df['gender'] = df['gender'].replace(\"Male\", 1)\n",
    "df['gender'] = df['gender'].replace(\"Female\", 0)\n",
    "df.head()"
   ]
  },
  {
   "cell_type": "markdown",
   "metadata": {},
   "source": [
    "# Decision tree classifier\n",
    "- categorical variable/discrete vriable\n",
    "- to define this we will use Decision Tree Classifier "
   ]
  },
  {
   "cell_type": "code",
   "execution_count": null,
   "metadata": {},
   "outputs": [],
   "source": [
    "#Selection of input and output variable\n",
    "X=df[['weight', 'gender']]\n",
    "y=df['likeness']"
   ]
  },
  {
   "cell_type": "code",
   "execution_count": null,
   "metadata": {},
   "outputs": [],
   "source": [
    "X.head()"
   ]
  },
  {
   "cell_type": "code",
   "execution_count": null,
   "metadata": {},
   "outputs": [],
   "source": [
    "y.head()"
   ]
  },
  {
   "cell_type": "code",
   "execution_count": null,
   "metadata": {},
   "outputs": [],
   "source": [
    "#machine learning algorithm\n",
    "from sklearn.tree import DecisionTreeClassifier\n",
    "#create and fit\n",
    "model= DecisionTreeClassifier().fit(X,y)\n",
    "#prediction\n",
    "model.predict([[40, 0]])"
   ]
  },
  {
   "cell_type": "code",
   "execution_count": null,
   "metadata": {},
   "outputs": [],
   "source": [
    "#how to measure accuracy of model\n",
    "# split data into test and train \n",
    "from sklearn.model_selection import train_test_split\n",
    "from sklearn.metrics import accuracy_score\n",
    "X_train, X_test, y_train, y_test= train_test_split(X, y, test_size=0.2) #80% training and 20%testing data\n",
    "#create a model\n",
    "model =DecisionTreeClassifier()\n",
    "#fitting model\n",
    "model.fit(X_train, y_train)\n",
    "\n",
    "predicted_values = model.predict(X_test)\n",
    "predicted_values\n",
    "\n",
    "#checking score\n",
    "score = accuracy_score(y_test, predicted_values)\n",
    "score\n",
    "#ye or model pr bhi lagaskte hn linear regression etc\n"
   ]
  },
  {
   "cell_type": "code",
   "execution_count": null,
   "metadata": {},
   "outputs": [],
   "source": [
    "#How to train and save your model\n",
    "import pandas as pd\n",
    "from sklearn.tree import DecisionTreeClassifier\n",
    "import joblib\n",
    "\n",
    "model = DecisionTreeClassifier().fit(X,y)\n",
    "joblib.dump(model, \"foodie.joblib\")\n"
   ]
  },
  {
   "cell_type": "code",
   "execution_count": null,
   "metadata": {},
   "outputs": [],
   "source": [
    "#how to import and run stored or saved model on our data>? Assignement"
   ]
  },
  {
   "cell_type": "code",
   "execution_count": null,
   "metadata": {},
   "outputs": [],
   "source": [
    "#graph\n",
    "from sklearn import tree\n",
    "model = DecisionTreeClassifier().fit(X,y)\n",
    "#Graphic evaluation LOOK\n",
    "tree.export_graphviz(model,\n",
    "                    out_file=\"foodie_data.dot\",\n",
    "                    feature_names=['age', 'gender'],\n",
    "                    class_names=sorted(y.unique()),\n",
    "                    label=True,\n",
    "                    filled=True)\n",
    "# Done till here"
   ]
  },
  {
   "cell_type": "code",
   "execution_count": null,
   "metadata": {},
   "outputs": [],
   "source": [
    "#Assignemnt"
   ]
  },
  {
   "cell_type": "code",
   "execution_count": null,
   "metadata": {},
   "outputs": [],
   "source": [
    "joblib_model_file = joblib.load('foodie.joblib')\n",
    "joblib_model_file \n"
   ]
  },
  {
   "cell_type": "markdown",
   "metadata": {},
   "source": [
    "# Importing Libraries"
   ]
  },
  {
   "cell_type": "code",
   "execution_count": null,
   "metadata": {},
   "outputs": [],
   "source": [
    "import pandas as pd\n",
    "#importing liabraries\n",
    "import pandas as pd\n",
    "import numpy as np\n",
    "from sklearn.linear_model import LinearRegression\n",
    "import seaborn as sns\n",
    "import matplotlib.pyplot as plt\n"
   ]
  },
  {
   "cell_type": "markdown",
   "metadata": {},
   "source": [
    "## Importing dataset"
   ]
  },
  {
   "cell_type": "code",
   "execution_count": null,
   "metadata": {},
   "outputs": [],
   "source": [
    "df=pd.read_csv('mldata.csv')\n",
    "df.tail()"
   ]
  },
  {
   "cell_type": "markdown",
   "metadata": {},
   "source": [
    "### Making dummy variables"
   ]
  },
  {
   "cell_type": "code",
   "execution_count": null,
   "metadata": {},
   "outputs": [],
   "source": [
    "df['gender'] = df['gender'].replace(\"Male\", 1)\n",
    "df['gender'] = df['gender'].replace(\"Female\", 0)\n",
    "df.head()"
   ]
  },
  {
   "cell_type": "markdown",
   "metadata": {},
   "source": [
    "### Selecting variablles for Input and output"
   ]
  },
  {
   "cell_type": "code",
   "execution_count": null,
   "metadata": {},
   "outputs": [],
   "source": [
    "#Selection of input and output variable\n",
    "X=df[['age', 'height','weight', 'gender']]\n",
    "y=df['likeness'] "
   ]
  },
  {
   "cell_type": "code",
   "execution_count": null,
   "metadata": {},
   "outputs": [],
   "source": [
    "X.head()"
   ]
  },
  {
   "cell_type": "code",
   "execution_count": null,
   "metadata": {},
   "outputs": [],
   "source": [
    "y.head()"
   ]
  },
  {
   "cell_type": "markdown",
   "metadata": {},
   "source": [
    "### Creating and Fitting the model"
   ]
  },
  {
   "cell_type": "code",
   "execution_count": null,
   "metadata": {},
   "outputs": [],
   "source": [
    "#machine learning algorithm\n",
    "from sklearn.tree import DecisionTreeClassifier\n",
    "#create and fit\n",
    "model= DecisionTreeClassifier().fit(X,y)\n",
    "#prediction\n",
    "model.predict([[33.0,\t157.0, 56.0, 0]])"
   ]
  },
  {
   "cell_type": "code",
   "execution_count": null,
   "metadata": {},
   "outputs": [],
   "source": [
    "#How to train and save your model\n",
    "import pandas as pd\n",
    "from sklearn.tree import DecisionTreeClassifier\n",
    "import joblib\n",
    "\n",
    "model = DecisionTreeClassifier().fit(X,y)\n",
    "joblib.dump(model, \"foodie.joblib\")"
   ]
  },
  {
   "cell_type": "code",
   "execution_count": null,
   "metadata": {},
   "outputs": [],
   "source": [
    "#graph\n",
    "from sklearn import tree\n",
    "model = DecisionTreeClassifier().fit(X,y)\n",
    "#Graphic evaluation LOOK\n",
    "tree.export_graphviz(model,\n",
    "                    out_file=\"foodData.dot\",\n",
    "                    feature_names=['age', 'gender', 'height', 'weight'],\n",
    "                    class_names=sorted(y.unique()),\n",
    "                    label=True,\n",
    "                    filled=True)\n",
    "# Done till here"
   ]
  },
  {
   "cell_type": "markdown",
   "metadata": {},
   "source": [
    "### Importing and running model"
   ]
  },
  {
   "cell_type": "markdown",
   "metadata": {},
   "source": [
    "- Done"
   ]
  },
  {
   "cell_type": "code",
   "execution_count": null,
   "metadata": {},
   "outputs": [],
   "source": [
    "joblib_model_file = joblib.load('foodie.joblib')\n",
    "joblib_model_file \n"
   ]
  },
  {
   "cell_type": "code",
   "execution_count": null,
   "metadata": {},
   "outputs": [],
   "source": [
    "#load sample dataset\n",
    "import pandas as pd  \n",
    "import numpy as np\n",
    "import seaborn as sns\n",
    "df = sns.load_dataset('iris')\n",
    "df.head()"
   ]
  },
  {
   "cell_type": "code",
   "execution_count": null,
   "metadata": {},
   "outputs": [],
   "source": [
    "import matplotlib.pyplot as plt\n",
    "from sklearn.tree import DecisionTreeClassifier\n",
    "X = df.iloc[: , :-1]\n",
    "y = df.iloc[: ,-1:]"
   ]
  },
  {
   "cell_type": "code",
   "execution_count": null,
   "metadata": {},
   "outputs": [],
   "source": [
    "X.head()\n"
   ]
  },
  {
   "cell_type": "code",
   "execution_count": null,
   "metadata": {},
   "outputs": [],
   "source": [
    "y.head()"
   ]
  },
  {
   "cell_type": "code",
   "execution_count": null,
   "metadata": {},
   "outputs": [],
   "source": [
    "from sklearn.tree import DecisionTreeClassifier\n",
    "from sklearn.tree import plot_tree\n",
    "from sklearn.model_selection import train_test_split\n",
    "from sklearn.metrics import accuracy_score\n",
    "\n",
    "X_train, X_test, y_train, y_test, = train_test_split(X, y, test_size= 0.3) #80 and 20%\n",
    "\n",
    "model = DecisionTreeClassifier().fit(X_train, y_train)\n",
    "model.predict([[6,9,9,1], [1,3,2,2],[6,0,6,8],[2,3,6,6]])\n"
   ]
  },
  {
   "cell_type": "code",
   "execution_count": null,
   "metadata": {},
   "outputs": [],
   "source": [
    "model.predict([[8,9,3,1]])"
   ]
  },
  {
   "cell_type": "code",
   "execution_count": null,
   "metadata": {},
   "outputs": [],
   "source": [
    "model.predict([[6,0,1,1], [9,2,1,2],[6,9,6,8],[2,3,6,6],[6,9,9,1], [1,3,2,2],[6,0,6,8],[2,3,6,6]])"
   ]
  },
  {
   "cell_type": "code",
   "execution_count": null,
   "metadata": {},
   "outputs": [],
   "source": [
    "#from sklearn.tree import DecisionTreeClassifier\n",
    "plot_tree(model, filled=True)\n",
    "plt.title(\"Decision Tree trained model of IRIS data\")\n",
    "plt.savefig('tiff_compressed.tiff', dpi=600, formats=\"tiff\", \n",
    "            facecolor='white', edgecolor='none',\n",
    "            pil_kwargs={\"compression\": \"tiff_lzw\"})\n",
    "plt.show()"
   ]
  },
  {
   "cell_type": "code",
   "execution_count": null,
   "metadata": {},
   "outputs": [],
   "source": [
    "from sklearn.tree import DecisionTreeClassifier\n",
    "from sklearn.tree import plot_tree\n",
    "from sklearn.model_selection import train_test_split\n",
    "from sklearn.metrics import accuracy_score\n",
    "\n",
    "X_train, X_test, y_train, y_test, = train_test_split(X, y, test_size= 0.2) #80 and 20%\n",
    "\n",
    "model = DecisionTreeClassifier().fit(X_train, y_train)\n",
    "model.predict([[6,9,9,1], [1,3,2,2],[6,0,6,8],[2,3,6,6]])"
   ]
  },
  {
   "cell_type": "code",
   "execution_count": null,
   "metadata": {},
   "outputs": [],
   "source": [
    "model.predict([[8,9,3,1]])"
   ]
  },
  {
   "cell_type": "markdown",
   "metadata": {},
   "source": [
    "# Random Forest Classifer"
   ]
  },
  {
   "cell_type": "code",
   "execution_count": null,
   "metadata": {},
   "outputs": [],
   "source": [
    "#load sample dataset\n",
    "import pandas as pd  \n",
    "import numpy as np\n",
    "import seaborn as sns"
   ]
  },
  {
   "cell_type": "code",
   "execution_count": null,
   "metadata": {},
   "outputs": [],
   "source": [
    "\n",
    "df = sns.load_dataset('iris')\n"
   ]
  },
  {
   "cell_type": "code",
   "execution_count": null,
   "metadata": {},
   "outputs": [],
   "source": [
    "X = df.iloc[: , :-1]\n",
    "y = df.iloc[: ,-1:]"
   ]
  },
  {
   "cell_type": "code",
   "execution_count": null,
   "metadata": {},
   "outputs": [],
   "source": [
    "X.head()"
   ]
  },
  {
   "cell_type": "code",
   "execution_count": null,
   "metadata": {},
   "outputs": [],
   "source": [
    "y.head()"
   ]
  },
  {
   "cell_type": "code",
   "execution_count": null,
   "metadata": {},
   "outputs": [],
   "source": [
    "from sklearn.ensemble import RandomForestClassifier\n",
    "model = RandomForestClassifier(n_estimators=100) #Assignmentn_estimators=100)why 100 what t means\n",
    "model.fit(X,y)\n",
    "model.predict([[5, 4, 2, 6]])\n",
    "\n",
    "#Your work is to work with Regression, Random forest regressor"
   ]
  },
  {
   "cell_type": "code",
   "execution_count": null,
   "metadata": {},
   "outputs": [],
   "source": [
    "from sklearn.model_selection import train_test_split\n",
    "X_train, X_test, y_train, y_test = train_test_split(X,y, test_size=0.2)\n",
    "\n",
    "predictions = model.predict(X_test)\n",
    "predictions"
   ]
  },
  {
   "cell_type": "code",
   "execution_count": null,
   "metadata": {},
   "outputs": [],
   "source": [
    "#accuracy test\n",
    "score = model.score(X_test, y_test)\n",
    "print(\"The accuracy score id: \", score)"
   ]
  },
  {
   "cell_type": "code",
   "execution_count": null,
   "metadata": {},
   "outputs": [],
   "source": [
    "from sklearn import metrics\n",
    "print(\"Accuracy: \", metrics.accuracy_score(y_test, predictions))"
   ]
  },
  {
   "cell_type": "code",
   "execution_count": null,
   "metadata": {},
   "outputs": [],
   "source": [
    "from sklearn import metrics\n",
    "cm = metrics.confusion_matrix(y_test, predictions)\n",
    "cm"
   ]
  },
  {
   "cell_type": "code",
   "execution_count": null,
   "metadata": {},
   "outputs": [],
   "source": [
    "import seaborn as sns \n",
    "import matplotlib.pyplot as plt\n",
    "plt.figure(figsize=(9,9))\n",
    "sns.heatmap(cm, annot=True, fmt=\".3f\", linewidths=.5, square= True, cmap='Spectral');\n",
    "plt.ylabel('Actual Output');\n",
    "plt.xlabel('Predicted Output');\n",
    "all_sample_title = 'Accuracy Score: {0}'.format(score);\n",
    "plt.title(all_sample_title, size=15);"
   ]
  },
  {
   "cell_type": "markdown",
   "metadata": {},
   "source": [
    "# n_estimators\n",
    "- n_estimetore are te numbers of trees in RandomForest, how many subsets of data you want to make for your model?\n",
    "- Its better to take more no of trees it's better for good prediction, but it also depends on our running laptop,cpu how many we should  take.  \n",
    "- Its default value is hundred\n",
    "- In version 0.22 its defualt value is 10 - 100"
   ]
  },
  {
   "cell_type": "code",
   "execution_count": null,
   "metadata": {},
   "outputs": [],
   "source": [
    "import pandas as pd\n",
    "import numpy as np\n",
    "import matplotlib.pyplot as plt\n",
    "  \n",
    "df = pd.read_csv('Salary_data.csv')\n",
    "df.head()\n"
   ]
  },
  {
   "cell_type": "code",
   "execution_count": null,
   "metadata": {},
   "outputs": [],
   "source": [
    "X = df.iloc[: , :-1]\n",
    "y = df.iloc[: ,-1:]"
   ]
  },
  {
   "cell_type": "code",
   "execution_count": null,
   "metadata": {},
   "outputs": [],
   "source": [
    "from sklearn.ensemble import RandomForestRegressor\n",
    "from sklearn.model_selection import train_test_split\n",
    "X_train, X_test, y_train, y_test, = train_test_split(X, y, test_size= 0.2)\n",
    "regressor= RandomForestRegressor(n_estimators=90, random_state=42,max_depth = 3, ) \n",
    "regressor.fit(X_train,y_train)\n",
    "regressor.predict([[65]])"
   ]
  },
  {
   "cell_type": "code",
   "execution_count": null,
   "metadata": {},
   "outputs": [],
   "source": [
    "regressor.predict([[56],[56],[56]])"
   ]
  },
  {
   "cell_type": "code",
   "execution_count": null,
   "metadata": {},
   "outputs": [],
   "source": [
    "score=regressor.score(X_test, y_test)\n",
    "print(\"The Accuracy of model is =\", score)"
   ]
  },
  {
   "cell_type": "code",
   "execution_count": null,
   "metadata": {},
   "outputs": [],
   "source": [
    "# Scatter \n",
    "plt.scatter(X, y, color = 'red') \n",
    "plt.plot(X, regressor.predict(X),\n",
    "         color = 'green')\n",
    "plt.title('Random Forest Regression')\n",
    "plt.xlabel('Experience')\n",
    "plt.ylabel('Salary')\n",
    "plt.show()"
   ]
  },
  {
   "cell_type": "markdown",
   "metadata": {},
   "source": [
    "# K nearest-neighbour"
   ]
  },
  {
   "cell_type": "code",
   "execution_count": null,
   "metadata": {},
   "outputs": [],
   "source": [
    "#import libraries\n",
    "import pandas as pd\n",
    "df=pd.read_csv('mldata.csv')\n",
    "df.tail()"
   ]
  },
  {
   "cell_type": "code",
   "execution_count": null,
   "metadata": {},
   "outputs": [],
   "source": [
    "df.head()"
   ]
  },
  {
   "cell_type": "code",
   "execution_count": null,
   "metadata": {},
   "outputs": [],
   "source": [
    "#Selection of input and output variable\n",
    "X=df[['weight', 'gender']]\n",
    "y=df['likeness']"
   ]
  },
  {
   "cell_type": "code",
   "execution_count": null,
   "metadata": {},
   "outputs": [],
   "source": [
    "#model and prediction\n",
    "from sklearn.neighbors import KNeighborsClassifier\n",
    "model = KNeighborsClassifier(n_neighbors=4)\n",
    "\n",
    "#Train the model using the training sets\n",
    "model.fit(X, y)\n",
    "#predicted Output\n",
    "\n",
    "predicted = model.predict([[78, 1]]) #70: weight, 1: gender\n",
    "predicted"
   ]
  },
  {
   "cell_type": "code",
   "execution_count": null,
   "metadata": {},
   "outputs": [],
   "source": [
    "model.predict(X)"
   ]
  },
  {
   "cell_type": "code",
   "execution_count": null,
   "metadata": {},
   "outputs": [],
   "source": [
    "#metrices for evaluation\n",
    "#spilt data into test and train(80/20)\n",
    "from sklearn.model_selection import train_test_split\n",
    "from sklearn.metrics import accuracy_score\n",
    "\n",
    "X_train, X_test, y_train, y_test, = train_test_split(X, y, test_size=0.2) #80 and 20%\n",
    "\n",
    "#create model\n",
    "model=KNeighborsClassifier()\n",
    "#fitting the model\n",
    "model.fit(X_train, y_train)\n",
    "\n",
    "predicted_values = model.predict(X_test)\n",
    "predicted_values\n",
    "\n",
    "#cheking score\n",
    "#y_test = actual values\n",
    "\n",
    "score=accuracy_score(y_test, predicted_values)\n",
    "print(\"The accuracy socre for our model is =\", score)\n",
    "\n"
   ]
  },
  {
   "cell_type": "markdown",
   "metadata": {},
   "source": [
    "## Confusion Metrix\n",
    "Confusion matrix give output a metrix which describe the perfromance of a model, counts instances of a class A into class B like if there is an images array in which it will go through different rows and columns and it works on set of predictions. \n",
    "It will have tru positive and true negative numbers having non zeros.\n",
    "\n"
   ]
  },
  {
   "cell_type": "markdown",
   "metadata": {},
   "source": [
    "## F1 Score\n",
    "F1 score is used to measure test accuracy, its harmonnic mean between precision and recall, it ranges between 0 and 1, it precisely tells about classifier it gi thorugh all the instances.\n",
    "When precision is high and recall is low it means model is accurate "
   ]
  },
  {
   "cell_type": "markdown",
   "metadata": {},
   "source": [
    "### Precision\n",
    "Precision is True positive numbers divided by numbers of positive results predicted by the classifier"
   ]
  },
  {
   "cell_type": "markdown",
   "metadata": {},
   "source": [
    "### Recall\n",
    "Recall is the numbers of correct positive results divided by the number of all relevant samplespositive."
   ]
  },
  {
   "cell_type": "markdown",
   "metadata": {},
   "source": [
    "### Mean Absolute Error\n",
    "MAE is average between the orignal values and predicted values, it tell how much our results are closer to orignal input values/"
   ]
  },
  {
   "cell_type": "markdown",
   "metadata": {},
   "source": [
    "# Area Under Curve\n",
    " This evaluation metrics is used fro binary classification, AUC of a classifier is equal to the probability that the classifier will rank a randomly chosen positive example higher than a randomly chosen negative"
   ]
  },
  {
   "cell_type": "markdown",
   "metadata": {},
   "source": [
    "## Cross Validation  \n",
    "Used it very first in checking accuracy score it describes accuracy score scikitlearn have different way to deal with accuracy of different kinds of data.\n"
   ]
  },
  {
   "cell_type": "markdown",
   "metadata": {},
   "source": [
    "# Polynomial Regresson"
   ]
  },
  {
   "cell_type": "code",
   "execution_count": null,
   "metadata": {},
   "outputs": [],
   "source": [
    "#bad fit \n",
    "import numpy \n",
    "import matplotlib.pyplot as plt\n",
    "x = [89,43,36,36,95,10,66,34,38,20,26,29,48,64,6,5,36,66,72,40]\n",
    "y = [21,46,3,35,67,95,53,72,58,10,26,34,90,33,38,20,56,2,47,15]\n",
    "\n",
    "mymodel = numpy.poly1d(numpy.polyfit(x, y, 3))\n",
    "\n",
    "myline = numpy.linspace(2, 95, 100)\n",
    "\n",
    "plt.scatter(x,y)\n",
    "plt.plot(myline, mymodel(myline))\n",
    "plt.show()\n",
    "\n"
   ]
  },
  {
   "cell_type": "code",
   "execution_count": null,
   "metadata": {},
   "outputs": [],
   "source": [
    "#R-squred for bad fit\n",
    "\n",
    "import numpy \n",
    "from sklearn.metrics import r2_score\n",
    "\n",
    "x = [89,43,36,36,95,10,66,34,38,20,26,29,48,64,6,5,36,66,72,40]\n",
    "y = [21,46,3,35,67,95,53,72,58,10,26,34,90,33,38,20,56,2,47,15]\n",
    "\n",
    "model = numpy.poly1d(numpy.polyfit(x, y, 3))\n",
    "\n",
    "print(r2_score(y, model(x)))"
   ]
  },
  {
   "cell_type": "code",
   "execution_count": null,
   "metadata": {},
   "outputs": [],
   "source": [
    "# Step1: Data\n",
    "import matplotlib.pyplot as plt\n",
    "\n",
    "x = [1,2,3,5,6,7,8,9,10,12,13,14,15,16,18,19,21,22]\n",
    "y = [100,90,80,60,60,55,60,65,70,70,75,76,78,79,90,99,99,100]\n",
    "\n",
    "plt.scatter(x,y, color=\"green\")\n",
    "plt.show()"
   ]
  },
  {
   "cell_type": "code",
   "execution_count": null,
   "metadata": {},
   "outputs": [],
   "source": [
    "# Step2: Draw the line\n",
    "import numpy \n",
    "import matplotlib.pyplot as plt\n",
    "\n",
    "x = [1,2,3,5,6,7,8,9,10,12,13,14,15,16,18,19,21,22]\n",
    "y = [100,90,80,60,60,55,60,65,70,70,75,76,78,79,90,99,99,100]\n",
    "\n",
    "mymodel = numpy.poly1d(numpy.polyfit(x, y , 3))\n",
    "\n",
    "myline = numpy.linspace(1, 22, 100)\n",
    "\n",
    "plt.scatter(x, y)\n",
    "plt.plot(myline, mymodel(myline))\n",
    "plt.show()"
   ]
  },
  {
   "cell_type": "code",
   "execution_count": null,
   "metadata": {},
   "outputs": [],
   "source": [
    "# Step3: Rsquared\n",
    "import numpy \n",
    "import matplotlib.pyplot as plt\n",
    "\n",
    "x = [1,2,3,5,6,7,8,9,10,12,13,14,15,16,18,19,21,22]\n",
    "y = [100,90,80,60,60,55,60,65,70,70,75,76,78,79,90,99,99,100]\n",
    "\n",
    "mymodel = numpy.poly1d(numpy.polyfit(x, y , 3))\n",
    "\n",
    "print(r2_score(y, mymodel(x)))"
   ]
  },
  {
   "cell_type": "code",
   "execution_count": null,
   "metadata": {},
   "outputs": [],
   "source": [
    "# Prediction\n",
    "import numpy \n",
    "from sklearn.metrics import r2_score\n",
    "\n",
    "x = [1,2,3,5,6,7,8,9,10,12,13,14,15,16,18,19,21,22]\n",
    "y = [100,90,80,60,60,55,60,65,70,70,75,76,78,79,90,99,99,100]\n",
    "\n",
    "mymodel = numpy.poly1d(numpy.polyfit(x, y , 3))\n",
    "\n",
    "speed = mymodel(18)\n",
    "print(speed)"
   ]
  },
  {
   "cell_type": "markdown",
   "metadata": {},
   "source": [
    "# Hands on Example\n"
   ]
  },
  {
   "cell_type": "code",
   "execution_count": null,
   "metadata": {},
   "outputs": [],
   "source": [
    "# Another important example\n",
    "import numpy as numpy\n",
    "import matplotlib.pyplot as plt\n",
    "import pandas as pd\n",
    "\n",
    "#IMporting the dataset\n",
    "\n",
    "dataset = pd.read_csv('https://s3.us-west-2.amazonaws.com/public.gamelab.fun/dataset/position_salaries.csv')\n",
    "X= dataset.iloc[:, 1:2].values\n",
    "y = dataset.iloc[:, 2].values"
   ]
  },
  {
   "cell_type": "code",
   "execution_count": null,
   "metadata": {},
   "outputs": [],
   "source": [
    "dataset.head()"
   ]
  },
  {
   "cell_type": "code",
   "execution_count": null,
   "metadata": {},
   "outputs": [],
   "source": [
    "#splitting the datasetinto the Training set and Test set\n",
    "from sklearn.model_selection import train_test_split\n",
    "\n",
    "X_train, X_test, y_train, y_test = train_test_split(X, y, test_size=0.2, random_state=0)"
   ]
  },
  {
   "cell_type": "code",
   "execution_count": null,
   "metadata": {},
   "outputs": [],
   "source": [
    "#Fitting Linear Regression to the dataset\n",
    "from sklearn.linear_model import LinearRegression\n",
    "lin_reg = LinearRegression()\n",
    "lin_reg.fit(X,y)\n",
    "\n",
    "#Visualizing the linear Regression results\n",
    "\n",
    "def viz_linear():\n",
    "    plt.scatter(X, y, color ='red')\n",
    "    plt.plot(X, lin_reg.predict(X), color = 'blue')\n",
    "    plt.title('Truth or Bluff (Linear Regression)')\n",
    "    plt.xlabel('Positinal level')\n",
    "    plt.ylabel('Salary')\n",
    "    plt.show()\n",
    "    return\n",
    "viz_linear ()  "
   ]
  },
  {
   "cell_type": "code",
   "execution_count": null,
   "metadata": {},
   "outputs": [],
   "source": [
    "#Fitting Polynomial Regression to the dataset\n",
    "\n",
    "from sklearn.preprocessing import PolynomialFeatures\n",
    "poly_reg = PolynomialFeatures(degree=4)\n",
    "X_poly = poly_reg.fit_transform(X)\n",
    "pol_reg = LinearRegression()\n",
    "pol_reg.fit(X_poly, y)\n",
    "\n",
    "#Visualizing the linear Regression results\n",
    "\n",
    "def viz_polynomial():\n",
    "    plt.scatter(X, y, color ='red')\n",
    "    plt.plot(X, pol_reg.predict(poly_reg.fit_transform(X)), color = 'blue')\n",
    "    plt.title('Truth or Bluff (Linear Regression)')\n",
    "    plt.xlabel('Positinal level')\n",
    "    plt.ylabel('Salary')\n",
    "    plt.show()\n",
    "    return\n",
    "viz_polynomial()  \n"
   ]
  },
  {
   "cell_type": "code",
   "execution_count": null,
   "metadata": {},
   "outputs": [],
   "source": [
    "# Predicting a new result with Linear Regression\n",
    "pred_linear = lin_reg.predict([[11]])"
   ]
  },
  {
   "cell_type": "code",
   "execution_count": null,
   "metadata": {},
   "outputs": [],
   "source": [
    "# Predicting a new result with Polynomial Regression\n",
    "pred_polynomial = pol_reg.predict(poly_reg.fit_transform([[11]]))"
   ]
  },
  {
   "cell_type": "code",
   "execution_count": null,
   "metadata": {},
   "outputs": [],
   "source": [
    "print(\"Linear Regression results = \", pred_linear)\n",
    "print(\"Polynomial Regression results = \", pred_polynomial)\n",
    "print(\"The Difference is                = \",pred_linear - pred_polynomial )"
   ]
  },
  {
   "cell_type": "markdown",
   "metadata": {},
   "source": [
    "# Naive Bayes"
   ]
  },
  {
   "cell_type": "code",
   "execution_count": null,
   "metadata": {},
   "outputs": [],
   "source": [
    "# Importing Libraries\n",
    "import numpy as np\n",
    "import pandas as pd\n",
    "import matplotlib.pyplot as plt\n"
   ]
  },
  {
   "cell_type": "code",
   "execution_count": null,
   "metadata": {},
   "outputs": [],
   "source": [
    "#Load the dataset\n",
    "import seaborn as sns\n",
    "phool = sns.load_dataset('iris')\n",
    "phool.head()\n"
   ]
  },
  {
   "cell_type": "code",
   "execution_count": null,
   "metadata": {},
   "outputs": [],
   "source": [
    "# Inputs and Outputs\n",
    "X = phool.iloc[:, :-1] #features\n",
    "y = phool.iloc[:, -1:] #labels"
   ]
  },
  {
   "cell_type": "code",
   "execution_count": null,
   "metadata": {},
   "outputs": [],
   "source": [
    "X.head()"
   ]
  },
  {
   "cell_type": "code",
   "execution_count": null,
   "metadata": {},
   "outputs": [],
   "source": [
    "y.head()"
   ]
  },
  {
   "cell_type": "code",
   "execution_count": null,
   "metadata": {},
   "outputs": [],
   "source": [
    "# training and fitting the model\n",
    "from sklearn.naive_bayes import GaussianNB #assignment:what is Gaussian naive bayes? or kon kon si types hen\n",
    "model = GaussianNB().fit(X, y)\n",
    "model"
   ]
  },
  {
   "cell_type": "code",
   "execution_count": null,
   "metadata": {},
   "outputs": [],
   "source": [
    "# traing the model on training set\n",
    "from sklearn.model_selection import train_test_split\n",
    "X_train, X_test, y_train, y_test = train_test_split(X, y, test_size=0.2, random_state=0)\n"
   ]
  },
  {
   "cell_type": "code",
   "execution_count": null,
   "metadata": {},
   "outputs": [],
   "source": [
    "# training the model on training set\n",
    "from sklearn.naive_bayes import GaussianNB\n",
    "model = GaussianNB().fit(X_train, y_train)\n",
    "#making predictions on the testing set\n",
    "y_pred = model.predict(X_test)\n",
    "y_pred\n"
   ]
  },
  {
   "cell_type": "code",
   "execution_count": null,
   "metadata": {},
   "outputs": [],
   "source": [
    "from sklearn import metrics \n",
    "score = metrics.accuracy_score(y_test, y_pred)\n",
    "print(\"Gaussian Naive Bayes model accuracy(in %): \", metrics.accuracy_score(y_test, y_pred)*100, '%')"
   ]
  },
  {
   "cell_type": "code",
   "execution_count": null,
   "metadata": {},
   "outputs": [],
   "source": [
    "# confusion metrics\n",
    "from sklearn import metrics\n",
    "cm = metrics.confusion_matrix(y_test, y_pred)\n",
    "cm"
   ]
  },
  {
   "cell_type": "code",
   "execution_count": null,
   "metadata": {},
   "outputs": [],
   "source": [
    "import seaborn as sns\n",
    "plt.figure(figsize=(12,12))\n",
    "sns.heatmap(cm, annot=True, fmt='.3f', linewidths=.5, square = True, cmap='Spectral')\n",
    "plt.ylabel('Actual label')\n",
    "plt.xlabel('Predicted label')\n",
    "all_sample_title = 'Gaussian Naive Bayes model accuracy(in %): {0}'.format(score*100)\n",
    "plt.title(all_sample_title, size = 15)"
   ]
  },
  {
   "cell_type": "markdown",
   "metadata": {},
   "source": [
    "# Other Types of Naive Bayes Algorithm\n",
    "- Multinomial Naive Bayes\n",
    "- Complement Naive Bayes\n",
    "- Bernoulli Naive Bayes\n",
    "- Categorical Naive Bayes\n",
    "- Out-of-core naive Bayes model fitting"
   ]
  },
  {
   "cell_type": "code",
   "execution_count": null,
   "metadata": {},
   "outputs": [],
   "source": [
    "import pandas as pd\n",
    "import numpy as np\n",
    "import seaborn as sns\n"
   ]
  },
  {
   "cell_type": "code",
   "execution_count": null,
   "metadata": {},
   "outputs": [],
   "source": [
    "df = pd.read_csv('ml_data_salary.csv')"
   ]
  },
  {
   "cell_type": "code",
   "execution_count": null,
   "metadata": {},
   "outputs": [],
   "source": [
    "# Inputs and Outputs\n",
    "X = df.iloc[:, :-1]\n",
    "y = df.iloc[:, -1:] "
   ]
  },
  {
   "cell_type": "code",
   "execution_count": null,
   "metadata": {},
   "outputs": [],
   "source": [
    "X.head()"
   ]
  },
  {
   "cell_type": "code",
   "execution_count": null,
   "metadata": {},
   "outputs": [],
   "source": [
    "y.head()"
   ]
  },
  {
   "cell_type": "code",
   "execution_count": null,
   "metadata": {},
   "outputs": [],
   "source": [
    "# training and fitting the model\n",
    "from sklearn.naive_bayes import GaussianNB #assignment:what is Gaussian naive bayes? or kon kon si types hen\n",
    "model = GaussianNB().fit(X, y)\n",
    "model"
   ]
  },
  {
   "cell_type": "code",
   "execution_count": null,
   "metadata": {},
   "outputs": [],
   "source": [
    "# traing the model on training set\n",
    "from sklearn.model_selection import train_test_split\n",
    "X_train, X_test, y_train, y_test = train_test_split(X, y, test_size=0.2, random_state=0)"
   ]
  },
  {
   "cell_type": "code",
   "execution_count": null,
   "metadata": {},
   "outputs": [],
   "source": [
    "# training the model on training set\n",
    "from sklearn.naive_bayes import GaussianNB\n",
    "model = GaussianNB().fit(X_train, y_train)\n",
    "#making predictions on the testing set\n",
    "y_pred = model.predict([[32.0,\t80.00,\t2.0]])\n",
    "y_pred\n"
   ]
  },
  {
   "cell_type": "code",
   "execution_count": null,
   "metadata": {},
   "outputs": [],
   "source": [
    "import pandas as pd\n",
    "import numpy as np\n",
    "import seaborn as sns\n"
   ]
  },
  {
   "cell_type": "code",
   "execution_count": null,
   "metadata": {},
   "outputs": [],
   "source": [
    "df = pd.read_csv('flights.csv')"
   ]
  },
  {
   "cell_type": "code",
   "execution_count": null,
   "metadata": {},
   "outputs": [],
   "source": [
    "df.head()"
   ]
  },
  {
   "cell_type": "code",
   "execution_count": null,
   "metadata": {},
   "outputs": [],
   "source": [
    "# Inputs and Outputs\n",
    "X = df.iloc[:, :-1]\n",
    "y = df.iloc[:, -1:] "
   ]
  },
  {
   "cell_type": "code",
   "execution_count": null,
   "metadata": {},
   "outputs": [],
   "source": [
    "df['month'] = df['month'].replace(\"January\", 1)\n",
    "df['month'] = df['month'].replace(\"February\", 2)\n",
    "df['month'] = df['month'].replace(\"March\", 3)\n",
    "df['month'] = df['month'].replace(\"April\", 4)\n",
    "df['month'] = df['month'].replace(\"May\", 5)\n",
    "df['month'] = df['month'].replace(\"June\", 6)\n",
    "df['month'] = df['month'].replace(\"July\", 7)\n",
    "df['month'] = df['month'].replace(\"August\", 8)\n",
    "df['month'] = df['month'].replace(\"September\",9)\n",
    "df['month'] = df['month'].replace(\"October\",10)\n",
    "df['month'] = df['month'].replace(\"November\", 11)\n",
    "df['month'] = df['month'].replace(\"December\", 12)\n",
    "\n"
   ]
  },
  {
   "cell_type": "code",
   "execution_count": null,
   "metadata": {},
   "outputs": [],
   "source": [
    "df.head(11)"
   ]
  },
  {
   "cell_type": "code",
   "execution_count": null,
   "metadata": {},
   "outputs": [],
   "source": [
    "# Inputs and Outputs\n",
    "X = df.iloc[:, :-1]\n",
    "y = df.iloc[:, -1:] "
   ]
  },
  {
   "cell_type": "code",
   "execution_count": null,
   "metadata": {},
   "outputs": [],
   "source": [
    "# training and fitting the model\n",
    "from sklearn.naive_bayes import GaussianNB #assignment:what is Gaussian naive bayes? or kon kon si types hen\n",
    "model = GaussianNB().fit(X, y)\n",
    "model"
   ]
  },
  {
   "cell_type": "code",
   "execution_count": null,
   "metadata": {},
   "outputs": [],
   "source": [
    "# traing the model on training set\n",
    "from sklearn.model_selection import train_test_split\n",
    "X_train, X_test, y_train, y_test = train_test_split(X, y, test_size=0.2, random_state=0)\n"
   ]
  },
  {
   "cell_type": "code",
   "execution_count": null,
   "metadata": {},
   "outputs": [],
   "source": [
    "# # training the model on training set\n",
    "from sklearn.naive_bayes import GaussianNB\n",
    "model = GaussianNB().fit(X_train, y_train)\n",
    "#making predictions on the testing set\n",
    "y_pred = model.predict(X_test)\n",
    "y_pred\n"
   ]
  },
  {
   "cell_type": "code",
   "execution_count": null,
   "metadata": {},
   "outputs": [],
   "source": [
    "from sklearn import metrics \n",
    "score = metrics.accuracy_score(y_test, y_pred)\n",
    "print(\"Gaussian Naive Bayes model accuracy(in %): \", metrics.accuracy_score(y_test, y_pred))"
   ]
  },
  {
   "cell_type": "code",
   "execution_count": null,
   "metadata": {},
   "outputs": [],
   "source": [
    "# confusion metrics\n",
    "from sklearn import metrics\n",
    "cm = metrics.confusion_matrix(y_test, y_pred)\n",
    "cm"
   ]
  },
  {
   "cell_type": "markdown",
   "metadata": {},
   "source": [
    "# Support Vector Machine"
   ]
  },
  {
   "cell_type": "code",
   "execution_count": null,
   "metadata": {},
   "outputs": [],
   "source": [
    "#Import Scikit-learn dataset libray\n",
    "from sklearn import datasets\n",
    "#load datsets\n",
    "cancer = datasets.load_breast_cancer()\n",
    " "
   ]
  },
  {
   "cell_type": "code",
   "execution_count": null,
   "metadata": {},
   "outputs": [],
   "source": [
    "# print tha names of the 13 featured \n",
    "print (\"Features: \", cancer.feature_names)\n",
    "\n",
    "# print tha label type of cancer('malignant', 'bengin')\n",
    "print (\"Features: \", cancer.feature_names)"
   ]
  },
  {
   "cell_type": "code",
   "execution_count": null,
   "metadata": {},
   "outputs": [],
   "source": [
    "# Print data(feature)shape\n",
    "cancer.data.shape"
   ]
  },
  {
   "cell_type": "code",
   "execution_count": null,
   "metadata": {},
   "outputs": [],
   "source": [
    "# print the cancer data features (top 5 records)\n",
    "print(cancer.data[0:5])"
   ]
  },
  {
   "cell_type": "code",
   "execution_count": null,
   "metadata": {},
   "outputs": [],
   "source": [
    "#print the cancer labels (0:malignant, benign)\n",
    "print(cancer.target)"
   ]
  },
  {
   "cell_type": "code",
   "execution_count": null,
   "metadata": {},
   "outputs": [],
   "source": [
    "# traing the model on training set\n",
    "from sklearn.model_selection import train_test_split\n",
    "X_train, X_test, y_train, y_test = train_test_split(cancer.data, cancer.target, test_size=0.2, random_state=0)"
   ]
  },
  {
   "cell_type": "code",
   "execution_count": null,
   "metadata": {},
   "outputs": [],
   "source": [
    "#from svvm model\n",
    "from sklearn import svm\n",
    "\n",
    "#create a svm Classifier\n",
    "clf = svm.SVC(kernel='linear')# Linear Kernel\n",
    "\n",
    "# Train the model using the training sets\n",
    "clf.fit(X_train, y_train)\n",
    "\n",
    "#Predict the response for test dataset \n",
    "y_pred = clf.predict(X_test)\n"
   ]
  },
  {
   "cell_type": "code",
   "execution_count": null,
   "metadata": {},
   "outputs": [],
   "source": [
    "# Import scikit-learn metics module for accuracy calculation\n",
    "from sklearn import metrics \n",
    "score = metrics.accuracy_score(y_test, y_pred)\n",
    "print(\"Accuracy:\", metrics.accuracy_score(y_test, y_pred))\n"
   ]
  },
  {
   "cell_type": "code",
   "execution_count": null,
   "metadata": {},
   "outputs": [],
   "source": [
    "# Model Precision: what percentage of positive tuples are labeled as such?\n",
    "print(\"Precision:\", metrics.precision_score(y_test, y_pred))\n",
    "\n",
    "# Model Recall: what percentage of positive tuples are labeled as such?\n",
    "print(\"Recall:\", metrics.recall_score(y_test, y_pred))"
   ]
  },
  {
   "cell_type": "code",
   "execution_count": null,
   "metadata": {},
   "outputs": [],
   "source": [
    "# Confusion metrix\n",
    "from sklearn import metrics\n",
    "cm = metrics.confusion_matrix(y_test, y_pred)\n",
    "cm"
   ]
  },
  {
   "cell_type": "code",
   "execution_count": null,
   "metadata": {},
   "outputs": [],
   "source": [
    "import seaborn as sns\n",
    "import matplotlib.pyplot as plt\n",
    "plt.figure(figsize=(12,12))\n",
    "sns.heatmap(cm, annot=True, fmt='.3f', linewidths=.5, square = True, cmap='Spectral')\n",
    "plt.ylabel('Actual label')\n",
    "plt.xlabel('Predicted label')\n",
    "all_sample_title = 'SVM model accuracy(in %): {0}'.format(score*100)\n",
    "plt.title(all_sample_title, size = 15)"
   ]
  }
 ],
 "metadata": {
  "interpreter": {
   "hash": "c77235ce7b9e18694fb9c32b8bddc25f7d1e1c2ceb7781d526098ac1d2cb6caf"
  },
  "kernelspec": {
   "display_name": "Python 3.10.2 64-bit",
   "language": "python",
   "name": "python3"
  },
  "language_info": {
   "codemirror_mode": {
    "name": "ipython",
    "version": 3
   },
   "file_extension": ".py",
   "mimetype": "text/x-python",
   "name": "python",
   "nbconvert_exporter": "python",
   "pygments_lexer": "ipython3",
   "version": "3.10.2"
  },
  "orig_nbformat": 4
 },
 "nbformat": 4,
 "nbformat_minor": 2
}
