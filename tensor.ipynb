{
 "cells": [
  {
   "cell_type": "code",
   "execution_count": 6,
   "metadata": {},
   "outputs": [],
   "source": [
    "# Import `tensorflow` and `pandas`\n",
    "import tensorflow as tf\n",
    "import pandas as pd\n",
    "\n",
    "COLUMN_NAMES = [\n",
    "        'SepalLength', \n",
    "        'SepalWidth',\n",
    "        'PetalLength', \n",
    "        'PetalWidth', \n",
    "        'Species'\n",
    "        ]\n",
    "\n",
    "# Import training dataset\n",
    "training_dataset = pd.read_csv('iris.csv', names=COLUMN_NAMES, header=0)\n",
    "train_x = training_dataset.iloc[:, 0:4]\n",
    "train_y = training_dataset.iloc[:, 4]\n",
    "\n",
    "# Import testing dataset\n",
    "test_dataset = pd.read_csv('iris.csv', names=COLUMN_NAMES, header=0)\n",
    "test_x = test_dataset.iloc[:, 0:4]\n",
    "test_y = test_dataset.iloc[:, 4]"
   ]
  }
 ],
 "metadata": {
  "interpreter": {
   "hash": "7d879eeb156f65419db01e8a572f4f27c0bd6f53e98e8ef3c73ec73573d4a5b4"
  },
  "kernelspec": {
   "display_name": "Python 3.10.4 64-bit",
   "language": "python",
   "name": "python3"
  },
  "language_info": {
   "codemirror_mode": {
    "name": "ipython",
    "version": 3
   },
   "file_extension": ".py",
   "mimetype": "text/x-python",
   "name": "python",
   "nbconvert_exporter": "python",
   "pygments_lexer": "ipython3",
   "version": "3.10.4"
  },
  "orig_nbformat": 4
 },
 "nbformat": 4,
 "nbformat_minor": 2
}
