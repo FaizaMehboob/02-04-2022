{
 "cells": [
  {
   "cell_type": "markdown",
   "metadata": {},
   "source": [
    "# Flight price prediction model\n",
    "\n",
    "## Instructions:\n",
    "1. you will have a datset.\n",
    "2. Find the cheapest and expenses flight at a specifics time.\n",
    "3. You have to go through EDA\n",
    "4. ML Model\n",
    "5. Find a sweet spot for a cheap ticket.\n",
    "\n",
    "* Ahmed is a customer of Sastaticket.pk. He is planning to fly from Karachi to Islamabad for his brother's wedding and is currently i the process of choosing tickets. Ahmed has to go to Islamabad but Ahmed also wants to svae some money in the process, so he chooses to wait instead of buy now, simply beacuse ticket prices are just too high.\n",
    "* Is this the right decision? Won't ticket increase in the future? Perhaps there is a sweet-spot Ahmed is hoping to find and mayber he just might find it. This is the problem that you will be tackling in the competition.\n",
    "* Can you predict future prices accurately tosucha degree that you can now tell Ahmed - with confidence - that he has made the wrong decision. Your task boils down to generating optimal predictions for flight prices of multiple airlines. If successfull, your model will contribute greatly to Sastaticket's rich and diverse set of operating algorithms.   "
   ]
  },
  {
   "cell_type": "markdown",
   "metadata": {},
   "source": [
    "# 1. Exploratory Data Analysis:\n",
    "we will ectract information from our data"
   ]
  },
  {
   "cell_type": "code",
   "execution_count": null,
   "metadata": {},
   "outputs": [],
   "source": [
    "# import libraries\n",
    "import pandas as pd\n",
    "import matplotlib.pyplot as plt\n",
    "import numpy as np\n",
    "import seaborn as sns"
   ]
  },
  {
   "cell_type": "code",
   "execution_count": null,
   "metadata": {},
   "outputs": [],
   "source": [
    "# df = df.sample(5000) #trick to make sample dataset"
   ]
  },
  {
   "cell_type": "code",
   "execution_count": null,
   "metadata": {},
   "outputs": [],
   "source": [
    "from urllib.request import urlretrieve\n",
    "urlretrieve(\"https://raw.githubusercontent.com/AammarTufail/machinelearning_ka_chilla/master/Sastaticket_datasets/sastaticket_test.csv\", \"sastaticket_test.csv\")"
   ]
  },
  {
   "cell_type": "code",
   "execution_count": null,
   "metadata": {},
   "outputs": [],
   "source": [
    "from urllib.request import urlretrieve\n",
    "urlretrieve(\"https://raw.githubusercontent.com/AammarTufail/machinelearning_ka_chilla/master/Sastaticket_datasets/sastaticket_train.csv\", \"sastaticket_train.csv\")"
   ]
  },
  {
   "cell_type": "code",
   "execution_count": null,
   "metadata": {},
   "outputs": [],
   "source": [
    "# saving a csv file for training dataset\n",
    "df = pd.read_csv('resources/sastaticket_train.csv')\n",
    "df.head()"
   ]
  },
  {
   "cell_type": "code",
   "execution_count": null,
   "metadata": {},
   "outputs": [],
   "source": [
    "df_test = pd.read_csv('resources/sastaticket_test.csv')\n",
    "df_test.head()\n",
    "# this will give me a chance to look your assignments "
   ]
  },
  {
   "cell_type": "code",
   "execution_count": null,
   "metadata": {},
   "outputs": [],
   "source": [
    "# EDA analysis\n",
    "print(\"Column, Rows\", df.shape)"
   ]
  },
  {
   "cell_type": "code",
   "execution_count": null,
   "metadata": {},
   "outputs": [],
   "source": [
    "# structure\n",
    "df.info()"
   ]
  },
  {
   "cell_type": "code",
   "execution_count": null,
   "metadata": {},
   "outputs": [],
   "source": [
    "# check nul values\n",
    "df.isnull().sum()"
   ]
  },
  {
   "cell_type": "code",
   "execution_count": null,
   "metadata": {},
   "outputs": [],
   "source": [
    "# summary stats\n",
    "df.describe()"
   ]
  },
  {
   "cell_type": "code",
   "execution_count": null,
   "metadata": {},
   "outputs": [],
   "source": [
    "df.head()"
   ]
  },
  {
   "cell_type": "code",
   "execution_count": null,
   "metadata": {},
   "outputs": [],
   "source": [
    "print(df.columns)"
   ]
  },
  {
   "cell_type": "code",
   "execution_count": null,
   "metadata": {},
   "outputs": [],
   "source": [
    "# Feature Engineering\n",
    "#Finding unique values in categorical lists\n",
    "cat_list = ['f2', 'f3', 'f6', 'f8', 'f9', 'f10']\n",
    "\n",
    "#unique value in each column\n",
    "for i in cat_list:\n",
    "    print(i, df[i].unique())\n",
    "    print('........................................') #seprater line"
   ]
  },
  {
   "cell_type": "markdown",
   "metadata": {},
   "source": [
    "- We will remove these two columns f2['x'], f3['y'] because they dont have any multiple unique values\n",
    "will remove 'f10'its flight no.. "
   ]
  },
  {
   "cell_type": "markdown",
   "metadata": {},
   "source": [
    "Assignment\\\n",
    "if axis axis =1, it means column delete krnna hai, if\n",
    "axis =0, mean just row delet krni hen NaN wali column nhi poora."
   ]
  },
  {
   "cell_type": "code",
   "execution_count": null,
   "metadata": {},
   "outputs": [],
   "source": [
    "df.drop(['Unnamed: 0', 'f2', 'f3', 'f10'], axis=1, inplace=True)"
   ]
  },
  {
   "cell_type": "code",
   "execution_count": null,
   "metadata": {},
   "outputs": [],
   "source": [
    "df.drop(['Unnamed: 0.1', 'Unnamed: 0.2'], axis=1, inplace=True)"
   ]
  },
  {
   "cell_type": "code",
   "execution_count": null,
   "metadata": {},
   "outputs": [],
   "source": [
    "df.head()"
   ]
  },
  {
   "cell_type": "code",
   "execution_count": null,
   "metadata": {},
   "outputs": [],
   "source": [
    "# type casting \n",
    "df.info()"
   ]
  },
  {
   "cell_type": "code",
   "execution_count": null,
   "metadata": {},
   "outputs": [],
   "source": [
    "# convert them into dateandtime objects\n",
    "from datetime import date,datetime\n",
    "df['f1'] = pd.to_datetime(df['f1'])\n",
    "df['f4'] = pd.to_datetime(df['f4'])\n",
    "df['f5'] = pd.to_datetime(df['f5'])"
   ]
  },
  {
   "cell_type": "code",
   "execution_count": null,
   "metadata": {},
   "outputs": [],
   "source": [
    "df.info()"
   ]
  },
  {
   "cell_type": "code",
   "execution_count": null,
   "metadata": {},
   "outputs": [],
   "source": [
    "# adding columns after substraction\n",
    "df.insert(0, \"time_to_dep(s)\", ((df['f4']-df['f1']).astype('timedelta64[s]')), True)\n",
    "df.insert(1, \"travel_time(s)\", ((df['f5']-df['f4']).astype('timedelta64[s]')), True)"
   ]
  },
  {
   "cell_type": "code",
   "execution_count": null,
   "metadata": {},
   "outputs": [],
   "source": [
    "df.head()"
   ]
  },
  {
   "cell_type": "code",
   "execution_count": null,
   "metadata": {},
   "outputs": [],
   "source": [
    "df.isnull().sum()"
   ]
  },
  {
   "cell_type": "code",
   "execution_count": null,
   "metadata": {},
   "outputs": [],
   "source": [
    "df = df.rename(columns={'f12' : 'f1'})"
   ]
  },
  {
   "cell_type": "code",
   "execution_count": null,
   "metadata": {},
   "outputs": [],
   "source": [
    "df.head()"
   ]
  },
  {
   "cell_type": "code",
   "execution_count": null,
   "metadata": {},
   "outputs": [],
   "source": [
    "cat_cols = ['f6', 'f7','f8','f9']\n",
    "num_cols = ['time_to_dep(s)', 'travel_time(s)']"
   ]
  },
  {
   "cell_type": "code",
   "execution_count": null,
   "metadata": {},
   "outputs": [],
   "source": [
    "# Plotting categorical count plot\n",
    "c=1\n",
    "plt.figure(figsize= (30, 30))\n",
    "for i in cat_cols:\n",
    "    plt.subplot(2,4,c)\n",
    "    sns.countplot(df[i])\n",
    "    plt.xticks(rotation=90)\n",
    "    c= c+1\n",
    "plt.show()"
   ]
  },
  {
   "cell_type": "code",
   "execution_count": null,
   "metadata": {},
   "outputs": [],
   "source": [
    "# Plotting numerical count plot\n",
    "c=1\n",
    "plt.figure(figsize= (10, 30))\n",
    "for i in num_cols:\n",
    "    plt.subplot(6,3,c)\n",
    "    sns.distplot(df[i])\n",
    "    c= c+1\n",
    "plt.show()"
   ]
  },
  {
   "cell_type": "code",
   "execution_count": null,
   "metadata": {},
   "outputs": [],
   "source": [
    "c=1\n",
    "plt.figure(figsize= (10, 30))\n",
    "for i in num_cols:\n",
    "    plt.subplot(6,3,c)\n",
    "    sns.boxplot(df[i])\n",
    "    c= c+1\n",
    "plt.show()"
   ]
  },
  {
   "cell_type": "code",
   "execution_count": null,
   "metadata": {},
   "outputs": [],
   "source": [
    "# target \n",
    "sns.distplot(df['target'])"
   ]
  },
  {
   "cell_type": "code",
   "execution_count": null,
   "metadata": {},
   "outputs": [],
   "source": [
    "sns.boxplot(df['target'])"
   ]
  },
  {
   "cell_type": "code",
   "execution_count": null,
   "metadata": {},
   "outputs": [],
   "source": [
    "# skew and kurtosis\n",
    "df.skew()\n",
    "df.kurtosis()\n",
    "# out liers removal # task"
   ]
  },
  {
   "cell_type": "code",
   "execution_count": null,
   "metadata": {},
   "outputs": [],
   "source": [
    "# encoding of variables\n",
    "df.head()"
   ]
  },
  {
   "cell_type": "code",
   "execution_count": null,
   "metadata": {},
   "outputs": [],
   "source": [
    "df.drop(['f1', 'f4', 'f5'], axis=1, inplace=True)"
   ]
  },
  {
   "cell_type": "code",
   "execution_count": null,
   "metadata": {},
   "outputs": [],
   "source": [
    "df.head()"
   ]
  },
  {
   "cell_type": "code",
   "execution_count": null,
   "metadata": {},
   "outputs": [],
   "source": [
    "# encoding \n",
    "from sklearn.preprocessing import LabelEncoder\n",
    "le = LabelEncoder()"
   ]
  },
  {
   "cell_type": "code",
   "execution_count": null,
   "metadata": {},
   "outputs": [],
   "source": [
    "#apply label encoder \n",
    "df['f6'] = le.fit_transform(df['f6'])\n",
    "df['f7'] = le.fit_transform(df['f7'])\n",
    "df['f8'] = le.fit_transform(df['f8'])"
   ]
  },
  {
   "cell_type": "code",
   "execution_count": null,
   "metadata": {},
   "outputs": [],
   "source": [
    "df.sample(10)"
   ]
  },
  {
   "cell_type": "code",
   "execution_count": null,
   "metadata": {},
   "outputs": [],
   "source": [
    "# df.describe()"
   ]
  },
  {
   "cell_type": "markdown",
   "metadata": {},
   "source": [
    "Assignmnet ye scaler krna hai ya nhi"
   ]
  },
  {
   "cell_type": "code",
   "execution_count": null,
   "metadata": {},
   "outputs": [],
   "source": [
    "# from sklearn.preprocessing import StandardScaler\n",
    "# sc = StandardScaler() # only on numerical variable\n",
    "# df[['time_to_dep(s)']] = sc.fit_transform(df[['time_to_dep(s)']])\n",
    "# df[['travel_time(s)']] = sc.fit_transform(df[['travel_time(s)']])\n",
    "# df[['target']] = sc.fit_transform(df[['target']])"
   ]
  },
  {
   "cell_type": "code",
   "execution_count": null,
   "metadata": {},
   "outputs": [],
   "source": [
    "df.columns"
   ]
  },
  {
   "cell_type": "code",
   "execution_count": null,
   "metadata": {},
   "outputs": [],
   "source": [
    "# splitting our data into X and y\n",
    "\n",
    "X = df.drop(['target'], axis =1)\n",
    "y = df['target']"
   ]
  },
  {
   "cell_type": "code",
   "execution_count": null,
   "metadata": {},
   "outputs": [],
   "source": [
    "X.head()"
   ]
  },
  {
   "cell_type": "code",
   "execution_count": null,
   "metadata": {},
   "outputs": [],
   "source": [
    "y.head()"
   ]
  },
  {
   "cell_type": "markdown",
   "metadata": {},
   "source": [
    "# ML modelling"
   ]
  },
  {
   "cell_type": "code",
   "execution_count": null,
   "metadata": {},
   "outputs": [],
   "source": [
    "# rerfression pipline or algos\n",
    "\n",
    "from sklearn.linear_model import LinearRegression\n",
    "from sklearn.tree import DecisionTreeRegressor\n",
    "from sklearn.svm import SVR\n",
    "from sklearn.neighbors import KNeighborsRegressor\n",
    "from sklearn.model_selection import train_test_split\n",
    "from sklearn.metrics import r2_score, mean_absolute_error, mean_squared_error\n",
    "# regression metircs\n",
    "\n",
    "# root mean squared error\n",
    "# rms = mean_absolute_error(y_test, y_pred, squared =False)"
   ]
  },
  {
   "cell_type": "code",
   "execution_count": null,
   "metadata": {},
   "outputs": [],
   "source": [
    "# shorten the names\n",
    "lr = LinearRegression()\n",
    "dt = DecisionTreeRegressor()\n",
    "svr = SVR()\n",
    "knn = KNeighborsRegressor()"
   ]
  },
  {
   "cell_type": "code",
   "execution_count": null,
   "metadata": {},
   "outputs": [],
   "source": [
    "# lr.fit()\n",
    "# lr =lr(X_train, y_train)\n",
    "# pred = lr.predict() "
   ]
  },
  {
   "cell_type": "markdown",
   "metadata": {},
   "source": [
    "* Assignemnt\\\n",
    "randostate =42, means hm jb ye model run kren gey results same ayega, agr random state=42 ye na lagaen to results thora sa change ata hai"
   ]
  },
  {
   "cell_type": "code",
   "execution_count": null,
   "metadata": {},
   "outputs": [],
   "source": [
    "# model loop\n",
    "\n",
    "X_train, X_test, y_train, y_test = train_test_split(X, y, test_size=0.2, random_state=42)\n",
    "\n",
    "for i in [lr, dt, svr, knn]: # readd all models\n",
    "    i.fit(X_train, y_train) #fitting our model\n",
    "    pred = i.predict(X_test) #predict\n",
    "    test_score = r2_score(y_test, pred) #test score\n",
    "    train_score = r2_score(y_train, i.predict(X_train)) #train score\n",
    "    if abs(train_score-test_score) <= 0.1:\n",
    "        print(i)\n",
    "        print('R2 score is ', r2_score( y_test, pred))\n",
    "        print('Mean Absolute error is ', mean_absolute_error(y_test, pred))\n",
    "        print('Mean Squared error is ', mean_squared_error(y_test, pred))\n",
    "        print('RMSE is', mean_squared_error(y_test, pred, squared= False))\n",
    "        print('------------------------------------------')\n"
   ]
  },
  {
   "cell_type": "markdown",
   "metadata": {},
   "source": [
    "ye jo model yaha a rahe hn inhen select krne chiaye"
   ]
  },
  {
   "cell_type": "code",
   "execution_count": null,
   "metadata": {},
   "outputs": [],
   "source": [
    "# # model loop\n",
    "\n",
    "X_train, X_test, y_train, y_test = train_test_split(X, y, test_size=0.2, random_state=42)\n",
    "\n",
    "for i in [lr, dt, svr, knn]: # readd all models\n",
    "    i.fit(X_train, y_train) #fitting our model\n",
    "    pred = i.predict(X_test) #predict\n",
    "    test_score = r2_score(y_test, pred) #test score\n",
    "    train_score = r2_score(y_train, i.predict(X_train)) #train score\n",
    "    if abs(train_score-test_score) <= 0.1:\n",
    "        print(i)\n",
    "        print('R2 score is ', r2_score( y_test, pred))\n",
    "        print('Mean Absolute error is ', mean_absolute_error(y_test, pred))\n",
    "        print('Mean Squared error is ', mean_squared_error(y_test, pred))\n",
    "        print('RMSE is', mean_squared_error(y_test, pred, squared= False))\n",
    "        print('------------------------------------------')"
   ]
  }
 ],
 "metadata": {
  "language_info": {
   "name": "python"
  },
  "orig_nbformat": 4
 },
 "nbformat": 4,
 "nbformat_minor": 2
}
